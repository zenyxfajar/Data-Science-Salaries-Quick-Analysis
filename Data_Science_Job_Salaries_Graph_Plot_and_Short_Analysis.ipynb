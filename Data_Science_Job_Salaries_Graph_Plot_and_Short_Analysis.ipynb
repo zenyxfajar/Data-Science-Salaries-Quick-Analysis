{
  "nbformat": 4,
  "nbformat_minor": 0,
  "metadata": {
    "colab": {
      "provenance": [],
      "collapsed_sections": []
    },
    "kernelspec": {
      "name": "python3",
      "display_name": "Python 3"
    },
    "language_info": {
      "name": "python"
    }
  },
  "cells": [
    {
      "cell_type": "markdown",
      "source": [
        "#Greetings!"
      ],
      "metadata": {
        "id": "D7qFloivQPbA"
      }
    },
    {
      "cell_type": "markdown",
      "source": [
        "Hello, i wrote this notebook as exercise since I'm now interested in data science. This notebook is about Data Science Job Salaries. The dataset and learning source provided at the bottom of this notebook."
      ],
      "metadata": {
        "id": "0HeH7BTfQOH3"
      }
    },
    {
      "cell_type": "markdown",
      "source": [
        "#1. Import and Read the .csv file"
      ],
      "metadata": {
        "id": "ms0ygQvN150R"
      }
    },
    {
      "cell_type": "code",
      "execution_count": 1,
      "metadata": {
        "id": "JnoacCf112uv"
      },
      "outputs": [],
      "source": [
        "import numpy as np\n",
        "import pandas as pd\n",
        "\n",
        "import plotly.express as px\n",
        "import matplotlib.pyplot as plt\n",
        "import os\n",
        "from wordcloud import WordCloud"
      ]
    },
    {
      "cell_type": "code",
      "source": [
        "pip install pycountry"
      ],
      "metadata": {
        "colab": {
          "base_uri": "https://localhost:8080/"
        },
        "id": "1CQ5A07bPZyR",
        "outputId": "7da70679-02a4-4823-9f30-fcf7615006a7"
      },
      "execution_count": 2,
      "outputs": [
        {
          "output_type": "stream",
          "name": "stdout",
          "text": [
            "Looking in indexes: https://pypi.org/simple, https://us-python.pkg.dev/colab-wheels/public/simple/\n",
            "Collecting pycountry\n",
            "  Downloading pycountry-22.3.5.tar.gz (10.1 MB)\n",
            "\u001b[K     |████████████████████████████████| 10.1 MB 7.1 MB/s \n",
            "\u001b[?25h  Installing build dependencies ... \u001b[?25l\u001b[?25hdone\n",
            "  Getting requirements to build wheel ... \u001b[?25l\u001b[?25hdone\n",
            "    Preparing wheel metadata ... \u001b[?25l\u001b[?25hdone\n",
            "Requirement already satisfied: setuptools in /usr/local/lib/python3.7/dist-packages (from pycountry) (57.4.0)\n",
            "Building wheels for collected packages: pycountry\n",
            "  Building wheel for pycountry (PEP 517) ... \u001b[?25l\u001b[?25hdone\n",
            "  Created wheel for pycountry: filename=pycountry-22.3.5-py2.py3-none-any.whl size=10681845 sha256=a89f9b7982d05c50c5e30dd6937a7d3d6ac0a32e96d2faf68be2543139d3e23f\n",
            "  Stored in directory: /root/.cache/pip/wheels/0e/06/e8/7ee176e95ea9a8a8c3b3afcb1869f20adbd42413d4611c6eb4\n",
            "Successfully built pycountry\n",
            "Installing collected packages: pycountry\n",
            "Successfully installed pycountry-22.3.5\n"
          ]
        }
      ]
    },
    {
      "cell_type": "code",
      "source": [
        "import pycountry"
      ],
      "metadata": {
        "id": "t7t_nzEBPgnC"
      },
      "execution_count": 3,
      "outputs": []
    },
    {
      "cell_type": "code",
      "source": [
        "read = pd.read_csv('ds_salaries.csv',\n",
        "                   index_col=0)\n",
        "df = read.copy()"
      ],
      "metadata": {
        "id": "-4jXXFNZ2jZR"
      },
      "execution_count": 4,
      "outputs": []
    },
    {
      "cell_type": "markdown",
      "source": [
        "#2. Looking at the properties of the dataset"
      ],
      "metadata": {
        "id": "v-9tTWIb3CX5"
      }
    },
    {
      "cell_type": "markdown",
      "source": [
        "Tipe of the datasets"
      ],
      "metadata": {
        "id": "y4qbRtil4Iam"
      }
    },
    {
      "cell_type": "code",
      "source": [
        "df.dtypes"
      ],
      "metadata": {
        "colab": {
          "base_uri": "https://localhost:8080/"
        },
        "id": "SLju7l834KZF",
        "outputId": "66b5e9fe-ccc7-49b9-c73d-4ee843834879"
      },
      "execution_count": 13,
      "outputs": [
        {
          "output_type": "execute_result",
          "data": {
            "text/plain": [
              "work_year              int64\n",
              "experience_level      object\n",
              "employment_type       object\n",
              "job_title             object\n",
              "salary                 int64\n",
              "salary_currency       object\n",
              "salary_in_usd          int64\n",
              "employee_residence    object\n",
              "remote_ratio           int64\n",
              "company_location      object\n",
              "company_size          object\n",
              "dtype: object"
            ]
          },
          "metadata": {},
          "execution_count": 13
        }
      ]
    },
    {
      "cell_type": "markdown",
      "source": [
        "Show the first five rows from the datasets"
      ],
      "metadata": {
        "id": "53oIYrW14nKD"
      }
    },
    {
      "cell_type": "code",
      "source": [
        "df.head()"
      ],
      "metadata": {
        "colab": {
          "base_uri": "https://localhost:8080/",
          "height": 409
        },
        "id": "uyrdBlBg29YX",
        "outputId": "ce7a8259-e516-4b08-a776-891acdcddf6d"
      },
      "execution_count": 37,
      "outputs": [
        {
          "output_type": "execute_result",
          "data": {
            "text/plain": [
              "   work_year experience_level employment_type                   job_title  \\\n",
              "0       2020               MI              FT              Data Scientist   \n",
              "1       2020               SE              FT  Machine Learning Scientist   \n",
              "2       2020               SE              FT           Big Data Engineer   \n",
              "3       2020               MI              FT        Product Data Analyst   \n",
              "4       2020               SE              FT   Machine Learning Engineer   \n",
              "\n",
              "   salary salary_currency  salary_in_usd employee_residence  remote_ratio  \\\n",
              "0   70000             EUR          79833                 DE             0   \n",
              "1  260000             USD         260000                 JP             0   \n",
              "2   85000             GBP         109024                 GB            50   \n",
              "3   20000             USD          20000                 HN             0   \n",
              "4  150000             USD         150000                 US            50   \n",
              "\n",
              "  company_location company_size  \n",
              "0               DE            L  \n",
              "1               JP            S  \n",
              "2               GB            M  \n",
              "3               HN            S  \n",
              "4               US            L  "
            ],
            "text/html": [
              "\n",
              "  <div id=\"df-e47a7f13-7d8a-4a6a-a18d-a66fda81851b\">\n",
              "    <div class=\"colab-df-container\">\n",
              "      <div>\n",
              "<style scoped>\n",
              "    .dataframe tbody tr th:only-of-type {\n",
              "        vertical-align: middle;\n",
              "    }\n",
              "\n",
              "    .dataframe tbody tr th {\n",
              "        vertical-align: top;\n",
              "    }\n",
              "\n",
              "    .dataframe thead th {\n",
              "        text-align: right;\n",
              "    }\n",
              "</style>\n",
              "<table border=\"1\" class=\"dataframe\">\n",
              "  <thead>\n",
              "    <tr style=\"text-align: right;\">\n",
              "      <th></th>\n",
              "      <th>work_year</th>\n",
              "      <th>experience_level</th>\n",
              "      <th>employment_type</th>\n",
              "      <th>job_title</th>\n",
              "      <th>salary</th>\n",
              "      <th>salary_currency</th>\n",
              "      <th>salary_in_usd</th>\n",
              "      <th>employee_residence</th>\n",
              "      <th>remote_ratio</th>\n",
              "      <th>company_location</th>\n",
              "      <th>company_size</th>\n",
              "    </tr>\n",
              "  </thead>\n",
              "  <tbody>\n",
              "    <tr>\n",
              "      <th>0</th>\n",
              "      <td>2020</td>\n",
              "      <td>MI</td>\n",
              "      <td>FT</td>\n",
              "      <td>Data Scientist</td>\n",
              "      <td>70000</td>\n",
              "      <td>EUR</td>\n",
              "      <td>79833</td>\n",
              "      <td>DE</td>\n",
              "      <td>0</td>\n",
              "      <td>DE</td>\n",
              "      <td>L</td>\n",
              "    </tr>\n",
              "    <tr>\n",
              "      <th>1</th>\n",
              "      <td>2020</td>\n",
              "      <td>SE</td>\n",
              "      <td>FT</td>\n",
              "      <td>Machine Learning Scientist</td>\n",
              "      <td>260000</td>\n",
              "      <td>USD</td>\n",
              "      <td>260000</td>\n",
              "      <td>JP</td>\n",
              "      <td>0</td>\n",
              "      <td>JP</td>\n",
              "      <td>S</td>\n",
              "    </tr>\n",
              "    <tr>\n",
              "      <th>2</th>\n",
              "      <td>2020</td>\n",
              "      <td>SE</td>\n",
              "      <td>FT</td>\n",
              "      <td>Big Data Engineer</td>\n",
              "      <td>85000</td>\n",
              "      <td>GBP</td>\n",
              "      <td>109024</td>\n",
              "      <td>GB</td>\n",
              "      <td>50</td>\n",
              "      <td>GB</td>\n",
              "      <td>M</td>\n",
              "    </tr>\n",
              "    <tr>\n",
              "      <th>3</th>\n",
              "      <td>2020</td>\n",
              "      <td>MI</td>\n",
              "      <td>FT</td>\n",
              "      <td>Product Data Analyst</td>\n",
              "      <td>20000</td>\n",
              "      <td>USD</td>\n",
              "      <td>20000</td>\n",
              "      <td>HN</td>\n",
              "      <td>0</td>\n",
              "      <td>HN</td>\n",
              "      <td>S</td>\n",
              "    </tr>\n",
              "    <tr>\n",
              "      <th>4</th>\n",
              "      <td>2020</td>\n",
              "      <td>SE</td>\n",
              "      <td>FT</td>\n",
              "      <td>Machine Learning Engineer</td>\n",
              "      <td>150000</td>\n",
              "      <td>USD</td>\n",
              "      <td>150000</td>\n",
              "      <td>US</td>\n",
              "      <td>50</td>\n",
              "      <td>US</td>\n",
              "      <td>L</td>\n",
              "    </tr>\n",
              "  </tbody>\n",
              "</table>\n",
              "</div>\n",
              "      <button class=\"colab-df-convert\" onclick=\"convertToInteractive('df-e47a7f13-7d8a-4a6a-a18d-a66fda81851b')\"\n",
              "              title=\"Convert this dataframe to an interactive table.\"\n",
              "              style=\"display:none;\">\n",
              "        \n",
              "  <svg xmlns=\"http://www.w3.org/2000/svg\" height=\"24px\"viewBox=\"0 0 24 24\"\n",
              "       width=\"24px\">\n",
              "    <path d=\"M0 0h24v24H0V0z\" fill=\"none\"/>\n",
              "    <path d=\"M18.56 5.44l.94 2.06.94-2.06 2.06-.94-2.06-.94-.94-2.06-.94 2.06-2.06.94zm-11 1L8.5 8.5l.94-2.06 2.06-.94-2.06-.94L8.5 2.5l-.94 2.06-2.06.94zm10 10l.94 2.06.94-2.06 2.06-.94-2.06-.94-.94-2.06-.94 2.06-2.06.94z\"/><path d=\"M17.41 7.96l-1.37-1.37c-.4-.4-.92-.59-1.43-.59-.52 0-1.04.2-1.43.59L10.3 9.45l-7.72 7.72c-.78.78-.78 2.05 0 2.83L4 21.41c.39.39.9.59 1.41.59.51 0 1.02-.2 1.41-.59l7.78-7.78 2.81-2.81c.8-.78.8-2.07 0-2.86zM5.41 20L4 18.59l7.72-7.72 1.47 1.35L5.41 20z\"/>\n",
              "  </svg>\n",
              "      </button>\n",
              "      \n",
              "  <style>\n",
              "    .colab-df-container {\n",
              "      display:flex;\n",
              "      flex-wrap:wrap;\n",
              "      gap: 12px;\n",
              "    }\n",
              "\n",
              "    .colab-df-convert {\n",
              "      background-color: #E8F0FE;\n",
              "      border: none;\n",
              "      border-radius: 50%;\n",
              "      cursor: pointer;\n",
              "      display: none;\n",
              "      fill: #1967D2;\n",
              "      height: 32px;\n",
              "      padding: 0 0 0 0;\n",
              "      width: 32px;\n",
              "    }\n",
              "\n",
              "    .colab-df-convert:hover {\n",
              "      background-color: #E2EBFA;\n",
              "      box-shadow: 0px 1px 2px rgba(60, 64, 67, 0.3), 0px 1px 3px 1px rgba(60, 64, 67, 0.15);\n",
              "      fill: #174EA6;\n",
              "    }\n",
              "\n",
              "    [theme=dark] .colab-df-convert {\n",
              "      background-color: #3B4455;\n",
              "      fill: #D2E3FC;\n",
              "    }\n",
              "\n",
              "    [theme=dark] .colab-df-convert:hover {\n",
              "      background-color: #434B5C;\n",
              "      box-shadow: 0px 1px 3px 1px rgba(0, 0, 0, 0.15);\n",
              "      filter: drop-shadow(0px 1px 2px rgba(0, 0, 0, 0.3));\n",
              "      fill: #FFFFFF;\n",
              "    }\n",
              "  </style>\n",
              "\n",
              "      <script>\n",
              "        const buttonEl =\n",
              "          document.querySelector('#df-e47a7f13-7d8a-4a6a-a18d-a66fda81851b button.colab-df-convert');\n",
              "        buttonEl.style.display =\n",
              "          google.colab.kernel.accessAllowed ? 'block' : 'none';\n",
              "\n",
              "        async function convertToInteractive(key) {\n",
              "          const element = document.querySelector('#df-e47a7f13-7d8a-4a6a-a18d-a66fda81851b');\n",
              "          const dataTable =\n",
              "            await google.colab.kernel.invokeFunction('convertToInteractive',\n",
              "                                                     [key], {});\n",
              "          if (!dataTable) return;\n",
              "\n",
              "          const docLinkHtml = 'Like what you see? Visit the ' +\n",
              "            '<a target=\"_blank\" href=https://colab.research.google.com/notebooks/data_table.ipynb>data table notebook</a>'\n",
              "            + ' to learn more about interactive tables.';\n",
              "          element.innerHTML = '';\n",
              "          dataTable['output_type'] = 'display_data';\n",
              "          await google.colab.output.renderOutput(dataTable, element);\n",
              "          const docLink = document.createElement('div');\n",
              "          docLink.innerHTML = docLinkHtml;\n",
              "          element.appendChild(docLink);\n",
              "        }\n",
              "      </script>\n",
              "    </div>\n",
              "  </div>\n",
              "  "
            ]
          },
          "metadata": {},
          "execution_count": 37
        }
      ]
    },
    {
      "cell_type": "markdown",
      "source": [
        "From dataset sample below, the 'experience_level', 'employment_type'. 'remote_ratio' value are coded by the company. For outside reader, it's necessary to make it easier to understand. We will replace the values later.\n",
        "\n",
        "\n",
        "\n"
      ],
      "metadata": {
        "id": "R7Ty2DdK6gpw"
      }
    },
    {
      "cell_type": "markdown",
      "source": [
        "We want to know from what year the data is"
      ],
      "metadata": {
        "id": "iH1Dn5oMJJMw"
      }
    },
    {
      "cell_type": "code",
      "source": [
        "df.get(['work_year']).value_counts()"
      ],
      "metadata": {
        "colab": {
          "base_uri": "https://localhost:8080/"
        },
        "id": "JWq3Wmr9JRqx",
        "outputId": "80547cb0-0648-46bc-9a52-48b77c81c77a"
      },
      "execution_count": 64,
      "outputs": [
        {
          "output_type": "execute_result",
          "data": {
            "text/plain": [
              "work_year\n",
              "2022         318\n",
              "2021         217\n",
              "2020          72\n",
              "dtype: int64"
            ]
          },
          "metadata": {},
          "execution_count": 64
        }
      ]
    },
    {
      "cell_type": "markdown",
      "source": [
        "The data year ranging from 2020 to 2021, it's from the pandemic era"
      ],
      "metadata": {
        "id": "a6Uov9BtJeDj"
      }
    },
    {
      "cell_type": "markdown",
      "source": [
        "Next, Let's check whether there is a missing values in the datasets"
      ],
      "metadata": {
        "id": "KIXRI2yW4tEl"
      }
    },
    {
      "cell_type": "code",
      "source": [
        "df.isnull().sum()"
      ],
      "metadata": {
        "colab": {
          "base_uri": "https://localhost:8080/"
        },
        "id": "bHJfP0JY3Bai",
        "outputId": "399ea6c9-88ad-4590-e501-fac92901224b"
      },
      "execution_count": 20,
      "outputs": [
        {
          "output_type": "execute_result",
          "data": {
            "text/plain": [
              "work_year             0\n",
              "experience_level      0\n",
              "employment_type       0\n",
              "job_title             0\n",
              "salary                0\n",
              "salary_currency       0\n",
              "salary_in_usd         0\n",
              "employee_residence    0\n",
              "remote_ratio          0\n",
              "company_location      0\n",
              "company_size          0\n",
              "dtype: int64"
            ]
          },
          "metadata": {},
          "execution_count": 20
        }
      ]
    },
    {
      "cell_type": "markdown",
      "source": [
        "Count the unique value from each columns"
      ],
      "metadata": {
        "id": "I1_h5Wtx5lGE"
      }
    },
    {
      "cell_type": "code",
      "source": [
        "df.nunique()"
      ],
      "metadata": {
        "colab": {
          "base_uri": "https://localhost:8080/"
        },
        "id": "OwvwOQuu4_GU",
        "outputId": "8329b1b3-2fd4-4c1d-def5-c0c5eaf2a7a7"
      },
      "execution_count": 21,
      "outputs": [
        {
          "output_type": "execute_result",
          "data": {
            "text/plain": [
              "work_year               3\n",
              "experience_level        4\n",
              "employment_type         4\n",
              "job_title              50\n",
              "salary                272\n",
              "salary_currency        17\n",
              "salary_in_usd         369\n",
              "employee_residence     57\n",
              "remote_ratio            3\n",
              "company_location       50\n",
              "company_size            3\n",
              "dtype: int64"
            ]
          },
          "metadata": {},
          "execution_count": 21
        }
      ]
    },
    {
      "cell_type": "markdown",
      "source": [
        "#3. Preprocessing some data"
      ],
      "metadata": {
        "id": "jzveBq82598O"
      }
    },
    {
      "cell_type": "markdown",
      "source": [
        "First we need to know what code is used for 'experience_level', 'employment_type'. and 'remote_ratio' column."
      ],
      "metadata": {
        "id": "DtThnWayBPfu"
      }
    },
    {
      "cell_type": "code",
      "source": [
        "df.get(['experience_level']).value_counts()"
      ],
      "metadata": {
        "colab": {
          "base_uri": "https://localhost:8080/"
        },
        "id": "oOKV50tACXRy",
        "outputId": "ef55343a-1074-4640-ea91-24826c1dd148"
      },
      "execution_count": 40,
      "outputs": [
        {
          "output_type": "execute_result",
          "data": {
            "text/plain": [
              "experience_level\n",
              "SE                  280\n",
              "MI                  213\n",
              "EN                   88\n",
              "EX                   26\n",
              "dtype: int64"
            ]
          },
          "metadata": {},
          "execution_count": 40
        }
      ]
    },
    {
      "cell_type": "markdown",
      "source": [
        "For the experience level we knows that\n",
        "1.   EX = Experienced\n",
        "2.   SE = Senior-Level\n",
        "3.   MI = Mid-Level\n",
        "4.   EN = Entry-Level\n",
        "\n"
      ],
      "metadata": {
        "id": "2CmQzQzxC5Tx"
      }
    },
    {
      "cell_type": "code",
      "source": [
        "df.get(['employment_type']).value_counts()"
      ],
      "metadata": {
        "colab": {
          "base_uri": "https://localhost:8080/"
        },
        "id": "8ipJ6UnOCXJa",
        "outputId": "3089caf1-b4e7-4b46-b013-72671d0806ae"
      },
      "execution_count": 41,
      "outputs": [
        {
          "output_type": "execute_result",
          "data": {
            "text/plain": [
              "employment_type\n",
              "FT                 588\n",
              "PT                  10\n",
              "CT                   5\n",
              "FL                   4\n",
              "dtype: int64"
            ]
          },
          "metadata": {},
          "execution_count": 41
        }
      ]
    },
    {
      "cell_type": "markdown",
      "source": [
        "For the employment type we knows that\n",
        "1.   FT = Full-Time\n",
        "2.   PT = Part-Time\n",
        "3.   CT = Contract\n",
        "4.   FL = Freelance\n",
        "\n"
      ],
      "metadata": {
        "id": "PkqPW-PNDPuK"
      }
    },
    {
      "cell_type": "code",
      "source": [
        "df.get(['remote_ratio']).value_counts()"
      ],
      "metadata": {
        "colab": {
          "base_uri": "https://localhost:8080/"
        },
        "id": "JhDJsGrIBmZo",
        "outputId": "58e67522-1ac3-4647-bbe2-a0b6d4cf5d9e"
      },
      "execution_count": 42,
      "outputs": [
        {
          "output_type": "execute_result",
          "data": {
            "text/plain": [
              "remote_ratio\n",
              "100             381\n",
              "0               127\n",
              "50               99\n",
              "dtype: int64"
            ]
          },
          "metadata": {},
          "execution_count": 42
        }
      ]
    },
    {
      "cell_type": "markdown",
      "source": [
        "The remote ratio describe whether the employe is working remote, hybrid or from office as follows\n",
        "1.   0 = Work from office (WFO)\n",
        "2.   50 = Hybrid\n",
        "3.   100 = Remote\n"
      ],
      "metadata": {
        "id": "aX6GqnSEDdFz"
      }
    },
    {
      "cell_type": "markdown",
      "source": [
        "Replacing some parameter value to make it easier to understand"
      ],
      "metadata": {
        "id": "QELs9BZ26CVo"
      }
    },
    {
      "cell_type": "code",
      "source": [
        "df.experience_level.replace(['EN', 'MI', 'SE', 'EX'], ['Entry', 'Mid', 'Senior', 'Executive'], inplace=True) #expand the acronyms for the experience level column\n",
        "df.employment_type.replace(['FT', 'PT', 'CT', 'FL'], ['Full-Time', 'Part-Time', 'Contract', 'Freelance'], inplace=True)\n",
        "df.remote_ratio.replace([0, 50, 100], ['WFO', 'Hybrid', 'Remote'], inplace = True) #replce number value on remote ratio to more easy to understand word"
      ],
      "metadata": {
        "id": "hq0-24cE5vE8"
      },
      "execution_count": 5,
      "outputs": []
    },
    {
      "cell_type": "markdown",
      "source": [
        "Since the 'employee_residence' column is coded in ALPHA-2, we will convert it into a country name so the reader doesn't need to look up on the table "
      ],
      "metadata": {
        "id": "dcEetJRV5EWz"
      }
    },
    {
      "cell_type": "markdown",
      "source": [
        "First convert the code into country name and add into new coloumn int the dataframe as 'employee_country'"
      ],
      "metadata": {
        "id": "Su8jYILS5Zh6"
      }
    },
    {
      "cell_type": "code",
      "source": [
        "alpha_2_code = [i.alpha_2 for i in list(pycountry.countries)]\n",
        "\n",
        "def convert_code(df):\n",
        "  return pycountry.countries.get(alpha_2=df['employee_residence']).name\n",
        "\n",
        "df['employee_country'] = df.apply(convert_code, axis=1)"
      ],
      "metadata": {
        "id": "Y1HxTJtd7B5J"
      },
      "execution_count": 17,
      "outputs": []
    },
    {
      "cell_type": "markdown",
      "source": [
        "Let's check the updated dataset"
      ],
      "metadata": {
        "id": "O36CeB8k795s"
      }
    },
    {
      "cell_type": "code",
      "source": [
        "df.head()"
      ],
      "metadata": {
        "colab": {
          "base_uri": "https://localhost:8080/",
          "height": 409
        },
        "id": "ALhsgdKc78_x",
        "outputId": "05a1ade7-ffd1-40a8-907b-9d419982a4c9"
      },
      "execution_count": 86,
      "outputs": [
        {
          "output_type": "execute_result",
          "data": {
            "text/plain": [
              "   work_year experience_level employment_type                   job_title  \\\n",
              "0       2020              Mid       Full-Time              Data Scientist   \n",
              "1       2020           Senior       Full-Time  Machine Learning Scientist   \n",
              "2       2020           Senior       Full-Time           Big Data Engineer   \n",
              "3       2020              Mid       Full-Time        Product Data Analyst   \n",
              "4       2020           Senior       Full-Time   Machine Learning Engineer   \n",
              "\n",
              "   salary salary_currency  salary_in_usd employee_residence remote_ratio  \\\n",
              "0   70000             EUR          79833                 DE          WFO   \n",
              "1  260000             USD         260000                 JP          WFO   \n",
              "2   85000             GBP         109024                 GB       Hybrid   \n",
              "3   20000             USD          20000                 HN          WFO   \n",
              "4  150000             USD         150000                 US       Hybrid   \n",
              "\n",
              "  company_location company_size  \n",
              "0               DE            L  \n",
              "1               JP            S  \n",
              "2               GB            M  \n",
              "3               HN            S  \n",
              "4               US            L  "
            ],
            "text/html": [
              "\n",
              "  <div id=\"df-7346dcd3-3d80-4442-aa9f-5273bc4e157f\">\n",
              "    <div class=\"colab-df-container\">\n",
              "      <div>\n",
              "<style scoped>\n",
              "    .dataframe tbody tr th:only-of-type {\n",
              "        vertical-align: middle;\n",
              "    }\n",
              "\n",
              "    .dataframe tbody tr th {\n",
              "        vertical-align: top;\n",
              "    }\n",
              "\n",
              "    .dataframe thead th {\n",
              "        text-align: right;\n",
              "    }\n",
              "</style>\n",
              "<table border=\"1\" class=\"dataframe\">\n",
              "  <thead>\n",
              "    <tr style=\"text-align: right;\">\n",
              "      <th></th>\n",
              "      <th>work_year</th>\n",
              "      <th>experience_level</th>\n",
              "      <th>employment_type</th>\n",
              "      <th>job_title</th>\n",
              "      <th>salary</th>\n",
              "      <th>salary_currency</th>\n",
              "      <th>salary_in_usd</th>\n",
              "      <th>employee_residence</th>\n",
              "      <th>remote_ratio</th>\n",
              "      <th>company_location</th>\n",
              "      <th>company_size</th>\n",
              "    </tr>\n",
              "  </thead>\n",
              "  <tbody>\n",
              "    <tr>\n",
              "      <th>0</th>\n",
              "      <td>2020</td>\n",
              "      <td>Mid</td>\n",
              "      <td>Full-Time</td>\n",
              "      <td>Data Scientist</td>\n",
              "      <td>70000</td>\n",
              "      <td>EUR</td>\n",
              "      <td>79833</td>\n",
              "      <td>DE</td>\n",
              "      <td>WFO</td>\n",
              "      <td>DE</td>\n",
              "      <td>L</td>\n",
              "    </tr>\n",
              "    <tr>\n",
              "      <th>1</th>\n",
              "      <td>2020</td>\n",
              "      <td>Senior</td>\n",
              "      <td>Full-Time</td>\n",
              "      <td>Machine Learning Scientist</td>\n",
              "      <td>260000</td>\n",
              "      <td>USD</td>\n",
              "      <td>260000</td>\n",
              "      <td>JP</td>\n",
              "      <td>WFO</td>\n",
              "      <td>JP</td>\n",
              "      <td>S</td>\n",
              "    </tr>\n",
              "    <tr>\n",
              "      <th>2</th>\n",
              "      <td>2020</td>\n",
              "      <td>Senior</td>\n",
              "      <td>Full-Time</td>\n",
              "      <td>Big Data Engineer</td>\n",
              "      <td>85000</td>\n",
              "      <td>GBP</td>\n",
              "      <td>109024</td>\n",
              "      <td>GB</td>\n",
              "      <td>Hybrid</td>\n",
              "      <td>GB</td>\n",
              "      <td>M</td>\n",
              "    </tr>\n",
              "    <tr>\n",
              "      <th>3</th>\n",
              "      <td>2020</td>\n",
              "      <td>Mid</td>\n",
              "      <td>Full-Time</td>\n",
              "      <td>Product Data Analyst</td>\n",
              "      <td>20000</td>\n",
              "      <td>USD</td>\n",
              "      <td>20000</td>\n",
              "      <td>HN</td>\n",
              "      <td>WFO</td>\n",
              "      <td>HN</td>\n",
              "      <td>S</td>\n",
              "    </tr>\n",
              "    <tr>\n",
              "      <th>4</th>\n",
              "      <td>2020</td>\n",
              "      <td>Senior</td>\n",
              "      <td>Full-Time</td>\n",
              "      <td>Machine Learning Engineer</td>\n",
              "      <td>150000</td>\n",
              "      <td>USD</td>\n",
              "      <td>150000</td>\n",
              "      <td>US</td>\n",
              "      <td>Hybrid</td>\n",
              "      <td>US</td>\n",
              "      <td>L</td>\n",
              "    </tr>\n",
              "  </tbody>\n",
              "</table>\n",
              "</div>\n",
              "      <button class=\"colab-df-convert\" onclick=\"convertToInteractive('df-7346dcd3-3d80-4442-aa9f-5273bc4e157f')\"\n",
              "              title=\"Convert this dataframe to an interactive table.\"\n",
              "              style=\"display:none;\">\n",
              "        \n",
              "  <svg xmlns=\"http://www.w3.org/2000/svg\" height=\"24px\"viewBox=\"0 0 24 24\"\n",
              "       width=\"24px\">\n",
              "    <path d=\"M0 0h24v24H0V0z\" fill=\"none\"/>\n",
              "    <path d=\"M18.56 5.44l.94 2.06.94-2.06 2.06-.94-2.06-.94-.94-2.06-.94 2.06-2.06.94zm-11 1L8.5 8.5l.94-2.06 2.06-.94-2.06-.94L8.5 2.5l-.94 2.06-2.06.94zm10 10l.94 2.06.94-2.06 2.06-.94-2.06-.94-.94-2.06-.94 2.06-2.06.94z\"/><path d=\"M17.41 7.96l-1.37-1.37c-.4-.4-.92-.59-1.43-.59-.52 0-1.04.2-1.43.59L10.3 9.45l-7.72 7.72c-.78.78-.78 2.05 0 2.83L4 21.41c.39.39.9.59 1.41.59.51 0 1.02-.2 1.41-.59l7.78-7.78 2.81-2.81c.8-.78.8-2.07 0-2.86zM5.41 20L4 18.59l7.72-7.72 1.47 1.35L5.41 20z\"/>\n",
              "  </svg>\n",
              "      </button>\n",
              "      \n",
              "  <style>\n",
              "    .colab-df-container {\n",
              "      display:flex;\n",
              "      flex-wrap:wrap;\n",
              "      gap: 12px;\n",
              "    }\n",
              "\n",
              "    .colab-df-convert {\n",
              "      background-color: #E8F0FE;\n",
              "      border: none;\n",
              "      border-radius: 50%;\n",
              "      cursor: pointer;\n",
              "      display: none;\n",
              "      fill: #1967D2;\n",
              "      height: 32px;\n",
              "      padding: 0 0 0 0;\n",
              "      width: 32px;\n",
              "    }\n",
              "\n",
              "    .colab-df-convert:hover {\n",
              "      background-color: #E2EBFA;\n",
              "      box-shadow: 0px 1px 2px rgba(60, 64, 67, 0.3), 0px 1px 3px 1px rgba(60, 64, 67, 0.15);\n",
              "      fill: #174EA6;\n",
              "    }\n",
              "\n",
              "    [theme=dark] .colab-df-convert {\n",
              "      background-color: #3B4455;\n",
              "      fill: #D2E3FC;\n",
              "    }\n",
              "\n",
              "    [theme=dark] .colab-df-convert:hover {\n",
              "      background-color: #434B5C;\n",
              "      box-shadow: 0px 1px 3px 1px rgba(0, 0, 0, 0.15);\n",
              "      filter: drop-shadow(0px 1px 2px rgba(0, 0, 0, 0.3));\n",
              "      fill: #FFFFFF;\n",
              "    }\n",
              "  </style>\n",
              "\n",
              "      <script>\n",
              "        const buttonEl =\n",
              "          document.querySelector('#df-7346dcd3-3d80-4442-aa9f-5273bc4e157f button.colab-df-convert');\n",
              "        buttonEl.style.display =\n",
              "          google.colab.kernel.accessAllowed ? 'block' : 'none';\n",
              "\n",
              "        async function convertToInteractive(key) {\n",
              "          const element = document.querySelector('#df-7346dcd3-3d80-4442-aa9f-5273bc4e157f');\n",
              "          const dataTable =\n",
              "            await google.colab.kernel.invokeFunction('convertToInteractive',\n",
              "                                                     [key], {});\n",
              "          if (!dataTable) return;\n",
              "\n",
              "          const docLinkHtml = 'Like what you see? Visit the ' +\n",
              "            '<a target=\"_blank\" href=https://colab.research.google.com/notebooks/data_table.ipynb>data table notebook</a>'\n",
              "            + ' to learn more about interactive tables.';\n",
              "          element.innerHTML = '';\n",
              "          dataTable['output_type'] = 'display_data';\n",
              "          await google.colab.output.renderOutput(dataTable, element);\n",
              "          const docLink = document.createElement('div');\n",
              "          docLink.innerHTML = docLinkHtml;\n",
              "          element.appendChild(docLink);\n",
              "        }\n",
              "      </script>\n",
              "    </div>\n",
              "  </div>\n",
              "  "
            ]
          },
          "metadata": {},
          "execution_count": 86
        }
      ]
    },
    {
      "cell_type": "markdown",
      "source": [
        "# 4. Analysis"
      ],
      "metadata": {
        "id": "FiNC1ydl80hZ"
      }
    },
    {
      "cell_type": "markdown",
      "source": [
        "## 1. Univarient Analysis"
      ],
      "metadata": {
        "id": "kTMuZR8L82Z9"
      }
    },
    {
      "cell_type": "markdown",
      "source": [
        "\n",
        "> Univariate analysis is used for describe a single variable data. Since it's a single variable analysis, i doesn't explain the realtionship of the data. This analysis is used to summarize and find patterns in the data.\n",
        "\n",
        "\n",
        "---\n",
        "https://www.statisticshowto.com/univariate/\n",
        "\n",
        "\n",
        "\n"
      ],
      "metadata": {
        "id": "IWFiwFCo9F5V"
      }
    },
    {
      "cell_type": "markdown",
      "source": [
        "### 1. Bar chart of the employment types"
      ],
      "metadata": {
        "id": "K5Y2G1j1-TYO"
      }
    },
    {
      "cell_type": "code",
      "source": [
        "px.histogram(df,\n",
        "             x='employment_type',\n",
        "             histnorm='percent',\n",
        "             text_auto='.2f',\n",
        "             template='plotly_dark',\n",
        "             title='Percentage of the Employment Types')"
      ],
      "metadata": {
        "colab": {
          "base_uri": "https://localhost:8080/",
          "height": 542
        },
        "id": "O7xh038x9FhX",
        "outputId": "f12c98b4-39d5-4940-a481-b6d50ae42103"
      },
      "execution_count": 55,
      "outputs": [
        {
          "output_type": "display_data",
          "data": {
            "text/html": [
              "<html>\n",
              "<head><meta charset=\"utf-8\" /></head>\n",
              "<body>\n",
              "    <div>            <script src=\"https://cdnjs.cloudflare.com/ajax/libs/mathjax/2.7.5/MathJax.js?config=TeX-AMS-MML_SVG\"></script><script type=\"text/javascript\">if (window.MathJax) {MathJax.Hub.Config({SVG: {font: \"STIX-Web\"}});}</script>                <script type=\"text/javascript\">window.PlotlyConfig = {MathJaxConfig: 'local'};</script>\n",
              "        <script src=\"https://cdn.plot.ly/plotly-2.8.3.min.js\"></script>                <div id=\"d52a7e36-5644-44db-9199-6ba758f153ce\" class=\"plotly-graph-div\" style=\"height:525px; width:100%;\"></div>            <script type=\"text/javascript\">                                    window.PLOTLYENV=window.PLOTLYENV || {};                                    if (document.getElementById(\"d52a7e36-5644-44db-9199-6ba758f153ce\")) {                    Plotly.newPlot(                        \"d52a7e36-5644-44db-9199-6ba758f153ce\",                        [{\"alignmentgroup\":\"True\",\"bingroup\":\"x\",\"histnorm\":\"percent\",\"hovertemplate\":\"employment_type=%{x}<br>percent=%{y}<extra></extra>\",\"legendgroup\":\"\",\"marker\":{\"color\":\"#636efa\",\"pattern\":{\"shape\":\"\"}},\"name\":\"\",\"offsetgroup\":\"\",\"orientation\":\"v\",\"showlegend\":false,\"texttemplate\":\"%{value:.2f}\",\"x\":[\"Full-Time\",\"Full-Time\",\"Full-Time\",\"Full-Time\",\"Full-Time\",\"Full-Time\",\"Full-Time\",\"Full-Time\",\"Full-Time\",\"Full-Time\",\"Full-Time\",\"Full-Time\",\"Full-Time\",\"Full-Time\",\"Full-Time\",\"Full-Time\",\"Full-Time\",\"Full-Time\",\"Full-Time\",\"Full-Time\",\"Full-Time\",\"Full-Time\",\"Full-Time\",\"Full-Time\",\"Full-Time\",\"Full-Time\",\"Full-Time\",\"Full-Time\",\"Contract\",\"Full-Time\",\"Full-Time\",\"Full-Time\",\"Full-Time\",\"Full-Time\",\"Full-Time\",\"Full-Time\",\"Full-Time\",\"Full-Time\",\"Full-Time\",\"Full-Time\",\"Full-Time\",\"Full-Time\",\"Full-Time\",\"Full-Time\",\"Full-Time\",\"Part-Time\",\"Full-Time\",\"Full-Time\",\"Full-Time\",\"Full-Time\",\"Full-Time\",\"Full-Time\",\"Full-Time\",\"Full-Time\",\"Freelance\",\"Full-Time\",\"Full-Time\",\"Full-Time\",\"Full-Time\",\"Full-Time\",\"Full-Time\",\"Full-Time\",\"Part-Time\",\"Full-Time\",\"Full-Time\",\"Full-Time\",\"Full-Time\",\"Full-Time\",\"Full-Time\",\"Full-Time\",\"Full-Time\",\"Full-Time\",\"Full-Time\",\"Full-Time\",\"Full-Time\",\"Full-Time\",\"Full-Time\",\"Part-Time\",\"Contract\",\"Full-Time\",\"Full-Time\",\"Full-Time\",\"Full-Time\",\"Full-Time\",\"Full-Time\",\"Full-Time\",\"Full-Time\",\"Full-Time\",\"Full-Time\",\"Full-Time\",\"Full-Time\",\"Full-Time\",\"Full-Time\",\"Full-Time\",\"Full-Time\",\"Full-Time\",\"Part-Time\",\"Full-Time\",\"Full-Time\",\"Full-Time\",\"Full-Time\",\"Full-Time\",\"Full-Time\",\"Full-Time\",\"Full-Time\",\"Full-Time\",\"Full-Time\",\"Full-Time\",\"Full-Time\",\"Full-Time\",\"Full-Time\",\"Full-Time\",\"Full-Time\",\"Part-Time\",\"Full-Time\",\"Full-Time\",\"Full-Time\",\"Full-Time\",\"Full-Time\",\"Full-Time\",\"Full-Time\",\"Full-Time\",\"Full-Time\",\"Full-Time\",\"Part-Time\",\"Full-Time\",\"Full-Time\",\"Full-Time\",\"Full-Time\",\"Full-Time\",\"Full-Time\",\"Full-Time\",\"Full-Time\",\"Full-Time\",\"Full-Time\",\"Full-Time\",\"Full-Time\",\"Full-Time\",\"Full-Time\",\"Full-Time\",\"Full-Time\",\"Full-Time\",\"Full-Time\",\"Full-Time\",\"Full-Time\",\"Full-Time\",\"Full-Time\",\"Full-Time\",\"Full-Time\",\"Full-Time\",\"Full-Time\",\"Full-Time\",\"Full-Time\",\"Full-Time\",\"Full-Time\",\"Full-Time\",\"Full-Time\",\"Full-Time\",\"Full-Time\",\"Full-Time\",\"Full-Time\",\"Full-Time\",\"Full-Time\",\"Full-Time\",\"Full-Time\",\"Full-Time\",\"Full-Time\",\"Full-Time\",\"Full-Time\",\"Full-Time\",\"Full-Time\",\"Full-Time\",\"Full-Time\",\"Full-Time\",\"Full-Time\",\"Full-Time\",\"Full-Time\",\"Full-Time\",\"Full-Time\",\"Full-Time\",\"Full-Time\",\"Full-Time\",\"Full-Time\",\"Full-Time\",\"Freelance\",\"Full-Time\",\"Full-Time\",\"Full-Time\",\"Full-Time\",\"Full-Time\",\"Full-Time\",\"Full-Time\",\"Full-Time\",\"Full-Time\",\"Full-Time\",\"Full-Time\",\"Full-Time\",\"Full-Time\",\"Full-Time\",\"Full-Time\",\"Full-Time\",\"Full-Time\",\"Full-Time\",\"Full-Time\",\"Full-Time\",\"Full-Time\",\"Full-Time\",\"Full-Time\",\"Freelance\",\"Full-Time\",\"Full-Time\",\"Full-Time\",\"Full-Time\",\"Full-Time\",\"Full-Time\",\"Full-Time\",\"Part-Time\",\"Full-Time\",\"Full-Time\",\"Full-Time\",\"Full-Time\",\"Full-Time\",\"Full-Time\",\"Full-Time\",\"Full-Time\",\"Contract\",\"Full-Time\",\"Full-Time\",\"Full-Time\",\"Full-Time\",\"Full-Time\",\"Full-Time\",\"Full-Time\",\"Full-Time\",\"Full-Time\",\"Full-Time\",\"Full-Time\",\"Full-Time\",\"Full-Time\",\"Full-Time\",\"Full-Time\",\"Full-Time\",\"Full-Time\",\"Full-Time\",\"Full-Time\",\"Full-Time\",\"Full-Time\",\"Full-Time\",\"Full-Time\",\"Full-Time\",\"Full-Time\",\"Full-Time\",\"Full-Time\",\"Full-Time\",\"Full-Time\",\"Full-Time\",\"Full-Time\",\"Full-Time\",\"Full-Time\",\"Full-Time\",\"Full-Time\",\"Full-Time\",\"Full-Time\",\"Full-Time\",\"Full-Time\",\"Full-Time\",\"Full-Time\",\"Full-Time\",\"Full-Time\",\"Full-Time\",\"Full-Time\",\"Full-Time\",\"Full-Time\",\"Full-Time\",\"Full-Time\",\"Full-Time\",\"Full-Time\",\"Full-Time\",\"Full-Time\",\"Full-Time\",\"Full-Time\",\"Full-Time\",\"Part-Time\",\"Contract\",\"Full-Time\",\"Full-Time\",\"Full-Time\",\"Full-Time\",\"Full-Time\",\"Full-Time\",\"Full-Time\",\"Full-Time\",\"Full-Time\",\"Full-Time\",\"Full-Time\",\"Full-Time\",\"Full-Time\",\"Full-Time\",\"Full-Time\",\"Full-Time\",\"Full-Time\",\"Full-Time\",\"Full-Time\",\"Full-Time\",\"Full-Time\",\"Full-Time\",\"Full-Time\",\"Full-Time\",\"Full-Time\",\"Full-Time\",\"Full-Time\",\"Full-Time\",\"Full-Time\",\"Full-Time\",\"Full-Time\",\"Full-Time\",\"Full-Time\",\"Full-Time\",\"Full-Time\",\"Full-Time\",\"Full-Time\",\"Full-Time\",\"Full-Time\",\"Full-Time\",\"Full-Time\",\"Full-Time\",\"Full-Time\",\"Full-Time\",\"Full-Time\",\"Full-Time\",\"Full-Time\",\"Full-Time\",\"Full-Time\",\"Full-Time\",\"Full-Time\",\"Full-Time\",\"Full-Time\",\"Full-Time\",\"Full-Time\",\"Full-Time\",\"Full-Time\",\"Full-Time\",\"Full-Time\",\"Full-Time\",\"Full-Time\",\"Full-Time\",\"Full-Time\",\"Full-Time\",\"Full-Time\",\"Full-Time\",\"Full-Time\",\"Full-Time\",\"Full-Time\",\"Full-Time\",\"Full-Time\",\"Full-Time\",\"Full-Time\",\"Full-Time\",\"Full-Time\",\"Full-Time\",\"Full-Time\",\"Full-Time\",\"Full-Time\",\"Full-Time\",\"Full-Time\",\"Full-Time\",\"Full-Time\",\"Full-Time\",\"Full-Time\",\"Full-Time\",\"Full-Time\",\"Full-Time\",\"Full-Time\",\"Full-Time\",\"Full-Time\",\"Full-Time\",\"Full-Time\",\"Full-Time\",\"Full-Time\",\"Full-Time\",\"Full-Time\",\"Full-Time\",\"Full-Time\",\"Full-Time\",\"Full-Time\",\"Full-Time\",\"Full-Time\",\"Full-Time\",\"Full-Time\",\"Full-Time\",\"Full-Time\",\"Full-Time\",\"Full-Time\",\"Full-Time\",\"Full-Time\",\"Full-Time\",\"Full-Time\",\"Full-Time\",\"Full-Time\",\"Full-Time\",\"Full-Time\",\"Full-Time\",\"Full-Time\",\"Full-Time\",\"Full-Time\",\"Full-Time\",\"Full-Time\",\"Full-Time\",\"Full-Time\",\"Full-Time\",\"Full-Time\",\"Full-Time\",\"Full-Time\",\"Full-Time\",\"Full-Time\",\"Full-Time\",\"Full-Time\",\"Full-Time\",\"Full-Time\",\"Full-Time\",\"Full-Time\",\"Full-Time\",\"Full-Time\",\"Full-Time\",\"Full-Time\",\"Full-Time\",\"Full-Time\",\"Full-Time\",\"Full-Time\",\"Full-Time\",\"Full-Time\",\"Full-Time\",\"Full-Time\",\"Full-Time\",\"Full-Time\",\"Full-Time\",\"Full-Time\",\"Full-Time\",\"Full-Time\",\"Full-Time\",\"Full-Time\",\"Full-Time\",\"Full-Time\",\"Full-Time\",\"Full-Time\",\"Full-Time\",\"Full-Time\",\"Full-Time\",\"Full-Time\",\"Full-Time\",\"Full-Time\",\"Full-Time\",\"Full-Time\",\"Full-Time\",\"Full-Time\",\"Full-Time\",\"Full-Time\",\"Full-Time\",\"Full-Time\",\"Full-Time\",\"Full-Time\",\"Full-Time\",\"Part-Time\",\"Full-Time\",\"Full-Time\",\"Full-Time\",\"Full-Time\",\"Full-Time\",\"Full-Time\",\"Full-Time\",\"Full-Time\",\"Full-Time\",\"Full-Time\",\"Full-Time\",\"Full-Time\",\"Full-Time\",\"Full-Time\",\"Full-Time\",\"Full-Time\",\"Full-Time\",\"Full-Time\",\"Full-Time\",\"Full-Time\",\"Full-Time\",\"Full-Time\",\"Full-Time\",\"Full-Time\",\"Part-Time\",\"Freelance\",\"Contract\",\"Full-Time\",\"Full-Time\",\"Full-Time\",\"Full-Time\",\"Full-Time\",\"Full-Time\",\"Full-Time\",\"Full-Time\",\"Full-Time\",\"Full-Time\",\"Full-Time\",\"Full-Time\",\"Full-Time\",\"Full-Time\",\"Full-Time\",\"Full-Time\",\"Full-Time\",\"Full-Time\",\"Full-Time\",\"Full-Time\",\"Full-Time\",\"Full-Time\",\"Full-Time\",\"Full-Time\",\"Full-Time\",\"Full-Time\",\"Full-Time\",\"Full-Time\",\"Full-Time\",\"Full-Time\",\"Full-Time\",\"Full-Time\",\"Full-Time\",\"Full-Time\",\"Full-Time\",\"Full-Time\",\"Full-Time\",\"Full-Time\",\"Full-Time\",\"Full-Time\",\"Full-Time\",\"Full-Time\",\"Full-Time\",\"Full-Time\",\"Full-Time\",\"Full-Time\",\"Full-Time\",\"Full-Time\",\"Full-Time\",\"Full-Time\",\"Full-Time\",\"Full-Time\",\"Full-Time\",\"Full-Time\",\"Full-Time\",\"Full-Time\",\"Full-Time\",\"Full-Time\",\"Full-Time\",\"Full-Time\",\"Full-Time\",\"Full-Time\",\"Full-Time\",\"Full-Time\",\"Full-Time\",\"Full-Time\",\"Full-Time\",\"Full-Time\",\"Full-Time\",\"Full-Time\",\"Full-Time\",\"Full-Time\",\"Full-Time\",\"Full-Time\",\"Full-Time\",\"Full-Time\",\"Full-Time\",\"Full-Time\",\"Full-Time\",\"Full-Time\",\"Full-Time\",\"Full-Time\",\"Full-Time\",\"Full-Time\",\"Full-Time\",\"Full-Time\",\"Full-Time\",\"Full-Time\",\"Full-Time\",\"Full-Time\",\"Full-Time\",\"Full-Time\",\"Full-Time\",\"Full-Time\",\"Full-Time\",\"Full-Time\",\"Full-Time\",\"Full-Time\",\"Full-Time\",\"Full-Time\",\"Full-Time\",\"Full-Time\",\"Full-Time\",\"Full-Time\",\"Full-Time\",\"Full-Time\",\"Full-Time\",\"Full-Time\",\"Full-Time\",\"Full-Time\",\"Full-Time\",\"Full-Time\",\"Full-Time\",\"Full-Time\",\"Full-Time\",\"Full-Time\",\"Full-Time\"],\"xaxis\":\"x\",\"yaxis\":\"y\",\"type\":\"histogram\"}],                        {\"template\":{\"data\":{\"barpolar\":[{\"marker\":{\"line\":{\"color\":\"rgb(17,17,17)\",\"width\":0.5},\"pattern\":{\"fillmode\":\"overlay\",\"size\":10,\"solidity\":0.2}},\"type\":\"barpolar\"}],\"bar\":[{\"error_x\":{\"color\":\"#f2f5fa\"},\"error_y\":{\"color\":\"#f2f5fa\"},\"marker\":{\"line\":{\"color\":\"rgb(17,17,17)\",\"width\":0.5},\"pattern\":{\"fillmode\":\"overlay\",\"size\":10,\"solidity\":0.2}},\"type\":\"bar\"}],\"carpet\":[{\"aaxis\":{\"endlinecolor\":\"#A2B1C6\",\"gridcolor\":\"#506784\",\"linecolor\":\"#506784\",\"minorgridcolor\":\"#506784\",\"startlinecolor\":\"#A2B1C6\"},\"baxis\":{\"endlinecolor\":\"#A2B1C6\",\"gridcolor\":\"#506784\",\"linecolor\":\"#506784\",\"minorgridcolor\":\"#506784\",\"startlinecolor\":\"#A2B1C6\"},\"type\":\"carpet\"}],\"choropleth\":[{\"colorbar\":{\"outlinewidth\":0,\"ticks\":\"\"},\"type\":\"choropleth\"}],\"contourcarpet\":[{\"colorbar\":{\"outlinewidth\":0,\"ticks\":\"\"},\"type\":\"contourcarpet\"}],\"contour\":[{\"colorbar\":{\"outlinewidth\":0,\"ticks\":\"\"},\"colorscale\":[[0.0,\"#0d0887\"],[0.1111111111111111,\"#46039f\"],[0.2222222222222222,\"#7201a8\"],[0.3333333333333333,\"#9c179e\"],[0.4444444444444444,\"#bd3786\"],[0.5555555555555556,\"#d8576b\"],[0.6666666666666666,\"#ed7953\"],[0.7777777777777778,\"#fb9f3a\"],[0.8888888888888888,\"#fdca26\"],[1.0,\"#f0f921\"]],\"type\":\"contour\"}],\"heatmapgl\":[{\"colorbar\":{\"outlinewidth\":0,\"ticks\":\"\"},\"colorscale\":[[0.0,\"#0d0887\"],[0.1111111111111111,\"#46039f\"],[0.2222222222222222,\"#7201a8\"],[0.3333333333333333,\"#9c179e\"],[0.4444444444444444,\"#bd3786\"],[0.5555555555555556,\"#d8576b\"],[0.6666666666666666,\"#ed7953\"],[0.7777777777777778,\"#fb9f3a\"],[0.8888888888888888,\"#fdca26\"],[1.0,\"#f0f921\"]],\"type\":\"heatmapgl\"}],\"heatmap\":[{\"colorbar\":{\"outlinewidth\":0,\"ticks\":\"\"},\"colorscale\":[[0.0,\"#0d0887\"],[0.1111111111111111,\"#46039f\"],[0.2222222222222222,\"#7201a8\"],[0.3333333333333333,\"#9c179e\"],[0.4444444444444444,\"#bd3786\"],[0.5555555555555556,\"#d8576b\"],[0.6666666666666666,\"#ed7953\"],[0.7777777777777778,\"#fb9f3a\"],[0.8888888888888888,\"#fdca26\"],[1.0,\"#f0f921\"]],\"type\":\"heatmap\"}],\"histogram2dcontour\":[{\"colorbar\":{\"outlinewidth\":0,\"ticks\":\"\"},\"colorscale\":[[0.0,\"#0d0887\"],[0.1111111111111111,\"#46039f\"],[0.2222222222222222,\"#7201a8\"],[0.3333333333333333,\"#9c179e\"],[0.4444444444444444,\"#bd3786\"],[0.5555555555555556,\"#d8576b\"],[0.6666666666666666,\"#ed7953\"],[0.7777777777777778,\"#fb9f3a\"],[0.8888888888888888,\"#fdca26\"],[1.0,\"#f0f921\"]],\"type\":\"histogram2dcontour\"}],\"histogram2d\":[{\"colorbar\":{\"outlinewidth\":0,\"ticks\":\"\"},\"colorscale\":[[0.0,\"#0d0887\"],[0.1111111111111111,\"#46039f\"],[0.2222222222222222,\"#7201a8\"],[0.3333333333333333,\"#9c179e\"],[0.4444444444444444,\"#bd3786\"],[0.5555555555555556,\"#d8576b\"],[0.6666666666666666,\"#ed7953\"],[0.7777777777777778,\"#fb9f3a\"],[0.8888888888888888,\"#fdca26\"],[1.0,\"#f0f921\"]],\"type\":\"histogram2d\"}],\"histogram\":[{\"marker\":{\"pattern\":{\"fillmode\":\"overlay\",\"size\":10,\"solidity\":0.2}},\"type\":\"histogram\"}],\"mesh3d\":[{\"colorbar\":{\"outlinewidth\":0,\"ticks\":\"\"},\"type\":\"mesh3d\"}],\"parcoords\":[{\"line\":{\"colorbar\":{\"outlinewidth\":0,\"ticks\":\"\"}},\"type\":\"parcoords\"}],\"pie\":[{\"automargin\":true,\"type\":\"pie\"}],\"scatter3d\":[{\"line\":{\"colorbar\":{\"outlinewidth\":0,\"ticks\":\"\"}},\"marker\":{\"colorbar\":{\"outlinewidth\":0,\"ticks\":\"\"}},\"type\":\"scatter3d\"}],\"scattercarpet\":[{\"marker\":{\"colorbar\":{\"outlinewidth\":0,\"ticks\":\"\"}},\"type\":\"scattercarpet\"}],\"scattergeo\":[{\"marker\":{\"colorbar\":{\"outlinewidth\":0,\"ticks\":\"\"}},\"type\":\"scattergeo\"}],\"scattergl\":[{\"marker\":{\"line\":{\"color\":\"#283442\"}},\"type\":\"scattergl\"}],\"scattermapbox\":[{\"marker\":{\"colorbar\":{\"outlinewidth\":0,\"ticks\":\"\"}},\"type\":\"scattermapbox\"}],\"scatterpolargl\":[{\"marker\":{\"colorbar\":{\"outlinewidth\":0,\"ticks\":\"\"}},\"type\":\"scatterpolargl\"}],\"scatterpolar\":[{\"marker\":{\"colorbar\":{\"outlinewidth\":0,\"ticks\":\"\"}},\"type\":\"scatterpolar\"}],\"scatter\":[{\"marker\":{\"line\":{\"color\":\"#283442\"}},\"type\":\"scatter\"}],\"scatterternary\":[{\"marker\":{\"colorbar\":{\"outlinewidth\":0,\"ticks\":\"\"}},\"type\":\"scatterternary\"}],\"surface\":[{\"colorbar\":{\"outlinewidth\":0,\"ticks\":\"\"},\"colorscale\":[[0.0,\"#0d0887\"],[0.1111111111111111,\"#46039f\"],[0.2222222222222222,\"#7201a8\"],[0.3333333333333333,\"#9c179e\"],[0.4444444444444444,\"#bd3786\"],[0.5555555555555556,\"#d8576b\"],[0.6666666666666666,\"#ed7953\"],[0.7777777777777778,\"#fb9f3a\"],[0.8888888888888888,\"#fdca26\"],[1.0,\"#f0f921\"]],\"type\":\"surface\"}],\"table\":[{\"cells\":{\"fill\":{\"color\":\"#506784\"},\"line\":{\"color\":\"rgb(17,17,17)\"}},\"header\":{\"fill\":{\"color\":\"#2a3f5f\"},\"line\":{\"color\":\"rgb(17,17,17)\"}},\"type\":\"table\"}]},\"layout\":{\"annotationdefaults\":{\"arrowcolor\":\"#f2f5fa\",\"arrowhead\":0,\"arrowwidth\":1},\"autotypenumbers\":\"strict\",\"coloraxis\":{\"colorbar\":{\"outlinewidth\":0,\"ticks\":\"\"}},\"colorscale\":{\"diverging\":[[0,\"#8e0152\"],[0.1,\"#c51b7d\"],[0.2,\"#de77ae\"],[0.3,\"#f1b6da\"],[0.4,\"#fde0ef\"],[0.5,\"#f7f7f7\"],[0.6,\"#e6f5d0\"],[0.7,\"#b8e186\"],[0.8,\"#7fbc41\"],[0.9,\"#4d9221\"],[1,\"#276419\"]],\"sequential\":[[0.0,\"#0d0887\"],[0.1111111111111111,\"#46039f\"],[0.2222222222222222,\"#7201a8\"],[0.3333333333333333,\"#9c179e\"],[0.4444444444444444,\"#bd3786\"],[0.5555555555555556,\"#d8576b\"],[0.6666666666666666,\"#ed7953\"],[0.7777777777777778,\"#fb9f3a\"],[0.8888888888888888,\"#fdca26\"],[1.0,\"#f0f921\"]],\"sequentialminus\":[[0.0,\"#0d0887\"],[0.1111111111111111,\"#46039f\"],[0.2222222222222222,\"#7201a8\"],[0.3333333333333333,\"#9c179e\"],[0.4444444444444444,\"#bd3786\"],[0.5555555555555556,\"#d8576b\"],[0.6666666666666666,\"#ed7953\"],[0.7777777777777778,\"#fb9f3a\"],[0.8888888888888888,\"#fdca26\"],[1.0,\"#f0f921\"]]},\"colorway\":[\"#636efa\",\"#EF553B\",\"#00cc96\",\"#ab63fa\",\"#FFA15A\",\"#19d3f3\",\"#FF6692\",\"#B6E880\",\"#FF97FF\",\"#FECB52\"],\"font\":{\"color\":\"#f2f5fa\"},\"geo\":{\"bgcolor\":\"rgb(17,17,17)\",\"lakecolor\":\"rgb(17,17,17)\",\"landcolor\":\"rgb(17,17,17)\",\"showlakes\":true,\"showland\":true,\"subunitcolor\":\"#506784\"},\"hoverlabel\":{\"align\":\"left\"},\"hovermode\":\"closest\",\"mapbox\":{\"style\":\"dark\"},\"paper_bgcolor\":\"rgb(17,17,17)\",\"plot_bgcolor\":\"rgb(17,17,17)\",\"polar\":{\"angularaxis\":{\"gridcolor\":\"#506784\",\"linecolor\":\"#506784\",\"ticks\":\"\"},\"bgcolor\":\"rgb(17,17,17)\",\"radialaxis\":{\"gridcolor\":\"#506784\",\"linecolor\":\"#506784\",\"ticks\":\"\"}},\"scene\":{\"xaxis\":{\"backgroundcolor\":\"rgb(17,17,17)\",\"gridcolor\":\"#506784\",\"gridwidth\":2,\"linecolor\":\"#506784\",\"showbackground\":true,\"ticks\":\"\",\"zerolinecolor\":\"#C8D4E3\"},\"yaxis\":{\"backgroundcolor\":\"rgb(17,17,17)\",\"gridcolor\":\"#506784\",\"gridwidth\":2,\"linecolor\":\"#506784\",\"showbackground\":true,\"ticks\":\"\",\"zerolinecolor\":\"#C8D4E3\"},\"zaxis\":{\"backgroundcolor\":\"rgb(17,17,17)\",\"gridcolor\":\"#506784\",\"gridwidth\":2,\"linecolor\":\"#506784\",\"showbackground\":true,\"ticks\":\"\",\"zerolinecolor\":\"#C8D4E3\"}},\"shapedefaults\":{\"line\":{\"color\":\"#f2f5fa\"}},\"sliderdefaults\":{\"bgcolor\":\"#C8D4E3\",\"bordercolor\":\"rgb(17,17,17)\",\"borderwidth\":1,\"tickwidth\":0},\"ternary\":{\"aaxis\":{\"gridcolor\":\"#506784\",\"linecolor\":\"#506784\",\"ticks\":\"\"},\"baxis\":{\"gridcolor\":\"#506784\",\"linecolor\":\"#506784\",\"ticks\":\"\"},\"bgcolor\":\"rgb(17,17,17)\",\"caxis\":{\"gridcolor\":\"#506784\",\"linecolor\":\"#506784\",\"ticks\":\"\"}},\"title\":{\"x\":0.05},\"updatemenudefaults\":{\"bgcolor\":\"#506784\",\"borderwidth\":0},\"xaxis\":{\"automargin\":true,\"gridcolor\":\"#283442\",\"linecolor\":\"#506784\",\"ticks\":\"\",\"title\":{\"standoff\":15},\"zerolinecolor\":\"#283442\",\"zerolinewidth\":2},\"yaxis\":{\"automargin\":true,\"gridcolor\":\"#283442\",\"linecolor\":\"#506784\",\"ticks\":\"\",\"title\":{\"standoff\":15},\"zerolinecolor\":\"#283442\",\"zerolinewidth\":2}}},\"xaxis\":{\"anchor\":\"y\",\"domain\":[0.0,1.0],\"title\":{\"text\":\"employment_type\"}},\"yaxis\":{\"anchor\":\"x\",\"domain\":[0.0,1.0],\"title\":{\"text\":\"percent\"}},\"legend\":{\"tracegroupgap\":0},\"title\":{\"text\":\"Percentage of the Employment Types\"},\"barmode\":\"relative\"},                        {\"responsive\": true}                    ).then(function(){\n",
              "                            \n",
              "var gd = document.getElementById('d52a7e36-5644-44db-9199-6ba758f153ce');\n",
              "var x = new MutationObserver(function (mutations, observer) {{\n",
              "        var display = window.getComputedStyle(gd).display;\n",
              "        if (!display || display === 'none') {{\n",
              "            console.log([gd, 'removed!']);\n",
              "            Plotly.purge(gd);\n",
              "            observer.disconnect();\n",
              "        }}\n",
              "}});\n",
              "\n",
              "// Listen for the removal of the full notebook cells\n",
              "var notebookContainer = gd.closest('#notebook-container');\n",
              "if (notebookContainer) {{\n",
              "    x.observe(notebookContainer, {childList: true});\n",
              "}}\n",
              "\n",
              "// Listen for the clearing of the current output cell\n",
              "var outputEl = gd.closest('.output');\n",
              "if (outputEl) {{\n",
              "    x.observe(outputEl, {childList: true});\n",
              "}}\n",
              "\n",
              "                        })                };                            </script>        </div>\n",
              "</body>\n",
              "</html>"
            ]
          },
          "metadata": {}
        }
      ]
    },
    {
      "cell_type": "markdown",
      "source": [
        "From the histogram below we could see that most of the employees are working full-time."
      ],
      "metadata": {
        "id": "rIGrDZTMHj7x"
      }
    },
    {
      "cell_type": "markdown",
      "source": [
        "### 2. Are they working from the office, hybrid or maybe they're working remotely?"
      ],
      "metadata": {
        "id": "ZfypMgMpH2xz"
      }
    },
    {
      "cell_type": "code",
      "source": [
        "px.histogram(df,\n",
        "             x='remote_ratio',\n",
        "             histnorm='percent',\n",
        "             color_discrete_sequence=px.colors.qualitative.Pastel,\n",
        "             template='plotly_dark',\n",
        "             title='The Work Type'\n",
        "             )"
      ],
      "metadata": {
        "colab": {
          "base_uri": "https://localhost:8080/",
          "height": 542
        },
        "id": "zMsvUxYtHgJH",
        "outputId": "35071fa5-3a8d-4645-d5c1-25ee36a326aa"
      },
      "execution_count": 60,
      "outputs": [
        {
          "output_type": "display_data",
          "data": {
            "text/html": [
              "<html>\n",
              "<head><meta charset=\"utf-8\" /></head>\n",
              "<body>\n",
              "    <div>            <script src=\"https://cdnjs.cloudflare.com/ajax/libs/mathjax/2.7.5/MathJax.js?config=TeX-AMS-MML_SVG\"></script><script type=\"text/javascript\">if (window.MathJax) {MathJax.Hub.Config({SVG: {font: \"STIX-Web\"}});}</script>                <script type=\"text/javascript\">window.PlotlyConfig = {MathJaxConfig: 'local'};</script>\n",
              "        <script src=\"https://cdn.plot.ly/plotly-2.8.3.min.js\"></script>                <div id=\"30459889-beaf-4cb0-a339-33dc085e2386\" class=\"plotly-graph-div\" style=\"height:525px; width:100%;\"></div>            <script type=\"text/javascript\">                                    window.PLOTLYENV=window.PLOTLYENV || {};                                    if (document.getElementById(\"30459889-beaf-4cb0-a339-33dc085e2386\")) {                    Plotly.newPlot(                        \"30459889-beaf-4cb0-a339-33dc085e2386\",                        [{\"alignmentgroup\":\"True\",\"bingroup\":\"x\",\"histnorm\":\"percent\",\"hovertemplate\":\"remote_ratio=%{x}<br>percent=%{y}<extra></extra>\",\"legendgroup\":\"\",\"marker\":{\"color\":\"rgb(102, 197, 204)\",\"pattern\":{\"shape\":\"\"}},\"name\":\"\",\"offsetgroup\":\"\",\"orientation\":\"v\",\"showlegend\":false,\"x\":[\"WFO\",\"WFO\",\"Hybrid\",\"WFO\",\"Hybrid\",\"Remote\",\"Remote\",\"Hybrid\",\"Remote\",\"Hybrid\",\"WFO\",\"WFO\",\"WFO\",\"Remote\",\"Remote\",\"Hybrid\",\"Remote\",\"Remote\",\"Hybrid\",\"Remote\",\"WFO\",\"Remote\",\"Hybrid\",\"WFO\",\"WFO\",\"Remote\",\"Hybrid\",\"WFO\",\"Remote\",\"Hybrid\",\"Remote\",\"Remote\",\"Remote\",\"WFO\",\"Hybrid\",\"Hybrid\",\"Remote\",\"Hybrid\",\"Remote\",\"Remote\",\"Remote\",\"Hybrid\",\"WFO\",\"Remote\",\"Hybrid\",\"Remote\",\"Remote\",\"Remote\",\"Remote\",\"Hybrid\",\"WFO\",\"Remote\",\"Hybrid\",\"Remote\",\"Remote\",\"Remote\",\"Remote\",\"Remote\",\"Hybrid\",\"Remote\",\"Remote\",\"Remote\",\"Hybrid\",\"Remote\",\"Remote\",\"Hybrid\",\"WFO\",\"Remote\",\"Remote\",\"WFO\",\"Hybrid\",\"Hybrid\",\"Hybrid\",\"Remote\",\"Remote\",\"Hybrid\",\"Remote\",\"Hybrid\",\"Remote\",\"Remote\",\"Remote\",\"Remote\",\"Hybrid\",\"Remote\",\"Remote\",\"Remote\",\"Hybrid\",\"Remote\",\"Remote\",\"Remote\",\"Remote\",\"Remote\",\"Remote\",\"WFO\",\"Hybrid\",\"Hybrid\",\"Remote\",\"Remote\",\"Remote\",\"Remote\",\"WFO\",\"Remote\",\"Hybrid\",\"WFO\",\"WFO\",\"Hybrid\",\"Remote\",\"Remote\",\"Remote\",\"Remote\",\"Hybrid\",\"Remote\",\"Remote\",\"Remote\",\"Remote\",\"Remote\",\"Remote\",\"Remote\",\"Remote\",\"Remote\",\"Hybrid\",\"Remote\",\"Remote\",\"WFO\",\"Hybrid\",\"Remote\",\"Hybrid\",\"WFO\",\"Remote\",\"Hybrid\",\"Hybrid\",\"Hybrid\",\"Remote\",\"Remote\",\"WFO\",\"Remote\",\"Hybrid\",\"Hybrid\",\"WFO\",\"Remote\",\"Remote\",\"WFO\",\"WFO\",\"Remote\",\"Remote\",\"Hybrid\",\"Hybrid\",\"Remote\",\"Remote\",\"Remote\",\"WFO\",\"Remote\",\"Remote\",\"Remote\",\"Remote\",\"Hybrid\",\"Remote\",\"Hybrid\",\"Remote\",\"Remote\",\"Hybrid\",\"WFO\",\"Hybrid\",\"Hybrid\",\"Hybrid\",\"Remote\",\"Remote\",\"WFO\",\"Hybrid\",\"Remote\",\"Remote\",\"Remote\",\"Remote\",\"Remote\",\"Hybrid\",\"Remote\",\"WFO\",\"Remote\",\"Hybrid\",\"Remote\",\"WFO\",\"Hybrid\",\"WFO\",\"Hybrid\",\"Hybrid\",\"Remote\",\"Remote\",\"Remote\",\"Hybrid\",\"Hybrid\",\"Remote\",\"Hybrid\",\"WFO\",\"Remote\",\"Hybrid\",\"Hybrid\",\"Remote\",\"Remote\",\"Hybrid\",\"Remote\",\"Hybrid\",\"Remote\",\"Remote\",\"Remote\",\"Remote\",\"WFO\",\"Remote\",\"WFO\",\"WFO\",\"WFO\",\"Hybrid\",\"Hybrid\",\"Hybrid\",\"WFO\",\"Hybrid\",\"Remote\",\"Hybrid\",\"Hybrid\",\"Remote\",\"Remote\",\"Remote\",\"Hybrid\",\"WFO\",\"Hybrid\",\"Remote\",\"Remote\",\"Remote\",\"Hybrid\",\"WFO\",\"Remote\",\"Remote\",\"Remote\",\"Remote\",\"Remote\",\"Remote\",\"WFO\",\"Remote\",\"Remote\",\"WFO\",\"Hybrid\",\"Remote\",\"Remote\",\"Remote\",\"Remote\",\"Remote\",\"Hybrid\",\"Hybrid\",\"WFO\",\"Hybrid\",\"Remote\",\"Hybrid\",\"Remote\",\"Remote\",\"Remote\",\"Remote\",\"Hybrid\",\"Remote\",\"Remote\",\"Hybrid\",\"WFO\",\"Hybrid\",\"Hybrid\",\"Remote\",\"WFO\",\"Remote\",\"Hybrid\",\"WFO\",\"WFO\",\"Remote\",\"Hybrid\",\"Remote\",\"WFO\",\"WFO\",\"Remote\",\"Hybrid\",\"Remote\",\"Hybrid\",\"Remote\",\"Hybrid\",\"Remote\",\"Remote\",\"WFO\",\"Remote\",\"Remote\",\"Hybrid\",\"Hybrid\",\"Remote\",\"Hybrid\",\"Hybrid\",\"Remote\",\"Remote\",\"Remote\",\"WFO\",\"WFO\",\"Remote\",\"Remote\",\"Remote\",\"Remote\",\"Remote\",\"Remote\",\"WFO\",\"WFO\",\"Remote\",\"Remote\",\"Remote\",\"WFO\",\"WFO\",\"WFO\",\"WFO\",\"Remote\",\"Remote\",\"WFO\",\"WFO\",\"WFO\",\"WFO\",\"Remote\",\"Remote\",\"Remote\",\"Remote\",\"WFO\",\"WFO\",\"WFO\",\"WFO\",\"WFO\",\"WFO\",\"Remote\",\"Remote\",\"Remote\",\"Remote\",\"Remote\",\"Remote\",\"Remote\",\"Remote\",\"Remote\",\"Remote\",\"Remote\",\"Remote\",\"Remote\",\"Remote\",\"Remote\",\"Remote\",\"Remote\",\"Remote\",\"Remote\",\"Remote\",\"Remote\",\"WFO\",\"WFO\",\"WFO\",\"Remote\",\"Remote\",\"Remote\",\"Remote\",\"Remote\",\"WFO\",\"WFO\",\"WFO\",\"Remote\",\"Remote\",\"Remote\",\"Remote\",\"Remote\",\"Remote\",\"Remote\",\"WFO\",\"Remote\",\"WFO\",\"WFO\",\"Remote\",\"Remote\",\"Remote\",\"WFO\",\"WFO\",\"WFO\",\"WFO\",\"Remote\",\"WFO\",\"Remote\",\"Remote\",\"Remote\",\"Remote\",\"Remote\",\"Remote\",\"Remote\",\"Hybrid\",\"Remote\",\"Remote\",\"WFO\",\"Remote\",\"WFO\",\"WFO\",\"WFO\",\"Remote\",\"Remote\",\"Remote\",\"Remote\",\"Remote\",\"WFO\",\"Remote\",\"Remote\",\"Remote\",\"Remote\",\"WFO\",\"WFO\",\"Remote\",\"WFO\",\"WFO\",\"Remote\",\"Remote\",\"Remote\",\"WFO\",\"WFO\",\"Remote\",\"Remote\",\"Remote\",\"Remote\",\"Remote\",\"Remote\",\"WFO\",\"Remote\",\"Remote\",\"Remote\",\"Remote\",\"WFO\",\"WFO\",\"WFO\",\"Remote\",\"Remote\",\"WFO\",\"Remote\",\"Remote\",\"Remote\",\"Remote\",\"Remote\",\"Remote\",\"Remote\",\"Remote\",\"Remote\",\"WFO\",\"WFO\",\"Remote\",\"Remote\",\"Remote\",\"Remote\",\"WFO\",\"Remote\",\"Remote\",\"Remote\",\"Remote\",\"Remote\",\"Remote\",\"Remote\",\"Hybrid\",\"Remote\",\"WFO\",\"Hybrid\",\"Remote\",\"WFO\",\"Remote\",\"Remote\",\"Hybrid\",\"Hybrid\",\"Hybrid\",\"Remote\",\"Remote\",\"Remote\",\"Hybrid\",\"Remote\",\"Remote\",\"Remote\",\"Remote\",\"Remote\",\"Remote\",\"Remote\",\"WFO\",\"WFO\",\"Remote\",\"Remote\",\"Remote\",\"Remote\",\"Remote\",\"Remote\",\"Remote\",\"Remote\",\"Remote\",\"Remote\",\"Remote\",\"Hybrid\",\"Remote\",\"Remote\",\"Remote\",\"Remote\",\"Remote\",\"Remote\",\"Remote\",\"Hybrid\",\"Remote\",\"Remote\",\"Hybrid\",\"Remote\",\"Remote\",\"Remote\",\"Remote\",\"Remote\",\"Remote\",\"Hybrid\",\"Remote\",\"WFO\",\"Remote\",\"Remote\",\"Remote\",\"Hybrid\",\"Remote\",\"Remote\",\"WFO\",\"Remote\",\"Remote\",\"Remote\",\"WFO\",\"Remote\",\"Remote\",\"Remote\",\"Remote\",\"Remote\",\"Remote\",\"Remote\",\"Remote\",\"Remote\",\"Remote\",\"Remote\",\"WFO\",\"WFO\",\"Remote\",\"Remote\",\"Remote\",\"Remote\",\"Remote\",\"Remote\",\"WFO\",\"WFO\",\"Remote\",\"Remote\",\"WFO\",\"WFO\",\"Remote\",\"Remote\",\"Remote\",\"Remote\",\"Remote\",\"Remote\",\"WFO\",\"WFO\",\"Remote\",\"Remote\",\"Remote\",\"Remote\",\"Remote\",\"WFO\",\"WFO\",\"WFO\",\"WFO\",\"WFO\",\"Remote\",\"Remote\",\"Remote\",\"WFO\",\"Remote\",\"WFO\",\"Remote\",\"Remote\",\"Remote\",\"Remote\",\"Remote\",\"Remote\",\"Remote\",\"Remote\",\"Remote\",\"Remote\",\"Remote\",\"Remote\",\"Remote\",\"Remote\",\"Remote\",\"Remote\",\"Remote\",\"Remote\",\"WFO\",\"Remote\",\"WFO\",\"Remote\",\"Remote\",\"Remote\",\"Remote\",\"Remote\",\"Remote\",\"Remote\",\"Remote\",\"Remote\",\"Remote\",\"Remote\",\"WFO\",\"WFO\",\"Remote\",\"Remote\",\"WFO\",\"Remote\",\"Remote\"],\"xaxis\":\"x\",\"yaxis\":\"y\",\"type\":\"histogram\"}],                        {\"template\":{\"data\":{\"barpolar\":[{\"marker\":{\"line\":{\"color\":\"rgb(17,17,17)\",\"width\":0.5},\"pattern\":{\"fillmode\":\"overlay\",\"size\":10,\"solidity\":0.2}},\"type\":\"barpolar\"}],\"bar\":[{\"error_x\":{\"color\":\"#f2f5fa\"},\"error_y\":{\"color\":\"#f2f5fa\"},\"marker\":{\"line\":{\"color\":\"rgb(17,17,17)\",\"width\":0.5},\"pattern\":{\"fillmode\":\"overlay\",\"size\":10,\"solidity\":0.2}},\"type\":\"bar\"}],\"carpet\":[{\"aaxis\":{\"endlinecolor\":\"#A2B1C6\",\"gridcolor\":\"#506784\",\"linecolor\":\"#506784\",\"minorgridcolor\":\"#506784\",\"startlinecolor\":\"#A2B1C6\"},\"baxis\":{\"endlinecolor\":\"#A2B1C6\",\"gridcolor\":\"#506784\",\"linecolor\":\"#506784\",\"minorgridcolor\":\"#506784\",\"startlinecolor\":\"#A2B1C6\"},\"type\":\"carpet\"}],\"choropleth\":[{\"colorbar\":{\"outlinewidth\":0,\"ticks\":\"\"},\"type\":\"choropleth\"}],\"contourcarpet\":[{\"colorbar\":{\"outlinewidth\":0,\"ticks\":\"\"},\"type\":\"contourcarpet\"}],\"contour\":[{\"colorbar\":{\"outlinewidth\":0,\"ticks\":\"\"},\"colorscale\":[[0.0,\"#0d0887\"],[0.1111111111111111,\"#46039f\"],[0.2222222222222222,\"#7201a8\"],[0.3333333333333333,\"#9c179e\"],[0.4444444444444444,\"#bd3786\"],[0.5555555555555556,\"#d8576b\"],[0.6666666666666666,\"#ed7953\"],[0.7777777777777778,\"#fb9f3a\"],[0.8888888888888888,\"#fdca26\"],[1.0,\"#f0f921\"]],\"type\":\"contour\"}],\"heatmapgl\":[{\"colorbar\":{\"outlinewidth\":0,\"ticks\":\"\"},\"colorscale\":[[0.0,\"#0d0887\"],[0.1111111111111111,\"#46039f\"],[0.2222222222222222,\"#7201a8\"],[0.3333333333333333,\"#9c179e\"],[0.4444444444444444,\"#bd3786\"],[0.5555555555555556,\"#d8576b\"],[0.6666666666666666,\"#ed7953\"],[0.7777777777777778,\"#fb9f3a\"],[0.8888888888888888,\"#fdca26\"],[1.0,\"#f0f921\"]],\"type\":\"heatmapgl\"}],\"heatmap\":[{\"colorbar\":{\"outlinewidth\":0,\"ticks\":\"\"},\"colorscale\":[[0.0,\"#0d0887\"],[0.1111111111111111,\"#46039f\"],[0.2222222222222222,\"#7201a8\"],[0.3333333333333333,\"#9c179e\"],[0.4444444444444444,\"#bd3786\"],[0.5555555555555556,\"#d8576b\"],[0.6666666666666666,\"#ed7953\"],[0.7777777777777778,\"#fb9f3a\"],[0.8888888888888888,\"#fdca26\"],[1.0,\"#f0f921\"]],\"type\":\"heatmap\"}],\"histogram2dcontour\":[{\"colorbar\":{\"outlinewidth\":0,\"ticks\":\"\"},\"colorscale\":[[0.0,\"#0d0887\"],[0.1111111111111111,\"#46039f\"],[0.2222222222222222,\"#7201a8\"],[0.3333333333333333,\"#9c179e\"],[0.4444444444444444,\"#bd3786\"],[0.5555555555555556,\"#d8576b\"],[0.6666666666666666,\"#ed7953\"],[0.7777777777777778,\"#fb9f3a\"],[0.8888888888888888,\"#fdca26\"],[1.0,\"#f0f921\"]],\"type\":\"histogram2dcontour\"}],\"histogram2d\":[{\"colorbar\":{\"outlinewidth\":0,\"ticks\":\"\"},\"colorscale\":[[0.0,\"#0d0887\"],[0.1111111111111111,\"#46039f\"],[0.2222222222222222,\"#7201a8\"],[0.3333333333333333,\"#9c179e\"],[0.4444444444444444,\"#bd3786\"],[0.5555555555555556,\"#d8576b\"],[0.6666666666666666,\"#ed7953\"],[0.7777777777777778,\"#fb9f3a\"],[0.8888888888888888,\"#fdca26\"],[1.0,\"#f0f921\"]],\"type\":\"histogram2d\"}],\"histogram\":[{\"marker\":{\"pattern\":{\"fillmode\":\"overlay\",\"size\":10,\"solidity\":0.2}},\"type\":\"histogram\"}],\"mesh3d\":[{\"colorbar\":{\"outlinewidth\":0,\"ticks\":\"\"},\"type\":\"mesh3d\"}],\"parcoords\":[{\"line\":{\"colorbar\":{\"outlinewidth\":0,\"ticks\":\"\"}},\"type\":\"parcoords\"}],\"pie\":[{\"automargin\":true,\"type\":\"pie\"}],\"scatter3d\":[{\"line\":{\"colorbar\":{\"outlinewidth\":0,\"ticks\":\"\"}},\"marker\":{\"colorbar\":{\"outlinewidth\":0,\"ticks\":\"\"}},\"type\":\"scatter3d\"}],\"scattercarpet\":[{\"marker\":{\"colorbar\":{\"outlinewidth\":0,\"ticks\":\"\"}},\"type\":\"scattercarpet\"}],\"scattergeo\":[{\"marker\":{\"colorbar\":{\"outlinewidth\":0,\"ticks\":\"\"}},\"type\":\"scattergeo\"}],\"scattergl\":[{\"marker\":{\"line\":{\"color\":\"#283442\"}},\"type\":\"scattergl\"}],\"scattermapbox\":[{\"marker\":{\"colorbar\":{\"outlinewidth\":0,\"ticks\":\"\"}},\"type\":\"scattermapbox\"}],\"scatterpolargl\":[{\"marker\":{\"colorbar\":{\"outlinewidth\":0,\"ticks\":\"\"}},\"type\":\"scatterpolargl\"}],\"scatterpolar\":[{\"marker\":{\"colorbar\":{\"outlinewidth\":0,\"ticks\":\"\"}},\"type\":\"scatterpolar\"}],\"scatter\":[{\"marker\":{\"line\":{\"color\":\"#283442\"}},\"type\":\"scatter\"}],\"scatterternary\":[{\"marker\":{\"colorbar\":{\"outlinewidth\":0,\"ticks\":\"\"}},\"type\":\"scatterternary\"}],\"surface\":[{\"colorbar\":{\"outlinewidth\":0,\"ticks\":\"\"},\"colorscale\":[[0.0,\"#0d0887\"],[0.1111111111111111,\"#46039f\"],[0.2222222222222222,\"#7201a8\"],[0.3333333333333333,\"#9c179e\"],[0.4444444444444444,\"#bd3786\"],[0.5555555555555556,\"#d8576b\"],[0.6666666666666666,\"#ed7953\"],[0.7777777777777778,\"#fb9f3a\"],[0.8888888888888888,\"#fdca26\"],[1.0,\"#f0f921\"]],\"type\":\"surface\"}],\"table\":[{\"cells\":{\"fill\":{\"color\":\"#506784\"},\"line\":{\"color\":\"rgb(17,17,17)\"}},\"header\":{\"fill\":{\"color\":\"#2a3f5f\"},\"line\":{\"color\":\"rgb(17,17,17)\"}},\"type\":\"table\"}]},\"layout\":{\"annotationdefaults\":{\"arrowcolor\":\"#f2f5fa\",\"arrowhead\":0,\"arrowwidth\":1},\"autotypenumbers\":\"strict\",\"coloraxis\":{\"colorbar\":{\"outlinewidth\":0,\"ticks\":\"\"}},\"colorscale\":{\"diverging\":[[0,\"#8e0152\"],[0.1,\"#c51b7d\"],[0.2,\"#de77ae\"],[0.3,\"#f1b6da\"],[0.4,\"#fde0ef\"],[0.5,\"#f7f7f7\"],[0.6,\"#e6f5d0\"],[0.7,\"#b8e186\"],[0.8,\"#7fbc41\"],[0.9,\"#4d9221\"],[1,\"#276419\"]],\"sequential\":[[0.0,\"#0d0887\"],[0.1111111111111111,\"#46039f\"],[0.2222222222222222,\"#7201a8\"],[0.3333333333333333,\"#9c179e\"],[0.4444444444444444,\"#bd3786\"],[0.5555555555555556,\"#d8576b\"],[0.6666666666666666,\"#ed7953\"],[0.7777777777777778,\"#fb9f3a\"],[0.8888888888888888,\"#fdca26\"],[1.0,\"#f0f921\"]],\"sequentialminus\":[[0.0,\"#0d0887\"],[0.1111111111111111,\"#46039f\"],[0.2222222222222222,\"#7201a8\"],[0.3333333333333333,\"#9c179e\"],[0.4444444444444444,\"#bd3786\"],[0.5555555555555556,\"#d8576b\"],[0.6666666666666666,\"#ed7953\"],[0.7777777777777778,\"#fb9f3a\"],[0.8888888888888888,\"#fdca26\"],[1.0,\"#f0f921\"]]},\"colorway\":[\"#636efa\",\"#EF553B\",\"#00cc96\",\"#ab63fa\",\"#FFA15A\",\"#19d3f3\",\"#FF6692\",\"#B6E880\",\"#FF97FF\",\"#FECB52\"],\"font\":{\"color\":\"#f2f5fa\"},\"geo\":{\"bgcolor\":\"rgb(17,17,17)\",\"lakecolor\":\"rgb(17,17,17)\",\"landcolor\":\"rgb(17,17,17)\",\"showlakes\":true,\"showland\":true,\"subunitcolor\":\"#506784\"},\"hoverlabel\":{\"align\":\"left\"},\"hovermode\":\"closest\",\"mapbox\":{\"style\":\"dark\"},\"paper_bgcolor\":\"rgb(17,17,17)\",\"plot_bgcolor\":\"rgb(17,17,17)\",\"polar\":{\"angularaxis\":{\"gridcolor\":\"#506784\",\"linecolor\":\"#506784\",\"ticks\":\"\"},\"bgcolor\":\"rgb(17,17,17)\",\"radialaxis\":{\"gridcolor\":\"#506784\",\"linecolor\":\"#506784\",\"ticks\":\"\"}},\"scene\":{\"xaxis\":{\"backgroundcolor\":\"rgb(17,17,17)\",\"gridcolor\":\"#506784\",\"gridwidth\":2,\"linecolor\":\"#506784\",\"showbackground\":true,\"ticks\":\"\",\"zerolinecolor\":\"#C8D4E3\"},\"yaxis\":{\"backgroundcolor\":\"rgb(17,17,17)\",\"gridcolor\":\"#506784\",\"gridwidth\":2,\"linecolor\":\"#506784\",\"showbackground\":true,\"ticks\":\"\",\"zerolinecolor\":\"#C8D4E3\"},\"zaxis\":{\"backgroundcolor\":\"rgb(17,17,17)\",\"gridcolor\":\"#506784\",\"gridwidth\":2,\"linecolor\":\"#506784\",\"showbackground\":true,\"ticks\":\"\",\"zerolinecolor\":\"#C8D4E3\"}},\"shapedefaults\":{\"line\":{\"color\":\"#f2f5fa\"}},\"sliderdefaults\":{\"bgcolor\":\"#C8D4E3\",\"bordercolor\":\"rgb(17,17,17)\",\"borderwidth\":1,\"tickwidth\":0},\"ternary\":{\"aaxis\":{\"gridcolor\":\"#506784\",\"linecolor\":\"#506784\",\"ticks\":\"\"},\"baxis\":{\"gridcolor\":\"#506784\",\"linecolor\":\"#506784\",\"ticks\":\"\"},\"bgcolor\":\"rgb(17,17,17)\",\"caxis\":{\"gridcolor\":\"#506784\",\"linecolor\":\"#506784\",\"ticks\":\"\"}},\"title\":{\"x\":0.05},\"updatemenudefaults\":{\"bgcolor\":\"#506784\",\"borderwidth\":0},\"xaxis\":{\"automargin\":true,\"gridcolor\":\"#283442\",\"linecolor\":\"#506784\",\"ticks\":\"\",\"title\":{\"standoff\":15},\"zerolinecolor\":\"#283442\",\"zerolinewidth\":2},\"yaxis\":{\"automargin\":true,\"gridcolor\":\"#283442\",\"linecolor\":\"#506784\",\"ticks\":\"\",\"title\":{\"standoff\":15},\"zerolinecolor\":\"#283442\",\"zerolinewidth\":2}}},\"xaxis\":{\"anchor\":\"y\",\"domain\":[0.0,1.0],\"title\":{\"text\":\"remote_ratio\"}},\"yaxis\":{\"anchor\":\"x\",\"domain\":[0.0,1.0],\"title\":{\"text\":\"percent\"}},\"legend\":{\"tracegroupgap\":0},\"title\":{\"text\":\"The Work Type\"},\"barmode\":\"relative\"},                        {\"responsive\": true}                    ).then(function(){\n",
              "                            \n",
              "var gd = document.getElementById('30459889-beaf-4cb0-a339-33dc085e2386');\n",
              "var x = new MutationObserver(function (mutations, observer) {{\n",
              "        var display = window.getComputedStyle(gd).display;\n",
              "        if (!display || display === 'none') {{\n",
              "            console.log([gd, 'removed!']);\n",
              "            Plotly.purge(gd);\n",
              "            observer.disconnect();\n",
              "        }}\n",
              "}});\n",
              "\n",
              "// Listen for the removal of the full notebook cells\n",
              "var notebookContainer = gd.closest('#notebook-container');\n",
              "if (notebookContainer) {{\n",
              "    x.observe(notebookContainer, {childList: true});\n",
              "}}\n",
              "\n",
              "// Listen for the clearing of the current output cell\n",
              "var outputEl = gd.closest('.output');\n",
              "if (outputEl) {{\n",
              "    x.observe(outputEl, {childList: true});\n",
              "}}\n",
              "\n",
              "                        })                };                            </script>        </div>\n",
              "</body>\n",
              "</html>"
            ]
          },
          "metadata": {}
        }
      ]
    },
    {
      "cell_type": "markdown",
      "source": [
        "62% of the employee are working remotely. Since the data cames from the pandemic era, we want to know if the pandemic has affected the working type of the employee."
      ],
      "metadata": {
        "id": "pyZxMYFyI-5x"
      }
    },
    {
      "cell_type": "code",
      "source": [
        "px.histogram(df,\n",
        "             x='remote_ratio',\n",
        "             color='work_year',\n",
        "             histnorm='percent',\n",
        "             barmode='group',\n",
        "             color_discrete_sequence=px.colors.qualitative.Pastel,\n",
        "             template='plotly_dark',\n",
        "             title='The Work Type'\n",
        "             )"
      ],
      "metadata": {
        "colab": {
          "base_uri": "https://localhost:8080/",
          "height": 542
        },
        "id": "0ZbkScGWJ_YX",
        "outputId": "49c98e25-72ce-4f9e-cff3-e0f613470d0a"
      },
      "execution_count": 69,
      "outputs": [
        {
          "output_type": "display_data",
          "data": {
            "text/html": [
              "<html>\n",
              "<head><meta charset=\"utf-8\" /></head>\n",
              "<body>\n",
              "    <div>            <script src=\"https://cdnjs.cloudflare.com/ajax/libs/mathjax/2.7.5/MathJax.js?config=TeX-AMS-MML_SVG\"></script><script type=\"text/javascript\">if (window.MathJax) {MathJax.Hub.Config({SVG: {font: \"STIX-Web\"}});}</script>                <script type=\"text/javascript\">window.PlotlyConfig = {MathJaxConfig: 'local'};</script>\n",
              "        <script src=\"https://cdn.plot.ly/plotly-2.8.3.min.js\"></script>                <div id=\"cdf65937-8f39-43a6-b0b4-221c069230d9\" class=\"plotly-graph-div\" style=\"height:525px; width:100%;\"></div>            <script type=\"text/javascript\">                                    window.PLOTLYENV=window.PLOTLYENV || {};                                    if (document.getElementById(\"cdf65937-8f39-43a6-b0b4-221c069230d9\")) {                    Plotly.newPlot(                        \"cdf65937-8f39-43a6-b0b4-221c069230d9\",                        [{\"alignmentgroup\":\"True\",\"bingroup\":\"x\",\"histnorm\":\"percent\",\"hovertemplate\":\"work_year=2020<br>remote_ratio=%{x}<br>percent=%{y}<extra></extra>\",\"legendgroup\":\"2020\",\"marker\":{\"color\":\"rgb(102, 197, 204)\",\"pattern\":{\"shape\":\"\"}},\"name\":\"2020\",\"offsetgroup\":\"2020\",\"orientation\":\"v\",\"showlegend\":true,\"x\":[\"WFO\",\"WFO\",\"Hybrid\",\"WFO\",\"Hybrid\",\"Remote\",\"Remote\",\"Hybrid\",\"Remote\",\"Hybrid\",\"WFO\",\"WFO\",\"WFO\",\"Remote\",\"Remote\",\"Hybrid\",\"Remote\",\"Remote\",\"Hybrid\",\"Remote\",\"WFO\",\"Remote\",\"Hybrid\",\"WFO\",\"WFO\",\"Remote\",\"Hybrid\",\"WFO\",\"Remote\",\"Hybrid\",\"Remote\",\"Remote\",\"Remote\",\"WFO\",\"Hybrid\",\"Hybrid\",\"Remote\",\"Hybrid\",\"Remote\",\"Remote\",\"Remote\",\"Hybrid\",\"WFO\",\"Remote\",\"Hybrid\",\"Remote\",\"Remote\",\"Remote\",\"Remote\",\"Hybrid\",\"WFO\",\"Remote\",\"Hybrid\",\"Remote\",\"Remote\",\"Remote\",\"Remote\",\"Remote\",\"Hybrid\",\"Remote\",\"Remote\",\"Remote\",\"Hybrid\",\"Remote\",\"Remote\",\"Hybrid\",\"WFO\",\"Remote\",\"Remote\",\"WFO\",\"Hybrid\",\"Hybrid\"],\"xaxis\":\"x\",\"yaxis\":\"y\",\"type\":\"histogram\"},{\"alignmentgroup\":\"True\",\"bingroup\":\"x\",\"histnorm\":\"percent\",\"hovertemplate\":\"work_year=2021<br>remote_ratio=%{x}<br>percent=%{y}<extra></extra>\",\"legendgroup\":\"2021\",\"marker\":{\"color\":\"rgb(246, 207, 113)\",\"pattern\":{\"shape\":\"\"}},\"name\":\"2021\",\"offsetgroup\":\"2021\",\"orientation\":\"v\",\"showlegend\":true,\"x\":[\"Hybrid\",\"Remote\",\"Remote\",\"Hybrid\",\"Remote\",\"Hybrid\",\"Remote\",\"Remote\",\"Remote\",\"Remote\",\"Hybrid\",\"Remote\",\"Remote\",\"Remote\",\"Hybrid\",\"Remote\",\"Remote\",\"Remote\",\"Remote\",\"Remote\",\"Remote\",\"WFO\",\"Hybrid\",\"Hybrid\",\"Remote\",\"Remote\",\"Remote\",\"Remote\",\"WFO\",\"Remote\",\"Hybrid\",\"WFO\",\"WFO\",\"Hybrid\",\"Remote\",\"Remote\",\"Remote\",\"Remote\",\"Hybrid\",\"Remote\",\"Remote\",\"Remote\",\"Remote\",\"Remote\",\"Remote\",\"Remote\",\"Remote\",\"Remote\",\"Hybrid\",\"Remote\",\"Remote\",\"WFO\",\"Hybrid\",\"Remote\",\"Hybrid\",\"WFO\",\"Remote\",\"Hybrid\",\"Hybrid\",\"Hybrid\",\"Remote\",\"Remote\",\"WFO\",\"Remote\",\"Hybrid\",\"Hybrid\",\"WFO\",\"Remote\",\"Remote\",\"WFO\",\"WFO\",\"Remote\",\"Remote\",\"Hybrid\",\"Hybrid\",\"Remote\",\"Remote\",\"Remote\",\"WFO\",\"Remote\",\"Remote\",\"Remote\",\"Remote\",\"Hybrid\",\"Remote\",\"Hybrid\",\"Remote\",\"Remote\",\"Hybrid\",\"WFO\",\"Hybrid\",\"Hybrid\",\"Hybrid\",\"Remote\",\"Remote\",\"WFO\",\"Hybrid\",\"Remote\",\"Remote\",\"Remote\",\"Remote\",\"Remote\",\"Hybrid\",\"Remote\",\"WFO\",\"Remote\",\"Hybrid\",\"Remote\",\"WFO\",\"Hybrid\",\"WFO\",\"Hybrid\",\"Hybrid\",\"Remote\",\"Remote\",\"Remote\",\"Hybrid\",\"Hybrid\",\"Remote\",\"Hybrid\",\"WFO\",\"Remote\",\"Hybrid\",\"Hybrid\",\"Remote\",\"Remote\",\"Hybrid\",\"Remote\",\"Hybrid\",\"Remote\",\"Remote\",\"Remote\",\"Remote\",\"WFO\",\"Remote\",\"WFO\",\"WFO\",\"WFO\",\"Hybrid\",\"Hybrid\",\"Hybrid\",\"WFO\",\"Hybrid\",\"Remote\",\"Hybrid\",\"Hybrid\",\"Remote\",\"Remote\",\"Remote\",\"Hybrid\",\"WFO\",\"Hybrid\",\"Remote\",\"Remote\",\"Remote\",\"Hybrid\",\"WFO\",\"Remote\",\"Remote\",\"Remote\",\"Remote\",\"Remote\",\"Remote\",\"WFO\",\"Remote\",\"Remote\",\"WFO\",\"Hybrid\",\"Remote\",\"Remote\",\"Remote\",\"Remote\",\"Remote\",\"Hybrid\",\"Hybrid\",\"WFO\",\"Hybrid\",\"Remote\",\"Hybrid\",\"Remote\",\"Remote\",\"Remote\",\"Remote\",\"Hybrid\",\"Remote\",\"Remote\",\"Hybrid\",\"WFO\",\"Hybrid\",\"Hybrid\",\"Remote\",\"WFO\",\"Remote\",\"Hybrid\",\"WFO\",\"WFO\",\"Remote\",\"Hybrid\",\"Remote\",\"WFO\",\"WFO\",\"Remote\",\"Hybrid\",\"Remote\",\"Hybrid\",\"Remote\",\"Hybrid\",\"Remote\",\"Remote\",\"WFO\",\"Remote\",\"Remote\",\"Hybrid\",\"Hybrid\",\"Remote\",\"Hybrid\",\"Hybrid\"],\"xaxis\":\"x\",\"yaxis\":\"y\",\"type\":\"histogram\"},{\"alignmentgroup\":\"True\",\"bingroup\":\"x\",\"histnorm\":\"percent\",\"hovertemplate\":\"work_year=2022<br>remote_ratio=%{x}<br>percent=%{y}<extra></extra>\",\"legendgroup\":\"2022\",\"marker\":{\"color\":\"rgb(248, 156, 116)\",\"pattern\":{\"shape\":\"\"}},\"name\":\"2022\",\"offsetgroup\":\"2022\",\"orientation\":\"v\",\"showlegend\":true,\"x\":[\"Remote\",\"Remote\",\"Remote\",\"WFO\",\"WFO\",\"Remote\",\"Remote\",\"Remote\",\"Remote\",\"Remote\",\"Remote\",\"WFO\",\"WFO\",\"Remote\",\"Remote\",\"Remote\",\"WFO\",\"WFO\",\"WFO\",\"WFO\",\"Remote\",\"Remote\",\"WFO\",\"WFO\",\"WFO\",\"WFO\",\"Remote\",\"Remote\",\"Remote\",\"Remote\",\"WFO\",\"WFO\",\"WFO\",\"WFO\",\"WFO\",\"WFO\",\"Remote\",\"Remote\",\"Remote\",\"Remote\",\"Remote\",\"Remote\",\"Remote\",\"Remote\",\"Remote\",\"Remote\",\"Remote\",\"Remote\",\"Remote\",\"Remote\",\"Remote\",\"Remote\",\"Remote\",\"Remote\",\"Remote\",\"Remote\",\"Remote\",\"WFO\",\"WFO\",\"WFO\",\"Remote\",\"Remote\",\"Remote\",\"Remote\",\"Remote\",\"WFO\",\"WFO\",\"WFO\",\"Remote\",\"Remote\",\"Remote\",\"Remote\",\"Remote\",\"Remote\",\"Remote\",\"WFO\",\"Remote\",\"WFO\",\"WFO\",\"Remote\",\"Remote\",\"Remote\",\"WFO\",\"WFO\",\"WFO\",\"WFO\",\"Remote\",\"WFO\",\"Remote\",\"Remote\",\"Remote\",\"Remote\",\"Remote\",\"Remote\",\"Remote\",\"Hybrid\",\"Remote\",\"Remote\",\"WFO\",\"Remote\",\"WFO\",\"WFO\",\"WFO\",\"Remote\",\"Remote\",\"Remote\",\"Remote\",\"Remote\",\"WFO\",\"Remote\",\"Remote\",\"Remote\",\"Remote\",\"WFO\",\"WFO\",\"Remote\",\"WFO\",\"WFO\",\"Remote\",\"Remote\",\"Remote\",\"WFO\",\"WFO\",\"Remote\",\"Remote\",\"Remote\",\"Remote\",\"Remote\",\"Remote\",\"WFO\",\"Remote\",\"Remote\",\"Remote\",\"Remote\",\"WFO\",\"WFO\",\"WFO\",\"Remote\",\"Remote\",\"WFO\",\"Remote\",\"Remote\",\"Remote\",\"Remote\",\"Remote\",\"Remote\",\"Remote\",\"Remote\",\"Remote\",\"WFO\",\"WFO\",\"Remote\",\"Remote\",\"Remote\",\"Remote\",\"WFO\",\"Remote\",\"Remote\",\"Remote\",\"Remote\",\"Remote\",\"Remote\",\"Remote\",\"Hybrid\",\"Remote\",\"WFO\",\"Hybrid\",\"Remote\",\"WFO\",\"Remote\",\"Remote\",\"Hybrid\",\"Hybrid\",\"Hybrid\",\"Remote\",\"Remote\",\"Remote\",\"Hybrid\",\"Remote\",\"Remote\",\"Remote\",\"Remote\",\"Remote\",\"Remote\",\"Remote\",\"WFO\",\"WFO\",\"Remote\",\"Remote\",\"Remote\",\"Remote\",\"Remote\",\"Remote\",\"Remote\",\"Remote\",\"Remote\",\"Remote\",\"Remote\",\"Hybrid\",\"Remote\",\"Remote\",\"Remote\",\"Remote\",\"Remote\",\"Remote\",\"Remote\",\"Hybrid\",\"Remote\",\"Remote\",\"Hybrid\",\"Remote\",\"Remote\",\"Remote\",\"Remote\",\"Remote\",\"Remote\",\"Hybrid\",\"Remote\",\"WFO\",\"Remote\",\"Remote\",\"Remote\",\"Hybrid\",\"Remote\",\"Remote\",\"WFO\",\"Remote\",\"Remote\",\"Remote\",\"WFO\",\"Remote\",\"Remote\",\"Remote\",\"Remote\",\"Remote\",\"Remote\",\"Remote\",\"Remote\",\"Remote\",\"Remote\",\"Remote\",\"WFO\",\"WFO\",\"Remote\",\"Remote\",\"Remote\",\"Remote\",\"Remote\",\"Remote\",\"WFO\",\"WFO\",\"Remote\",\"Remote\",\"WFO\",\"WFO\",\"Remote\",\"Remote\",\"Remote\",\"Remote\",\"Remote\",\"Remote\",\"WFO\",\"WFO\",\"Remote\",\"Remote\",\"Remote\",\"Remote\",\"Remote\",\"WFO\",\"WFO\",\"WFO\",\"WFO\",\"WFO\",\"Remote\",\"Remote\",\"Remote\",\"WFO\",\"Remote\",\"WFO\",\"Remote\",\"Remote\",\"Remote\",\"Remote\",\"Remote\",\"Remote\",\"Remote\",\"Remote\",\"Remote\",\"Remote\",\"Remote\",\"Remote\",\"Remote\",\"Remote\",\"Remote\",\"Remote\",\"Remote\",\"Remote\",\"WFO\",\"Remote\",\"WFO\",\"Remote\",\"Remote\",\"Remote\",\"Remote\",\"Remote\",\"Remote\",\"Remote\",\"Remote\",\"Remote\",\"Remote\",\"Remote\",\"WFO\",\"WFO\",\"Remote\",\"Remote\",\"WFO\",\"Remote\",\"Remote\"],\"xaxis\":\"x\",\"yaxis\":\"y\",\"type\":\"histogram\"}],                        {\"template\":{\"data\":{\"barpolar\":[{\"marker\":{\"line\":{\"color\":\"rgb(17,17,17)\",\"width\":0.5},\"pattern\":{\"fillmode\":\"overlay\",\"size\":10,\"solidity\":0.2}},\"type\":\"barpolar\"}],\"bar\":[{\"error_x\":{\"color\":\"#f2f5fa\"},\"error_y\":{\"color\":\"#f2f5fa\"},\"marker\":{\"line\":{\"color\":\"rgb(17,17,17)\",\"width\":0.5},\"pattern\":{\"fillmode\":\"overlay\",\"size\":10,\"solidity\":0.2}},\"type\":\"bar\"}],\"carpet\":[{\"aaxis\":{\"endlinecolor\":\"#A2B1C6\",\"gridcolor\":\"#506784\",\"linecolor\":\"#506784\",\"minorgridcolor\":\"#506784\",\"startlinecolor\":\"#A2B1C6\"},\"baxis\":{\"endlinecolor\":\"#A2B1C6\",\"gridcolor\":\"#506784\",\"linecolor\":\"#506784\",\"minorgridcolor\":\"#506784\",\"startlinecolor\":\"#A2B1C6\"},\"type\":\"carpet\"}],\"choropleth\":[{\"colorbar\":{\"outlinewidth\":0,\"ticks\":\"\"},\"type\":\"choropleth\"}],\"contourcarpet\":[{\"colorbar\":{\"outlinewidth\":0,\"ticks\":\"\"},\"type\":\"contourcarpet\"}],\"contour\":[{\"colorbar\":{\"outlinewidth\":0,\"ticks\":\"\"},\"colorscale\":[[0.0,\"#0d0887\"],[0.1111111111111111,\"#46039f\"],[0.2222222222222222,\"#7201a8\"],[0.3333333333333333,\"#9c179e\"],[0.4444444444444444,\"#bd3786\"],[0.5555555555555556,\"#d8576b\"],[0.6666666666666666,\"#ed7953\"],[0.7777777777777778,\"#fb9f3a\"],[0.8888888888888888,\"#fdca26\"],[1.0,\"#f0f921\"]],\"type\":\"contour\"}],\"heatmapgl\":[{\"colorbar\":{\"outlinewidth\":0,\"ticks\":\"\"},\"colorscale\":[[0.0,\"#0d0887\"],[0.1111111111111111,\"#46039f\"],[0.2222222222222222,\"#7201a8\"],[0.3333333333333333,\"#9c179e\"],[0.4444444444444444,\"#bd3786\"],[0.5555555555555556,\"#d8576b\"],[0.6666666666666666,\"#ed7953\"],[0.7777777777777778,\"#fb9f3a\"],[0.8888888888888888,\"#fdca26\"],[1.0,\"#f0f921\"]],\"type\":\"heatmapgl\"}],\"heatmap\":[{\"colorbar\":{\"outlinewidth\":0,\"ticks\":\"\"},\"colorscale\":[[0.0,\"#0d0887\"],[0.1111111111111111,\"#46039f\"],[0.2222222222222222,\"#7201a8\"],[0.3333333333333333,\"#9c179e\"],[0.4444444444444444,\"#bd3786\"],[0.5555555555555556,\"#d8576b\"],[0.6666666666666666,\"#ed7953\"],[0.7777777777777778,\"#fb9f3a\"],[0.8888888888888888,\"#fdca26\"],[1.0,\"#f0f921\"]],\"type\":\"heatmap\"}],\"histogram2dcontour\":[{\"colorbar\":{\"outlinewidth\":0,\"ticks\":\"\"},\"colorscale\":[[0.0,\"#0d0887\"],[0.1111111111111111,\"#46039f\"],[0.2222222222222222,\"#7201a8\"],[0.3333333333333333,\"#9c179e\"],[0.4444444444444444,\"#bd3786\"],[0.5555555555555556,\"#d8576b\"],[0.6666666666666666,\"#ed7953\"],[0.7777777777777778,\"#fb9f3a\"],[0.8888888888888888,\"#fdca26\"],[1.0,\"#f0f921\"]],\"type\":\"histogram2dcontour\"}],\"histogram2d\":[{\"colorbar\":{\"outlinewidth\":0,\"ticks\":\"\"},\"colorscale\":[[0.0,\"#0d0887\"],[0.1111111111111111,\"#46039f\"],[0.2222222222222222,\"#7201a8\"],[0.3333333333333333,\"#9c179e\"],[0.4444444444444444,\"#bd3786\"],[0.5555555555555556,\"#d8576b\"],[0.6666666666666666,\"#ed7953\"],[0.7777777777777778,\"#fb9f3a\"],[0.8888888888888888,\"#fdca26\"],[1.0,\"#f0f921\"]],\"type\":\"histogram2d\"}],\"histogram\":[{\"marker\":{\"pattern\":{\"fillmode\":\"overlay\",\"size\":10,\"solidity\":0.2}},\"type\":\"histogram\"}],\"mesh3d\":[{\"colorbar\":{\"outlinewidth\":0,\"ticks\":\"\"},\"type\":\"mesh3d\"}],\"parcoords\":[{\"line\":{\"colorbar\":{\"outlinewidth\":0,\"ticks\":\"\"}},\"type\":\"parcoords\"}],\"pie\":[{\"automargin\":true,\"type\":\"pie\"}],\"scatter3d\":[{\"line\":{\"colorbar\":{\"outlinewidth\":0,\"ticks\":\"\"}},\"marker\":{\"colorbar\":{\"outlinewidth\":0,\"ticks\":\"\"}},\"type\":\"scatter3d\"}],\"scattercarpet\":[{\"marker\":{\"colorbar\":{\"outlinewidth\":0,\"ticks\":\"\"}},\"type\":\"scattercarpet\"}],\"scattergeo\":[{\"marker\":{\"colorbar\":{\"outlinewidth\":0,\"ticks\":\"\"}},\"type\":\"scattergeo\"}],\"scattergl\":[{\"marker\":{\"line\":{\"color\":\"#283442\"}},\"type\":\"scattergl\"}],\"scattermapbox\":[{\"marker\":{\"colorbar\":{\"outlinewidth\":0,\"ticks\":\"\"}},\"type\":\"scattermapbox\"}],\"scatterpolargl\":[{\"marker\":{\"colorbar\":{\"outlinewidth\":0,\"ticks\":\"\"}},\"type\":\"scatterpolargl\"}],\"scatterpolar\":[{\"marker\":{\"colorbar\":{\"outlinewidth\":0,\"ticks\":\"\"}},\"type\":\"scatterpolar\"}],\"scatter\":[{\"marker\":{\"line\":{\"color\":\"#283442\"}},\"type\":\"scatter\"}],\"scatterternary\":[{\"marker\":{\"colorbar\":{\"outlinewidth\":0,\"ticks\":\"\"}},\"type\":\"scatterternary\"}],\"surface\":[{\"colorbar\":{\"outlinewidth\":0,\"ticks\":\"\"},\"colorscale\":[[0.0,\"#0d0887\"],[0.1111111111111111,\"#46039f\"],[0.2222222222222222,\"#7201a8\"],[0.3333333333333333,\"#9c179e\"],[0.4444444444444444,\"#bd3786\"],[0.5555555555555556,\"#d8576b\"],[0.6666666666666666,\"#ed7953\"],[0.7777777777777778,\"#fb9f3a\"],[0.8888888888888888,\"#fdca26\"],[1.0,\"#f0f921\"]],\"type\":\"surface\"}],\"table\":[{\"cells\":{\"fill\":{\"color\":\"#506784\"},\"line\":{\"color\":\"rgb(17,17,17)\"}},\"header\":{\"fill\":{\"color\":\"#2a3f5f\"},\"line\":{\"color\":\"rgb(17,17,17)\"}},\"type\":\"table\"}]},\"layout\":{\"annotationdefaults\":{\"arrowcolor\":\"#f2f5fa\",\"arrowhead\":0,\"arrowwidth\":1},\"autotypenumbers\":\"strict\",\"coloraxis\":{\"colorbar\":{\"outlinewidth\":0,\"ticks\":\"\"}},\"colorscale\":{\"diverging\":[[0,\"#8e0152\"],[0.1,\"#c51b7d\"],[0.2,\"#de77ae\"],[0.3,\"#f1b6da\"],[0.4,\"#fde0ef\"],[0.5,\"#f7f7f7\"],[0.6,\"#e6f5d0\"],[0.7,\"#b8e186\"],[0.8,\"#7fbc41\"],[0.9,\"#4d9221\"],[1,\"#276419\"]],\"sequential\":[[0.0,\"#0d0887\"],[0.1111111111111111,\"#46039f\"],[0.2222222222222222,\"#7201a8\"],[0.3333333333333333,\"#9c179e\"],[0.4444444444444444,\"#bd3786\"],[0.5555555555555556,\"#d8576b\"],[0.6666666666666666,\"#ed7953\"],[0.7777777777777778,\"#fb9f3a\"],[0.8888888888888888,\"#fdca26\"],[1.0,\"#f0f921\"]],\"sequentialminus\":[[0.0,\"#0d0887\"],[0.1111111111111111,\"#46039f\"],[0.2222222222222222,\"#7201a8\"],[0.3333333333333333,\"#9c179e\"],[0.4444444444444444,\"#bd3786\"],[0.5555555555555556,\"#d8576b\"],[0.6666666666666666,\"#ed7953\"],[0.7777777777777778,\"#fb9f3a\"],[0.8888888888888888,\"#fdca26\"],[1.0,\"#f0f921\"]]},\"colorway\":[\"#636efa\",\"#EF553B\",\"#00cc96\",\"#ab63fa\",\"#FFA15A\",\"#19d3f3\",\"#FF6692\",\"#B6E880\",\"#FF97FF\",\"#FECB52\"],\"font\":{\"color\":\"#f2f5fa\"},\"geo\":{\"bgcolor\":\"rgb(17,17,17)\",\"lakecolor\":\"rgb(17,17,17)\",\"landcolor\":\"rgb(17,17,17)\",\"showlakes\":true,\"showland\":true,\"subunitcolor\":\"#506784\"},\"hoverlabel\":{\"align\":\"left\"},\"hovermode\":\"closest\",\"mapbox\":{\"style\":\"dark\"},\"paper_bgcolor\":\"rgb(17,17,17)\",\"plot_bgcolor\":\"rgb(17,17,17)\",\"polar\":{\"angularaxis\":{\"gridcolor\":\"#506784\",\"linecolor\":\"#506784\",\"ticks\":\"\"},\"bgcolor\":\"rgb(17,17,17)\",\"radialaxis\":{\"gridcolor\":\"#506784\",\"linecolor\":\"#506784\",\"ticks\":\"\"}},\"scene\":{\"xaxis\":{\"backgroundcolor\":\"rgb(17,17,17)\",\"gridcolor\":\"#506784\",\"gridwidth\":2,\"linecolor\":\"#506784\",\"showbackground\":true,\"ticks\":\"\",\"zerolinecolor\":\"#C8D4E3\"},\"yaxis\":{\"backgroundcolor\":\"rgb(17,17,17)\",\"gridcolor\":\"#506784\",\"gridwidth\":2,\"linecolor\":\"#506784\",\"showbackground\":true,\"ticks\":\"\",\"zerolinecolor\":\"#C8D4E3\"},\"zaxis\":{\"backgroundcolor\":\"rgb(17,17,17)\",\"gridcolor\":\"#506784\",\"gridwidth\":2,\"linecolor\":\"#506784\",\"showbackground\":true,\"ticks\":\"\",\"zerolinecolor\":\"#C8D4E3\"}},\"shapedefaults\":{\"line\":{\"color\":\"#f2f5fa\"}},\"sliderdefaults\":{\"bgcolor\":\"#C8D4E3\",\"bordercolor\":\"rgb(17,17,17)\",\"borderwidth\":1,\"tickwidth\":0},\"ternary\":{\"aaxis\":{\"gridcolor\":\"#506784\",\"linecolor\":\"#506784\",\"ticks\":\"\"},\"baxis\":{\"gridcolor\":\"#506784\",\"linecolor\":\"#506784\",\"ticks\":\"\"},\"bgcolor\":\"rgb(17,17,17)\",\"caxis\":{\"gridcolor\":\"#506784\",\"linecolor\":\"#506784\",\"ticks\":\"\"}},\"title\":{\"x\":0.05},\"updatemenudefaults\":{\"bgcolor\":\"#506784\",\"borderwidth\":0},\"xaxis\":{\"automargin\":true,\"gridcolor\":\"#283442\",\"linecolor\":\"#506784\",\"ticks\":\"\",\"title\":{\"standoff\":15},\"zerolinecolor\":\"#283442\",\"zerolinewidth\":2},\"yaxis\":{\"automargin\":true,\"gridcolor\":\"#283442\",\"linecolor\":\"#506784\",\"ticks\":\"\",\"title\":{\"standoff\":15},\"zerolinecolor\":\"#283442\",\"zerolinewidth\":2}}},\"xaxis\":{\"anchor\":\"y\",\"domain\":[0.0,1.0],\"title\":{\"text\":\"remote_ratio\"}},\"yaxis\":{\"anchor\":\"x\",\"domain\":[0.0,1.0],\"title\":{\"text\":\"percent\"}},\"legend\":{\"title\":{\"text\":\"work_year\"},\"tracegroupgap\":0},\"title\":{\"text\":\"The Work Type\"},\"barmode\":\"group\"},                        {\"responsive\": true}                    ).then(function(){\n",
              "                            \n",
              "var gd = document.getElementById('cdf65937-8f39-43a6-b0b4-221c069230d9');\n",
              "var x = new MutationObserver(function (mutations, observer) {{\n",
              "        var display = window.getComputedStyle(gd).display;\n",
              "        if (!display || display === 'none') {{\n",
              "            console.log([gd, 'removed!']);\n",
              "            Plotly.purge(gd);\n",
              "            observer.disconnect();\n",
              "        }}\n",
              "}});\n",
              "\n",
              "// Listen for the removal of the full notebook cells\n",
              "var notebookContainer = gd.closest('#notebook-container');\n",
              "if (notebookContainer) {{\n",
              "    x.observe(notebookContainer, {childList: true});\n",
              "}}\n",
              "\n",
              "// Listen for the clearing of the current output cell\n",
              "var outputEl = gd.closest('.output');\n",
              "if (outputEl) {{\n",
              "    x.observe(outputEl, {childList: true});\n",
              "}}\n",
              "\n",
              "                        })                };                            </script>        </div>\n",
              "</body>\n",
              "</html>"
            ]
          },
          "metadata": {}
        }
      ]
    },
    {
      "cell_type": "markdown",
      "source": [
        "\n",
        "\n",
        "1.   In 2020 half of the work remotely with the rest either working from office or working with hybrid shift\n",
        "2.   Then 2021 number of employee working from office decreasing thus increasing the number of employee either working hybrid or remote.\n",
        "3.   The pandemic slows down in 2022, the hybrid shift is no longer favourable, a quarter of the population working from office. Since working remotely becoming more easier, 71% of employee then choose to work remotely.\n",
        "\n"
      ],
      "metadata": {
        "id": "MA_lNI9II0qH"
      }
    },
    {
      "cell_type": "markdown",
      "source": [
        "### 3. Where is these guys came from?"
      ],
      "metadata": {
        "id": "NJH92PxqNef2"
      }
    },
    {
      "cell_type": "markdown",
      "source": [
        "We want to know these data science people came from"
      ],
      "metadata": {
        "id": "qhnquMQhNnFa"
      }
    },
    {
      "cell_type": "code",
      "source": [
        "px.histogram(df,\n",
        "             x = df.employee_country.sort_values(),\n",
        "             histnorm='percent',\n",
        "             text_auto='.1f',\n",
        "             color_discrete_sequence=px.colors.qualitative.Safe,\n",
        "             template='plotly_dark',\n",
        "             title='Count Employee residece in each country'\n",
        "             )"
      ],
      "metadata": {
        "colab": {
          "base_uri": "https://localhost:8080/",
          "height": 542
        },
        "id": "KJd3dJxzIuH2",
        "outputId": "391a3607-0856-4c4e-8466-41d55cf14edd"
      },
      "execution_count": 38,
      "outputs": [
        {
          "output_type": "display_data",
          "data": {
            "text/html": [
              "<html>\n",
              "<head><meta charset=\"utf-8\" /></head>\n",
              "<body>\n",
              "    <div>            <script src=\"https://cdnjs.cloudflare.com/ajax/libs/mathjax/2.7.5/MathJax.js?config=TeX-AMS-MML_SVG\"></script><script type=\"text/javascript\">if (window.MathJax) {MathJax.Hub.Config({SVG: {font: \"STIX-Web\"}});}</script>                <script type=\"text/javascript\">window.PlotlyConfig = {MathJaxConfig: 'local'};</script>\n",
              "        <script src=\"https://cdn.plot.ly/plotly-2.8.3.min.js\"></script>                <div id=\"2954f129-7149-4531-ae66-29e500e74897\" class=\"plotly-graph-div\" style=\"height:525px; width:100%;\"></div>            <script type=\"text/javascript\">                                    window.PLOTLYENV=window.PLOTLYENV || {};                                    if (document.getElementById(\"2954f129-7149-4531-ae66-29e500e74897\")) {                    Plotly.newPlot(                        \"2954f129-7149-4531-ae66-29e500e74897\",                        [{\"alignmentgroup\":\"True\",\"bingroup\":\"x\",\"histnorm\":\"percent\",\"hovertemplate\":\"x=%{x}<br>percent=%{y}<extra></extra>\",\"legendgroup\":\"\",\"marker\":{\"color\":\"rgb(136, 204, 238)\",\"pattern\":{\"shape\":\"\"}},\"name\":\"\",\"offsetgroup\":\"\",\"orientation\":\"v\",\"showlegend\":false,\"texttemplate\":\"%{value:.1f}\",\"x\":[\"Algeria\",\"Argentina\",\"Australia\",\"Australia\",\"Australia\",\"Austria\",\"Austria\",\"Austria\",\"Belgium\",\"Belgium\",\"Bolivia, Plurinational State of\",\"Brazil\",\"Brazil\",\"Brazil\",\"Brazil\",\"Brazil\",\"Brazil\",\"Bulgaria\",\"Canada\",\"Canada\",\"Canada\",\"Canada\",\"Canada\",\"Canada\",\"Canada\",\"Canada\",\"Canada\",\"Canada\",\"Canada\",\"Canada\",\"Canada\",\"Canada\",\"Canada\",\"Canada\",\"Canada\",\"Canada\",\"Canada\",\"Canada\",\"Canada\",\"Canada\",\"Canada\",\"Canada\",\"Canada\",\"Canada\",\"Canada\",\"Canada\",\"Canada\",\"Chile\",\"China\",\"Colombia\",\"Croatia\",\"Czechia\",\"Denmark\",\"Denmark\",\"Estonia\",\"France\",\"France\",\"France\",\"France\",\"France\",\"France\",\"France\",\"France\",\"France\",\"France\",\"France\",\"France\",\"France\",\"France\",\"France\",\"France\",\"France\",\"France\",\"Germany\",\"Germany\",\"Germany\",\"Germany\",\"Germany\",\"Germany\",\"Germany\",\"Germany\",\"Germany\",\"Germany\",\"Germany\",\"Germany\",\"Germany\",\"Germany\",\"Germany\",\"Germany\",\"Germany\",\"Germany\",\"Germany\",\"Germany\",\"Germany\",\"Germany\",\"Germany\",\"Germany\",\"Germany\",\"Greece\",\"Greece\",\"Greece\",\"Greece\",\"Greece\",\"Greece\",\"Greece\",\"Greece\",\"Greece\",\"Greece\",\"Greece\",\"Greece\",\"Greece\",\"Honduras\",\"Hong Kong\",\"Hungary\",\"Hungary\",\"India\",\"India\",\"India\",\"India\",\"India\",\"India\",\"India\",\"India\",\"India\",\"India\",\"India\",\"India\",\"India\",\"India\",\"India\",\"India\",\"India\",\"India\",\"India\",\"India\",\"India\",\"India\",\"India\",\"India\",\"India\",\"India\",\"India\",\"India\",\"India\",\"India\",\"Iran, Islamic Republic of\",\"Iraq\",\"Ireland\",\"Italy\",\"Italy\",\"Italy\",\"Italy\",\"Japan\",\"Japan\",\"Japan\",\"Japan\",\"Japan\",\"Japan\",\"Japan\",\"Jersey\",\"Kenya\",\"Luxembourg\",\"Malaysia\",\"Malta\",\"Mexico\",\"Mexico\",\"Moldova, Republic of\",\"Netherlands\",\"Netherlands\",\"Netherlands\",\"Netherlands\",\"Netherlands\",\"New Zealand\",\"Nigeria\",\"Nigeria\",\"Pakistan\",\"Pakistan\",\"Pakistan\",\"Pakistan\",\"Pakistan\",\"Pakistan\",\"Philippines\",\"Poland\",\"Poland\",\"Poland\",\"Poland\",\"Portugal\",\"Portugal\",\"Portugal\",\"Portugal\",\"Portugal\",\"Portugal\",\"Puerto Rico\",\"Romania\",\"Romania\",\"Russian Federation\",\"Russian Federation\",\"Russian Federation\",\"Russian Federation\",\"Serbia\",\"Singapore\",\"Singapore\",\"Slovenia\",\"Slovenia\",\"Spain\",\"Spain\",\"Spain\",\"Spain\",\"Spain\",\"Spain\",\"Spain\",\"Spain\",\"Spain\",\"Spain\",\"Spain\",\"Spain\",\"Spain\",\"Spain\",\"Spain\",\"Switzerland\",\"Tunisia\",\"Turkey\",\"Turkey\",\"Turkey\",\"Ukraine\",\"United Arab Emirates\",\"United Arab Emirates\",\"United Arab Emirates\",\"United Kingdom\",\"United Kingdom\",\"United Kingdom\",\"United Kingdom\",\"United Kingdom\",\"United Kingdom\",\"United Kingdom\",\"United Kingdom\",\"United Kingdom\",\"United Kingdom\",\"United Kingdom\",\"United Kingdom\",\"United Kingdom\",\"United Kingdom\",\"United Kingdom\",\"United Kingdom\",\"United Kingdom\",\"United Kingdom\",\"United Kingdom\",\"United Kingdom\",\"United Kingdom\",\"United Kingdom\",\"United Kingdom\",\"United Kingdom\",\"United Kingdom\",\"United Kingdom\",\"United Kingdom\",\"United Kingdom\",\"United Kingdom\",\"United Kingdom\",\"United Kingdom\",\"United Kingdom\",\"United Kingdom\",\"United Kingdom\",\"United Kingdom\",\"United Kingdom\",\"United Kingdom\",\"United Kingdom\",\"United Kingdom\",\"United Kingdom\",\"United Kingdom\",\"United Kingdom\",\"United Kingdom\",\"United Kingdom\",\"United States\",\"United States\",\"United States\",\"United States\",\"United States\",\"United States\",\"United States\",\"United States\",\"United States\",\"United States\",\"United States\",\"United States\",\"United States\",\"United States\",\"United States\",\"United States\",\"United States\",\"United States\",\"United States\",\"United States\",\"United States\",\"United States\",\"United States\",\"United States\",\"United States\",\"United States\",\"United States\",\"United States\",\"United States\",\"United States\",\"United States\",\"United States\",\"United States\",\"United States\",\"United States\",\"United States\",\"United States\",\"United States\",\"United States\",\"United States\",\"United States\",\"United States\",\"United States\",\"United States\",\"United States\",\"United States\",\"United States\",\"United States\",\"United States\",\"United States\",\"United States\",\"United States\",\"United States\",\"United States\",\"United States\",\"United States\",\"United States\",\"United States\",\"United States\",\"United States\",\"United States\",\"United States\",\"United States\",\"United States\",\"United States\",\"United States\",\"United States\",\"United States\",\"United States\",\"United States\",\"United States\",\"United States\",\"United States\",\"United States\",\"United States\",\"United States\",\"United States\",\"United States\",\"United States\",\"United States\",\"United States\",\"United States\",\"United States\",\"United States\",\"United States\",\"United States\",\"United States\",\"United States\",\"United States\",\"United States\",\"United States\",\"United States\",\"United States\",\"United States\",\"United States\",\"United States\",\"United States\",\"United States\",\"United States\",\"United States\",\"United States\",\"United States\",\"United States\",\"United States\",\"United States\",\"United States\",\"United States\",\"United States\",\"United States\",\"United States\",\"United States\",\"United States\",\"United States\",\"United States\",\"United States\",\"United States\",\"United States\",\"United States\",\"United States\",\"United States\",\"United States\",\"United States\",\"United States\",\"United States\",\"United States\",\"United States\",\"United States\",\"United States\",\"United States\",\"United States\",\"United States\",\"United States\",\"United States\",\"United States\",\"United States\",\"United States\",\"United States\",\"United States\",\"United States\",\"United States\",\"United States\",\"United States\",\"United States\",\"United States\",\"United States\",\"United States\",\"United States\",\"United States\",\"United States\",\"United States\",\"United States\",\"United States\",\"United States\",\"United States\",\"United States\",\"United States\",\"United States\",\"United States\",\"United States\",\"United States\",\"United States\",\"United States\",\"United States\",\"United States\",\"United States\",\"United States\",\"United States\",\"United States\",\"United States\",\"United States\",\"United States\",\"United States\",\"United States\",\"United States\",\"United States\",\"United States\",\"United States\",\"United States\",\"United States\",\"United States\",\"United States\",\"United States\",\"United States\",\"United States\",\"United States\",\"United States\",\"United States\",\"United States\",\"United States\",\"United States\",\"United States\",\"United States\",\"United States\",\"United States\",\"United States\",\"United States\",\"United States\",\"United States\",\"United States\",\"United States\",\"United States\",\"United States\",\"United States\",\"United States\",\"United States\",\"United States\",\"United States\",\"United States\",\"United States\",\"United States\",\"United States\",\"United States\",\"United States\",\"United States\",\"United States\",\"United States\",\"United States\",\"United States\",\"United States\",\"United States\",\"United States\",\"United States\",\"United States\",\"United States\",\"United States\",\"United States\",\"United States\",\"United States\",\"United States\",\"United States\",\"United States\",\"United States\",\"United States\",\"United States\",\"United States\",\"United States\",\"United States\",\"United States\",\"United States\",\"United States\",\"United States\",\"United States\",\"United States\",\"United States\",\"United States\",\"United States\",\"United States\",\"United States\",\"United States\",\"United States\",\"United States\",\"United States\",\"United States\",\"United States\",\"United States\",\"United States\",\"United States\",\"United States\",\"United States\",\"United States\",\"United States\",\"United States\",\"United States\",\"United States\",\"United States\",\"United States\",\"United States\",\"United States\",\"United States\",\"United States\",\"United States\",\"United States\",\"United States\",\"United States\",\"United States\",\"United States\",\"United States\",\"United States\",\"United States\",\"United States\",\"United States\",\"United States\",\"United States\",\"United States\",\"United States\",\"United States\",\"United States\",\"United States\",\"United States\",\"United States\",\"United States\",\"United States\",\"United States\",\"United States\",\"United States\",\"United States\",\"United States\",\"United States\",\"United States\",\"United States\",\"United States\",\"United States\",\"United States\",\"United States\",\"United States\",\"United States\",\"United States\",\"United States\",\"United States\",\"United States\",\"United States\",\"United States\",\"United States\",\"United States\",\"United States\",\"United States\",\"United States\",\"United States\",\"United States\",\"United States\",\"United States\",\"United States\",\"United States\",\"United States\",\"United States\",\"United States\",\"United States\",\"United States\",\"United States\",\"United States\",\"United States\",\"United States\",\"Viet Nam\",\"Viet Nam\",\"Viet Nam\"],\"xaxis\":\"x\",\"yaxis\":\"y\",\"type\":\"histogram\"}],                        {\"template\":{\"data\":{\"barpolar\":[{\"marker\":{\"line\":{\"color\":\"rgb(17,17,17)\",\"width\":0.5},\"pattern\":{\"fillmode\":\"overlay\",\"size\":10,\"solidity\":0.2}},\"type\":\"barpolar\"}],\"bar\":[{\"error_x\":{\"color\":\"#f2f5fa\"},\"error_y\":{\"color\":\"#f2f5fa\"},\"marker\":{\"line\":{\"color\":\"rgb(17,17,17)\",\"width\":0.5},\"pattern\":{\"fillmode\":\"overlay\",\"size\":10,\"solidity\":0.2}},\"type\":\"bar\"}],\"carpet\":[{\"aaxis\":{\"endlinecolor\":\"#A2B1C6\",\"gridcolor\":\"#506784\",\"linecolor\":\"#506784\",\"minorgridcolor\":\"#506784\",\"startlinecolor\":\"#A2B1C6\"},\"baxis\":{\"endlinecolor\":\"#A2B1C6\",\"gridcolor\":\"#506784\",\"linecolor\":\"#506784\",\"minorgridcolor\":\"#506784\",\"startlinecolor\":\"#A2B1C6\"},\"type\":\"carpet\"}],\"choropleth\":[{\"colorbar\":{\"outlinewidth\":0,\"ticks\":\"\"},\"type\":\"choropleth\"}],\"contourcarpet\":[{\"colorbar\":{\"outlinewidth\":0,\"ticks\":\"\"},\"type\":\"contourcarpet\"}],\"contour\":[{\"colorbar\":{\"outlinewidth\":0,\"ticks\":\"\"},\"colorscale\":[[0.0,\"#0d0887\"],[0.1111111111111111,\"#46039f\"],[0.2222222222222222,\"#7201a8\"],[0.3333333333333333,\"#9c179e\"],[0.4444444444444444,\"#bd3786\"],[0.5555555555555556,\"#d8576b\"],[0.6666666666666666,\"#ed7953\"],[0.7777777777777778,\"#fb9f3a\"],[0.8888888888888888,\"#fdca26\"],[1.0,\"#f0f921\"]],\"type\":\"contour\"}],\"heatmapgl\":[{\"colorbar\":{\"outlinewidth\":0,\"ticks\":\"\"},\"colorscale\":[[0.0,\"#0d0887\"],[0.1111111111111111,\"#46039f\"],[0.2222222222222222,\"#7201a8\"],[0.3333333333333333,\"#9c179e\"],[0.4444444444444444,\"#bd3786\"],[0.5555555555555556,\"#d8576b\"],[0.6666666666666666,\"#ed7953\"],[0.7777777777777778,\"#fb9f3a\"],[0.8888888888888888,\"#fdca26\"],[1.0,\"#f0f921\"]],\"type\":\"heatmapgl\"}],\"heatmap\":[{\"colorbar\":{\"outlinewidth\":0,\"ticks\":\"\"},\"colorscale\":[[0.0,\"#0d0887\"],[0.1111111111111111,\"#46039f\"],[0.2222222222222222,\"#7201a8\"],[0.3333333333333333,\"#9c179e\"],[0.4444444444444444,\"#bd3786\"],[0.5555555555555556,\"#d8576b\"],[0.6666666666666666,\"#ed7953\"],[0.7777777777777778,\"#fb9f3a\"],[0.8888888888888888,\"#fdca26\"],[1.0,\"#f0f921\"]],\"type\":\"heatmap\"}],\"histogram2dcontour\":[{\"colorbar\":{\"outlinewidth\":0,\"ticks\":\"\"},\"colorscale\":[[0.0,\"#0d0887\"],[0.1111111111111111,\"#46039f\"],[0.2222222222222222,\"#7201a8\"],[0.3333333333333333,\"#9c179e\"],[0.4444444444444444,\"#bd3786\"],[0.5555555555555556,\"#d8576b\"],[0.6666666666666666,\"#ed7953\"],[0.7777777777777778,\"#fb9f3a\"],[0.8888888888888888,\"#fdca26\"],[1.0,\"#f0f921\"]],\"type\":\"histogram2dcontour\"}],\"histogram2d\":[{\"colorbar\":{\"outlinewidth\":0,\"ticks\":\"\"},\"colorscale\":[[0.0,\"#0d0887\"],[0.1111111111111111,\"#46039f\"],[0.2222222222222222,\"#7201a8\"],[0.3333333333333333,\"#9c179e\"],[0.4444444444444444,\"#bd3786\"],[0.5555555555555556,\"#d8576b\"],[0.6666666666666666,\"#ed7953\"],[0.7777777777777778,\"#fb9f3a\"],[0.8888888888888888,\"#fdca26\"],[1.0,\"#f0f921\"]],\"type\":\"histogram2d\"}],\"histogram\":[{\"marker\":{\"pattern\":{\"fillmode\":\"overlay\",\"size\":10,\"solidity\":0.2}},\"type\":\"histogram\"}],\"mesh3d\":[{\"colorbar\":{\"outlinewidth\":0,\"ticks\":\"\"},\"type\":\"mesh3d\"}],\"parcoords\":[{\"line\":{\"colorbar\":{\"outlinewidth\":0,\"ticks\":\"\"}},\"type\":\"parcoords\"}],\"pie\":[{\"automargin\":true,\"type\":\"pie\"}],\"scatter3d\":[{\"line\":{\"colorbar\":{\"outlinewidth\":0,\"ticks\":\"\"}},\"marker\":{\"colorbar\":{\"outlinewidth\":0,\"ticks\":\"\"}},\"type\":\"scatter3d\"}],\"scattercarpet\":[{\"marker\":{\"colorbar\":{\"outlinewidth\":0,\"ticks\":\"\"}},\"type\":\"scattercarpet\"}],\"scattergeo\":[{\"marker\":{\"colorbar\":{\"outlinewidth\":0,\"ticks\":\"\"}},\"type\":\"scattergeo\"}],\"scattergl\":[{\"marker\":{\"line\":{\"color\":\"#283442\"}},\"type\":\"scattergl\"}],\"scattermapbox\":[{\"marker\":{\"colorbar\":{\"outlinewidth\":0,\"ticks\":\"\"}},\"type\":\"scattermapbox\"}],\"scatterpolargl\":[{\"marker\":{\"colorbar\":{\"outlinewidth\":0,\"ticks\":\"\"}},\"type\":\"scatterpolargl\"}],\"scatterpolar\":[{\"marker\":{\"colorbar\":{\"outlinewidth\":0,\"ticks\":\"\"}},\"type\":\"scatterpolar\"}],\"scatter\":[{\"marker\":{\"line\":{\"color\":\"#283442\"}},\"type\":\"scatter\"}],\"scatterternary\":[{\"marker\":{\"colorbar\":{\"outlinewidth\":0,\"ticks\":\"\"}},\"type\":\"scatterternary\"}],\"surface\":[{\"colorbar\":{\"outlinewidth\":0,\"ticks\":\"\"},\"colorscale\":[[0.0,\"#0d0887\"],[0.1111111111111111,\"#46039f\"],[0.2222222222222222,\"#7201a8\"],[0.3333333333333333,\"#9c179e\"],[0.4444444444444444,\"#bd3786\"],[0.5555555555555556,\"#d8576b\"],[0.6666666666666666,\"#ed7953\"],[0.7777777777777778,\"#fb9f3a\"],[0.8888888888888888,\"#fdca26\"],[1.0,\"#f0f921\"]],\"type\":\"surface\"}],\"table\":[{\"cells\":{\"fill\":{\"color\":\"#506784\"},\"line\":{\"color\":\"rgb(17,17,17)\"}},\"header\":{\"fill\":{\"color\":\"#2a3f5f\"},\"line\":{\"color\":\"rgb(17,17,17)\"}},\"type\":\"table\"}]},\"layout\":{\"annotationdefaults\":{\"arrowcolor\":\"#f2f5fa\",\"arrowhead\":0,\"arrowwidth\":1},\"autotypenumbers\":\"strict\",\"coloraxis\":{\"colorbar\":{\"outlinewidth\":0,\"ticks\":\"\"}},\"colorscale\":{\"diverging\":[[0,\"#8e0152\"],[0.1,\"#c51b7d\"],[0.2,\"#de77ae\"],[0.3,\"#f1b6da\"],[0.4,\"#fde0ef\"],[0.5,\"#f7f7f7\"],[0.6,\"#e6f5d0\"],[0.7,\"#b8e186\"],[0.8,\"#7fbc41\"],[0.9,\"#4d9221\"],[1,\"#276419\"]],\"sequential\":[[0.0,\"#0d0887\"],[0.1111111111111111,\"#46039f\"],[0.2222222222222222,\"#7201a8\"],[0.3333333333333333,\"#9c179e\"],[0.4444444444444444,\"#bd3786\"],[0.5555555555555556,\"#d8576b\"],[0.6666666666666666,\"#ed7953\"],[0.7777777777777778,\"#fb9f3a\"],[0.8888888888888888,\"#fdca26\"],[1.0,\"#f0f921\"]],\"sequentialminus\":[[0.0,\"#0d0887\"],[0.1111111111111111,\"#46039f\"],[0.2222222222222222,\"#7201a8\"],[0.3333333333333333,\"#9c179e\"],[0.4444444444444444,\"#bd3786\"],[0.5555555555555556,\"#d8576b\"],[0.6666666666666666,\"#ed7953\"],[0.7777777777777778,\"#fb9f3a\"],[0.8888888888888888,\"#fdca26\"],[1.0,\"#f0f921\"]]},\"colorway\":[\"#636efa\",\"#EF553B\",\"#00cc96\",\"#ab63fa\",\"#FFA15A\",\"#19d3f3\",\"#FF6692\",\"#B6E880\",\"#FF97FF\",\"#FECB52\"],\"font\":{\"color\":\"#f2f5fa\"},\"geo\":{\"bgcolor\":\"rgb(17,17,17)\",\"lakecolor\":\"rgb(17,17,17)\",\"landcolor\":\"rgb(17,17,17)\",\"showlakes\":true,\"showland\":true,\"subunitcolor\":\"#506784\"},\"hoverlabel\":{\"align\":\"left\"},\"hovermode\":\"closest\",\"mapbox\":{\"style\":\"dark\"},\"paper_bgcolor\":\"rgb(17,17,17)\",\"plot_bgcolor\":\"rgb(17,17,17)\",\"polar\":{\"angularaxis\":{\"gridcolor\":\"#506784\",\"linecolor\":\"#506784\",\"ticks\":\"\"},\"bgcolor\":\"rgb(17,17,17)\",\"radialaxis\":{\"gridcolor\":\"#506784\",\"linecolor\":\"#506784\",\"ticks\":\"\"}},\"scene\":{\"xaxis\":{\"backgroundcolor\":\"rgb(17,17,17)\",\"gridcolor\":\"#506784\",\"gridwidth\":2,\"linecolor\":\"#506784\",\"showbackground\":true,\"ticks\":\"\",\"zerolinecolor\":\"#C8D4E3\"},\"yaxis\":{\"backgroundcolor\":\"rgb(17,17,17)\",\"gridcolor\":\"#506784\",\"gridwidth\":2,\"linecolor\":\"#506784\",\"showbackground\":true,\"ticks\":\"\",\"zerolinecolor\":\"#C8D4E3\"},\"zaxis\":{\"backgroundcolor\":\"rgb(17,17,17)\",\"gridcolor\":\"#506784\",\"gridwidth\":2,\"linecolor\":\"#506784\",\"showbackground\":true,\"ticks\":\"\",\"zerolinecolor\":\"#C8D4E3\"}},\"shapedefaults\":{\"line\":{\"color\":\"#f2f5fa\"}},\"sliderdefaults\":{\"bgcolor\":\"#C8D4E3\",\"bordercolor\":\"rgb(17,17,17)\",\"borderwidth\":1,\"tickwidth\":0},\"ternary\":{\"aaxis\":{\"gridcolor\":\"#506784\",\"linecolor\":\"#506784\",\"ticks\":\"\"},\"baxis\":{\"gridcolor\":\"#506784\",\"linecolor\":\"#506784\",\"ticks\":\"\"},\"bgcolor\":\"rgb(17,17,17)\",\"caxis\":{\"gridcolor\":\"#506784\",\"linecolor\":\"#506784\",\"ticks\":\"\"}},\"title\":{\"x\":0.05},\"updatemenudefaults\":{\"bgcolor\":\"#506784\",\"borderwidth\":0},\"xaxis\":{\"automargin\":true,\"gridcolor\":\"#283442\",\"linecolor\":\"#506784\",\"ticks\":\"\",\"title\":{\"standoff\":15},\"zerolinecolor\":\"#283442\",\"zerolinewidth\":2},\"yaxis\":{\"automargin\":true,\"gridcolor\":\"#283442\",\"linecolor\":\"#506784\",\"ticks\":\"\",\"title\":{\"standoff\":15},\"zerolinecolor\":\"#283442\",\"zerolinewidth\":2}}},\"xaxis\":{\"anchor\":\"y\",\"domain\":[0.0,1.0],\"title\":{\"text\":\"x\"}},\"yaxis\":{\"anchor\":\"x\",\"domain\":[0.0,1.0],\"title\":{\"text\":\"percent\"}},\"legend\":{\"tracegroupgap\":0},\"title\":{\"text\":\"Count Employee residece in each country\"},\"barmode\":\"relative\"},                        {\"responsive\": true}                    ).then(function(){\n",
              "                            \n",
              "var gd = document.getElementById('2954f129-7149-4531-ae66-29e500e74897');\n",
              "var x = new MutationObserver(function (mutations, observer) {{\n",
              "        var display = window.getComputedStyle(gd).display;\n",
              "        if (!display || display === 'none') {{\n",
              "            console.log([gd, 'removed!']);\n",
              "            Plotly.purge(gd);\n",
              "            observer.disconnect();\n",
              "        }}\n",
              "}});\n",
              "\n",
              "// Listen for the removal of the full notebook cells\n",
              "var notebookContainer = gd.closest('#notebook-container');\n",
              "if (notebookContainer) {{\n",
              "    x.observe(notebookContainer, {childList: true});\n",
              "}}\n",
              "\n",
              "// Listen for the clearing of the current output cell\n",
              "var outputEl = gd.closest('.output');\n",
              "if (outputEl) {{\n",
              "    x.observe(outputEl, {childList: true});\n",
              "}}\n",
              "\n",
              "                        })                };                            </script>        </div>\n",
              "</body>\n",
              "</html>"
            ]
          },
          "metadata": {}
        }
      ]
    },
    {
      "cell_type": "markdown",
      "source": [
        "The histogram show us that most of the employee came from US. The other came from UK, India, Canada, and Germany."
      ],
      "metadata": {
        "id": "diLHA0MbAaDW"
      }
    },
    {
      "cell_type": "markdown",
      "source": [
        "### 4. Why the US has many Data Scientist? Number of company maybe?"
      ],
      "metadata": {
        "id": "wUfeClLwCLMI"
      }
    },
    {
      "cell_type": "code",
      "source": [
        "def convert_code(df):\n",
        "  return pycountry.countries.get(alpha_2=df['company_location']).name\n",
        "\n",
        "df['company_country'] = df.apply(convert_code, axis=1)"
      ],
      "metadata": {
        "id": "M5YeR6fkESxl"
      },
      "execution_count": 41,
      "outputs": []
    },
    {
      "cell_type": "code",
      "source": [
        "px.histogram(df,\n",
        "             x=df.company_country.sort_values(),\n",
        "             histnorm='percent',\n",
        "             text_auto='.1f',\n",
        "             color_discrete_sequence=px.colors.qualitative.Safe,\n",
        "             template='plotly_dark',\n",
        "             title='Company Location'\n",
        "             )"
      ],
      "metadata": {
        "colab": {
          "base_uri": "https://localhost:8080/",
          "height": 542
        },
        "id": "NZC_jz8tCXXj",
        "outputId": "ac6084aa-6c28-462c-8990-e5515158ce1f"
      },
      "execution_count": 42,
      "outputs": [
        {
          "output_type": "display_data",
          "data": {
            "text/html": [
              "<html>\n",
              "<head><meta charset=\"utf-8\" /></head>\n",
              "<body>\n",
              "    <div>            <script src=\"https://cdnjs.cloudflare.com/ajax/libs/mathjax/2.7.5/MathJax.js?config=TeX-AMS-MML_SVG\"></script><script type=\"text/javascript\">if (window.MathJax) {MathJax.Hub.Config({SVG: {font: \"STIX-Web\"}});}</script>                <script type=\"text/javascript\">window.PlotlyConfig = {MathJaxConfig: 'local'};</script>\n",
              "        <script src=\"https://cdn.plot.ly/plotly-2.8.3.min.js\"></script>                <div id=\"da76885a-f04a-4c05-b125-9948ed7c50eb\" class=\"plotly-graph-div\" style=\"height:525px; width:100%;\"></div>            <script type=\"text/javascript\">                                    window.PLOTLYENV=window.PLOTLYENV || {};                                    if (document.getElementById(\"da76885a-f04a-4c05-b125-9948ed7c50eb\")) {                    Plotly.newPlot(                        \"da76885a-f04a-4c05-b125-9948ed7c50eb\",                        [{\"alignmentgroup\":\"True\",\"bingroup\":\"x\",\"histnorm\":\"percent\",\"hovertemplate\":\"x=%{x}<br>percent=%{y}<extra></extra>\",\"legendgroup\":\"\",\"marker\":{\"color\":\"rgb(136, 204, 238)\",\"pattern\":{\"shape\":\"\"}},\"name\":\"\",\"offsetgroup\":\"\",\"orientation\":\"v\",\"showlegend\":false,\"texttemplate\":\"%{value:.1f}\",\"x\":[\"Algeria\",\"American Samoa\",\"Australia\",\"Australia\",\"Australia\",\"Austria\",\"Austria\",\"Austria\",\"Austria\",\"Belgium\",\"Belgium\",\"Brazil\",\"Brazil\",\"Brazil\",\"Canada\",\"Canada\",\"Canada\",\"Canada\",\"Canada\",\"Canada\",\"Canada\",\"Canada\",\"Canada\",\"Canada\",\"Canada\",\"Canada\",\"Canada\",\"Canada\",\"Canada\",\"Canada\",\"Canada\",\"Canada\",\"Canada\",\"Canada\",\"Canada\",\"Canada\",\"Canada\",\"Canada\",\"Canada\",\"Canada\",\"Canada\",\"Canada\",\"Canada\",\"Canada\",\"Chile\",\"China\",\"China\",\"Colombia\",\"Croatia\",\"Czechia\",\"Czechia\",\"Denmark\",\"Denmark\",\"Denmark\",\"Estonia\",\"France\",\"France\",\"France\",\"France\",\"France\",\"France\",\"France\",\"France\",\"France\",\"France\",\"France\",\"France\",\"France\",\"France\",\"France\",\"Germany\",\"Germany\",\"Germany\",\"Germany\",\"Germany\",\"Germany\",\"Germany\",\"Germany\",\"Germany\",\"Germany\",\"Germany\",\"Germany\",\"Germany\",\"Germany\",\"Germany\",\"Germany\",\"Germany\",\"Germany\",\"Germany\",\"Germany\",\"Germany\",\"Germany\",\"Germany\",\"Germany\",\"Germany\",\"Germany\",\"Germany\",\"Germany\",\"Greece\",\"Greece\",\"Greece\",\"Greece\",\"Greece\",\"Greece\",\"Greece\",\"Greece\",\"Greece\",\"Greece\",\"Greece\",\"Honduras\",\"Hungary\",\"India\",\"India\",\"India\",\"India\",\"India\",\"India\",\"India\",\"India\",\"India\",\"India\",\"India\",\"India\",\"India\",\"India\",\"India\",\"India\",\"India\",\"India\",\"India\",\"India\",\"India\",\"India\",\"India\",\"India\",\"Iran, Islamic Republic of\",\"Iraq\",\"Ireland\",\"Israel\",\"Italy\",\"Italy\",\"Japan\",\"Japan\",\"Japan\",\"Japan\",\"Japan\",\"Japan\",\"Kenya\",\"Luxembourg\",\"Luxembourg\",\"Luxembourg\",\"Malaysia\",\"Malta\",\"Mexico\",\"Mexico\",\"Mexico\",\"Moldova, Republic of\",\"Netherlands\",\"Netherlands\",\"Netherlands\",\"Netherlands\",\"New Zealand\",\"Nigeria\",\"Nigeria\",\"Pakistan\",\"Pakistan\",\"Pakistan\",\"Poland\",\"Poland\",\"Poland\",\"Poland\",\"Portugal\",\"Portugal\",\"Portugal\",\"Portugal\",\"Romania\",\"Russian Federation\",\"Russian Federation\",\"Singapore\",\"Slovenia\",\"Slovenia\",\"Spain\",\"Spain\",\"Spain\",\"Spain\",\"Spain\",\"Spain\",\"Spain\",\"Spain\",\"Spain\",\"Spain\",\"Spain\",\"Spain\",\"Spain\",\"Spain\",\"Switzerland\",\"Switzerland\",\"Turkey\",\"Turkey\",\"Turkey\",\"Ukraine\",\"United Arab Emirates\",\"United Arab Emirates\",\"United Arab Emirates\",\"United Kingdom\",\"United Kingdom\",\"United Kingdom\",\"United Kingdom\",\"United Kingdom\",\"United Kingdom\",\"United Kingdom\",\"United Kingdom\",\"United Kingdom\",\"United Kingdom\",\"United Kingdom\",\"United Kingdom\",\"United Kingdom\",\"United Kingdom\",\"United Kingdom\",\"United Kingdom\",\"United Kingdom\",\"United Kingdom\",\"United Kingdom\",\"United Kingdom\",\"United Kingdom\",\"United Kingdom\",\"United Kingdom\",\"United Kingdom\",\"United Kingdom\",\"United Kingdom\",\"United Kingdom\",\"United Kingdom\",\"United Kingdom\",\"United Kingdom\",\"United Kingdom\",\"United Kingdom\",\"United Kingdom\",\"United Kingdom\",\"United Kingdom\",\"United Kingdom\",\"United Kingdom\",\"United Kingdom\",\"United Kingdom\",\"United Kingdom\",\"United Kingdom\",\"United Kingdom\",\"United Kingdom\",\"United Kingdom\",\"United Kingdom\",\"United Kingdom\",\"United Kingdom\",\"United States\",\"United States\",\"United States\",\"United States\",\"United States\",\"United States\",\"United States\",\"United States\",\"United States\",\"United States\",\"United States\",\"United States\",\"United States\",\"United States\",\"United States\",\"United States\",\"United States\",\"United States\",\"United States\",\"United States\",\"United States\",\"United States\",\"United States\",\"United States\",\"United States\",\"United States\",\"United States\",\"United States\",\"United States\",\"United States\",\"United States\",\"United States\",\"United States\",\"United States\",\"United States\",\"United States\",\"United States\",\"United States\",\"United States\",\"United States\",\"United States\",\"United States\",\"United States\",\"United States\",\"United States\",\"United States\",\"United States\",\"United States\",\"United States\",\"United States\",\"United States\",\"United States\",\"United States\",\"United States\",\"United States\",\"United States\",\"United States\",\"United States\",\"United States\",\"United States\",\"United States\",\"United States\",\"United States\",\"United States\",\"United States\",\"United States\",\"United States\",\"United States\",\"United States\",\"United States\",\"United States\",\"United States\",\"United States\",\"United States\",\"United States\",\"United States\",\"United States\",\"United States\",\"United States\",\"United States\",\"United States\",\"United States\",\"United States\",\"United States\",\"United States\",\"United States\",\"United States\",\"United States\",\"United States\",\"United States\",\"United States\",\"United States\",\"United States\",\"United States\",\"United States\",\"United States\",\"United States\",\"United States\",\"United States\",\"United States\",\"United States\",\"United States\",\"United States\",\"United States\",\"United States\",\"United States\",\"United States\",\"United States\",\"United States\",\"United States\",\"United States\",\"United States\",\"United States\",\"United States\",\"United States\",\"United States\",\"United States\",\"United States\",\"United States\",\"United States\",\"United States\",\"United States\",\"United States\",\"United States\",\"United States\",\"United States\",\"United States\",\"United States\",\"United States\",\"United States\",\"United States\",\"United States\",\"United States\",\"United States\",\"United States\",\"United States\",\"United States\",\"United States\",\"United States\",\"United States\",\"United States\",\"United States\",\"United States\",\"United States\",\"United States\",\"United States\",\"United States\",\"United States\",\"United States\",\"United States\",\"United States\",\"United States\",\"United States\",\"United States\",\"United States\",\"United States\",\"United States\",\"United States\",\"United States\",\"United States\",\"United States\",\"United States\",\"United States\",\"United States\",\"United States\",\"United States\",\"United States\",\"United States\",\"United States\",\"United States\",\"United States\",\"United States\",\"United States\",\"United States\",\"United States\",\"United States\",\"United States\",\"United States\",\"United States\",\"United States\",\"United States\",\"United States\",\"United States\",\"United States\",\"United States\",\"United States\",\"United States\",\"United States\",\"United States\",\"United States\",\"United States\",\"United States\",\"United States\",\"United States\",\"United States\",\"United States\",\"United States\",\"United States\",\"United States\",\"United States\",\"United States\",\"United States\",\"United States\",\"United States\",\"United States\",\"United States\",\"United States\",\"United States\",\"United States\",\"United States\",\"United States\",\"United States\",\"United States\",\"United States\",\"United States\",\"United States\",\"United States\",\"United States\",\"United States\",\"United States\",\"United States\",\"United States\",\"United States\",\"United States\",\"United States\",\"United States\",\"United States\",\"United States\",\"United States\",\"United States\",\"United States\",\"United States\",\"United States\",\"United States\",\"United States\",\"United States\",\"United States\",\"United States\",\"United States\",\"United States\",\"United States\",\"United States\",\"United States\",\"United States\",\"United States\",\"United States\",\"United States\",\"United States\",\"United States\",\"United States\",\"United States\",\"United States\",\"United States\",\"United States\",\"United States\",\"United States\",\"United States\",\"United States\",\"United States\",\"United States\",\"United States\",\"United States\",\"United States\",\"United States\",\"United States\",\"United States\",\"United States\",\"United States\",\"United States\",\"United States\",\"United States\",\"United States\",\"United States\",\"United States\",\"United States\",\"United States\",\"United States\",\"United States\",\"United States\",\"United States\",\"United States\",\"United States\",\"United States\",\"United States\",\"United States\",\"United States\",\"United States\",\"United States\",\"United States\",\"United States\",\"United States\",\"United States\",\"United States\",\"United States\",\"United States\",\"United States\",\"United States\",\"United States\",\"United States\",\"United States\",\"United States\",\"United States\",\"United States\",\"United States\",\"United States\",\"United States\",\"United States\",\"United States\",\"United States\",\"United States\",\"United States\",\"United States\",\"United States\",\"United States\",\"United States\",\"United States\",\"United States\",\"United States\",\"United States\",\"United States\",\"United States\",\"United States\",\"United States\",\"United States\",\"United States\",\"United States\",\"United States\",\"United States\",\"United States\",\"United States\",\"United States\",\"United States\",\"United States\",\"United States\",\"United States\",\"United States\",\"United States\",\"United States\",\"United States\",\"United States\",\"United States\",\"United States\",\"United States\",\"United States\",\"United States\",\"United States\",\"United States\",\"United States\",\"United States\",\"United States\",\"United States\",\"United States\",\"United States\",\"United States\",\"United States\",\"Viet Nam\"],\"xaxis\":\"x\",\"yaxis\":\"y\",\"type\":\"histogram\"}],                        {\"template\":{\"data\":{\"barpolar\":[{\"marker\":{\"line\":{\"color\":\"rgb(17,17,17)\",\"width\":0.5},\"pattern\":{\"fillmode\":\"overlay\",\"size\":10,\"solidity\":0.2}},\"type\":\"barpolar\"}],\"bar\":[{\"error_x\":{\"color\":\"#f2f5fa\"},\"error_y\":{\"color\":\"#f2f5fa\"},\"marker\":{\"line\":{\"color\":\"rgb(17,17,17)\",\"width\":0.5},\"pattern\":{\"fillmode\":\"overlay\",\"size\":10,\"solidity\":0.2}},\"type\":\"bar\"}],\"carpet\":[{\"aaxis\":{\"endlinecolor\":\"#A2B1C6\",\"gridcolor\":\"#506784\",\"linecolor\":\"#506784\",\"minorgridcolor\":\"#506784\",\"startlinecolor\":\"#A2B1C6\"},\"baxis\":{\"endlinecolor\":\"#A2B1C6\",\"gridcolor\":\"#506784\",\"linecolor\":\"#506784\",\"minorgridcolor\":\"#506784\",\"startlinecolor\":\"#A2B1C6\"},\"type\":\"carpet\"}],\"choropleth\":[{\"colorbar\":{\"outlinewidth\":0,\"ticks\":\"\"},\"type\":\"choropleth\"}],\"contourcarpet\":[{\"colorbar\":{\"outlinewidth\":0,\"ticks\":\"\"},\"type\":\"contourcarpet\"}],\"contour\":[{\"colorbar\":{\"outlinewidth\":0,\"ticks\":\"\"},\"colorscale\":[[0.0,\"#0d0887\"],[0.1111111111111111,\"#46039f\"],[0.2222222222222222,\"#7201a8\"],[0.3333333333333333,\"#9c179e\"],[0.4444444444444444,\"#bd3786\"],[0.5555555555555556,\"#d8576b\"],[0.6666666666666666,\"#ed7953\"],[0.7777777777777778,\"#fb9f3a\"],[0.8888888888888888,\"#fdca26\"],[1.0,\"#f0f921\"]],\"type\":\"contour\"}],\"heatmapgl\":[{\"colorbar\":{\"outlinewidth\":0,\"ticks\":\"\"},\"colorscale\":[[0.0,\"#0d0887\"],[0.1111111111111111,\"#46039f\"],[0.2222222222222222,\"#7201a8\"],[0.3333333333333333,\"#9c179e\"],[0.4444444444444444,\"#bd3786\"],[0.5555555555555556,\"#d8576b\"],[0.6666666666666666,\"#ed7953\"],[0.7777777777777778,\"#fb9f3a\"],[0.8888888888888888,\"#fdca26\"],[1.0,\"#f0f921\"]],\"type\":\"heatmapgl\"}],\"heatmap\":[{\"colorbar\":{\"outlinewidth\":0,\"ticks\":\"\"},\"colorscale\":[[0.0,\"#0d0887\"],[0.1111111111111111,\"#46039f\"],[0.2222222222222222,\"#7201a8\"],[0.3333333333333333,\"#9c179e\"],[0.4444444444444444,\"#bd3786\"],[0.5555555555555556,\"#d8576b\"],[0.6666666666666666,\"#ed7953\"],[0.7777777777777778,\"#fb9f3a\"],[0.8888888888888888,\"#fdca26\"],[1.0,\"#f0f921\"]],\"type\":\"heatmap\"}],\"histogram2dcontour\":[{\"colorbar\":{\"outlinewidth\":0,\"ticks\":\"\"},\"colorscale\":[[0.0,\"#0d0887\"],[0.1111111111111111,\"#46039f\"],[0.2222222222222222,\"#7201a8\"],[0.3333333333333333,\"#9c179e\"],[0.4444444444444444,\"#bd3786\"],[0.5555555555555556,\"#d8576b\"],[0.6666666666666666,\"#ed7953\"],[0.7777777777777778,\"#fb9f3a\"],[0.8888888888888888,\"#fdca26\"],[1.0,\"#f0f921\"]],\"type\":\"histogram2dcontour\"}],\"histogram2d\":[{\"colorbar\":{\"outlinewidth\":0,\"ticks\":\"\"},\"colorscale\":[[0.0,\"#0d0887\"],[0.1111111111111111,\"#46039f\"],[0.2222222222222222,\"#7201a8\"],[0.3333333333333333,\"#9c179e\"],[0.4444444444444444,\"#bd3786\"],[0.5555555555555556,\"#d8576b\"],[0.6666666666666666,\"#ed7953\"],[0.7777777777777778,\"#fb9f3a\"],[0.8888888888888888,\"#fdca26\"],[1.0,\"#f0f921\"]],\"type\":\"histogram2d\"}],\"histogram\":[{\"marker\":{\"pattern\":{\"fillmode\":\"overlay\",\"size\":10,\"solidity\":0.2}},\"type\":\"histogram\"}],\"mesh3d\":[{\"colorbar\":{\"outlinewidth\":0,\"ticks\":\"\"},\"type\":\"mesh3d\"}],\"parcoords\":[{\"line\":{\"colorbar\":{\"outlinewidth\":0,\"ticks\":\"\"}},\"type\":\"parcoords\"}],\"pie\":[{\"automargin\":true,\"type\":\"pie\"}],\"scatter3d\":[{\"line\":{\"colorbar\":{\"outlinewidth\":0,\"ticks\":\"\"}},\"marker\":{\"colorbar\":{\"outlinewidth\":0,\"ticks\":\"\"}},\"type\":\"scatter3d\"}],\"scattercarpet\":[{\"marker\":{\"colorbar\":{\"outlinewidth\":0,\"ticks\":\"\"}},\"type\":\"scattercarpet\"}],\"scattergeo\":[{\"marker\":{\"colorbar\":{\"outlinewidth\":0,\"ticks\":\"\"}},\"type\":\"scattergeo\"}],\"scattergl\":[{\"marker\":{\"line\":{\"color\":\"#283442\"}},\"type\":\"scattergl\"}],\"scattermapbox\":[{\"marker\":{\"colorbar\":{\"outlinewidth\":0,\"ticks\":\"\"}},\"type\":\"scattermapbox\"}],\"scatterpolargl\":[{\"marker\":{\"colorbar\":{\"outlinewidth\":0,\"ticks\":\"\"}},\"type\":\"scatterpolargl\"}],\"scatterpolar\":[{\"marker\":{\"colorbar\":{\"outlinewidth\":0,\"ticks\":\"\"}},\"type\":\"scatterpolar\"}],\"scatter\":[{\"marker\":{\"line\":{\"color\":\"#283442\"}},\"type\":\"scatter\"}],\"scatterternary\":[{\"marker\":{\"colorbar\":{\"outlinewidth\":0,\"ticks\":\"\"}},\"type\":\"scatterternary\"}],\"surface\":[{\"colorbar\":{\"outlinewidth\":0,\"ticks\":\"\"},\"colorscale\":[[0.0,\"#0d0887\"],[0.1111111111111111,\"#46039f\"],[0.2222222222222222,\"#7201a8\"],[0.3333333333333333,\"#9c179e\"],[0.4444444444444444,\"#bd3786\"],[0.5555555555555556,\"#d8576b\"],[0.6666666666666666,\"#ed7953\"],[0.7777777777777778,\"#fb9f3a\"],[0.8888888888888888,\"#fdca26\"],[1.0,\"#f0f921\"]],\"type\":\"surface\"}],\"table\":[{\"cells\":{\"fill\":{\"color\":\"#506784\"},\"line\":{\"color\":\"rgb(17,17,17)\"}},\"header\":{\"fill\":{\"color\":\"#2a3f5f\"},\"line\":{\"color\":\"rgb(17,17,17)\"}},\"type\":\"table\"}]},\"layout\":{\"annotationdefaults\":{\"arrowcolor\":\"#f2f5fa\",\"arrowhead\":0,\"arrowwidth\":1},\"autotypenumbers\":\"strict\",\"coloraxis\":{\"colorbar\":{\"outlinewidth\":0,\"ticks\":\"\"}},\"colorscale\":{\"diverging\":[[0,\"#8e0152\"],[0.1,\"#c51b7d\"],[0.2,\"#de77ae\"],[0.3,\"#f1b6da\"],[0.4,\"#fde0ef\"],[0.5,\"#f7f7f7\"],[0.6,\"#e6f5d0\"],[0.7,\"#b8e186\"],[0.8,\"#7fbc41\"],[0.9,\"#4d9221\"],[1,\"#276419\"]],\"sequential\":[[0.0,\"#0d0887\"],[0.1111111111111111,\"#46039f\"],[0.2222222222222222,\"#7201a8\"],[0.3333333333333333,\"#9c179e\"],[0.4444444444444444,\"#bd3786\"],[0.5555555555555556,\"#d8576b\"],[0.6666666666666666,\"#ed7953\"],[0.7777777777777778,\"#fb9f3a\"],[0.8888888888888888,\"#fdca26\"],[1.0,\"#f0f921\"]],\"sequentialminus\":[[0.0,\"#0d0887\"],[0.1111111111111111,\"#46039f\"],[0.2222222222222222,\"#7201a8\"],[0.3333333333333333,\"#9c179e\"],[0.4444444444444444,\"#bd3786\"],[0.5555555555555556,\"#d8576b\"],[0.6666666666666666,\"#ed7953\"],[0.7777777777777778,\"#fb9f3a\"],[0.8888888888888888,\"#fdca26\"],[1.0,\"#f0f921\"]]},\"colorway\":[\"#636efa\",\"#EF553B\",\"#00cc96\",\"#ab63fa\",\"#FFA15A\",\"#19d3f3\",\"#FF6692\",\"#B6E880\",\"#FF97FF\",\"#FECB52\"],\"font\":{\"color\":\"#f2f5fa\"},\"geo\":{\"bgcolor\":\"rgb(17,17,17)\",\"lakecolor\":\"rgb(17,17,17)\",\"landcolor\":\"rgb(17,17,17)\",\"showlakes\":true,\"showland\":true,\"subunitcolor\":\"#506784\"},\"hoverlabel\":{\"align\":\"left\"},\"hovermode\":\"closest\",\"mapbox\":{\"style\":\"dark\"},\"paper_bgcolor\":\"rgb(17,17,17)\",\"plot_bgcolor\":\"rgb(17,17,17)\",\"polar\":{\"angularaxis\":{\"gridcolor\":\"#506784\",\"linecolor\":\"#506784\",\"ticks\":\"\"},\"bgcolor\":\"rgb(17,17,17)\",\"radialaxis\":{\"gridcolor\":\"#506784\",\"linecolor\":\"#506784\",\"ticks\":\"\"}},\"scene\":{\"xaxis\":{\"backgroundcolor\":\"rgb(17,17,17)\",\"gridcolor\":\"#506784\",\"gridwidth\":2,\"linecolor\":\"#506784\",\"showbackground\":true,\"ticks\":\"\",\"zerolinecolor\":\"#C8D4E3\"},\"yaxis\":{\"backgroundcolor\":\"rgb(17,17,17)\",\"gridcolor\":\"#506784\",\"gridwidth\":2,\"linecolor\":\"#506784\",\"showbackground\":true,\"ticks\":\"\",\"zerolinecolor\":\"#C8D4E3\"},\"zaxis\":{\"backgroundcolor\":\"rgb(17,17,17)\",\"gridcolor\":\"#506784\",\"gridwidth\":2,\"linecolor\":\"#506784\",\"showbackground\":true,\"ticks\":\"\",\"zerolinecolor\":\"#C8D4E3\"}},\"shapedefaults\":{\"line\":{\"color\":\"#f2f5fa\"}},\"sliderdefaults\":{\"bgcolor\":\"#C8D4E3\",\"bordercolor\":\"rgb(17,17,17)\",\"borderwidth\":1,\"tickwidth\":0},\"ternary\":{\"aaxis\":{\"gridcolor\":\"#506784\",\"linecolor\":\"#506784\",\"ticks\":\"\"},\"baxis\":{\"gridcolor\":\"#506784\",\"linecolor\":\"#506784\",\"ticks\":\"\"},\"bgcolor\":\"rgb(17,17,17)\",\"caxis\":{\"gridcolor\":\"#506784\",\"linecolor\":\"#506784\",\"ticks\":\"\"}},\"title\":{\"x\":0.05},\"updatemenudefaults\":{\"bgcolor\":\"#506784\",\"borderwidth\":0},\"xaxis\":{\"automargin\":true,\"gridcolor\":\"#283442\",\"linecolor\":\"#506784\",\"ticks\":\"\",\"title\":{\"standoff\":15},\"zerolinecolor\":\"#283442\",\"zerolinewidth\":2},\"yaxis\":{\"automargin\":true,\"gridcolor\":\"#283442\",\"linecolor\":\"#506784\",\"ticks\":\"\",\"title\":{\"standoff\":15},\"zerolinecolor\":\"#283442\",\"zerolinewidth\":2}}},\"xaxis\":{\"anchor\":\"y\",\"domain\":[0.0,1.0],\"title\":{\"text\":\"x\"}},\"yaxis\":{\"anchor\":\"x\",\"domain\":[0.0,1.0],\"title\":{\"text\":\"percent\"}},\"legend\":{\"tracegroupgap\":0},\"title\":{\"text\":\"Company Location\"},\"barmode\":\"relative\"},                        {\"responsive\": true}                    ).then(function(){\n",
              "                            \n",
              "var gd = document.getElementById('da76885a-f04a-4c05-b125-9948ed7c50eb');\n",
              "var x = new MutationObserver(function (mutations, observer) {{\n",
              "        var display = window.getComputedStyle(gd).display;\n",
              "        if (!display || display === 'none') {{\n",
              "            console.log([gd, 'removed!']);\n",
              "            Plotly.purge(gd);\n",
              "            observer.disconnect();\n",
              "        }}\n",
              "}});\n",
              "\n",
              "// Listen for the removal of the full notebook cells\n",
              "var notebookContainer = gd.closest('#notebook-container');\n",
              "if (notebookContainer) {{\n",
              "    x.observe(notebookContainer, {childList: true});\n",
              "}}\n",
              "\n",
              "// Listen for the clearing of the current output cell\n",
              "var outputEl = gd.closest('.output');\n",
              "if (outputEl) {{\n",
              "    x.observe(outputEl, {childList: true});\n",
              "}}\n",
              "\n",
              "                        })                };                            </script>        </div>\n",
              "</body>\n",
              "</html>"
            ]
          },
          "metadata": {}
        }
      ]
    },
    {
      "cell_type": "markdown",
      "source": [
        "For the US and UK, since they have a lot of company they also have a lot of number of data scientist. Amazingly, India has less company compared to Canada and Germany. Interesting..."
      ],
      "metadata": {
        "id": "20jAinKXDdUA"
      }
    },
    {
      "cell_type": "markdown",
      "source": [
        "### 5. We want to know in which data field is these employee"
      ],
      "metadata": {
        "id": "-0GDFzuHEnNf"
      }
    },
    {
      "cell_type": "code",
      "source": [
        "px.histogram(df,\n",
        "             x=df.job_title.sort_values(),\n",
        "             color='experience_level',\n",
        "             histnorm='percent',\n",
        "             height=900,\n",
        "             barmode='group',\n",
        "             color_discrete_sequence=px.colors.qualitative.Pastel,\n",
        "             template='plotly_dark',\n",
        "             text_auto=True,\n",
        "             title='The Data Field and Employee Experience'\n",
        "             )"
      ],
      "metadata": {
        "colab": {
          "base_uri": "https://localhost:8080/",
          "height": 917
        },
        "id": "FJP05VcHOSya",
        "outputId": "728f0b90-a815-445e-ac41-32432d691bae"
      },
      "execution_count": 44,
      "outputs": [
        {
          "output_type": "display_data",
          "data": {
            "text/html": [
              "<html>\n",
              "<head><meta charset=\"utf-8\" /></head>\n",
              "<body>\n",
              "    <div>            <script src=\"https://cdnjs.cloudflare.com/ajax/libs/mathjax/2.7.5/MathJax.js?config=TeX-AMS-MML_SVG\"></script><script type=\"text/javascript\">if (window.MathJax) {MathJax.Hub.Config({SVG: {font: \"STIX-Web\"}});}</script>                <script type=\"text/javascript\">window.PlotlyConfig = {MathJaxConfig: 'local'};</script>\n",
              "        <script src=\"https://cdn.plot.ly/plotly-2.8.3.min.js\"></script>                <div id=\"d421f6a5-69cc-43bf-82ec-5e61bf46fd73\" class=\"plotly-graph-div\" style=\"height:900px; width:100%;\"></div>            <script type=\"text/javascript\">                                    window.PLOTLYENV=window.PLOTLYENV || {};                                    if (document.getElementById(\"d421f6a5-69cc-43bf-82ec-5e61bf46fd73\")) {                    Plotly.newPlot(                        \"d421f6a5-69cc-43bf-82ec-5e61bf46fd73\",                        [{\"alignmentgroup\":\"True\",\"bingroup\":\"x\",\"histnorm\":\"percent\",\"hovertemplate\":\"experience_level=Mid<br>x=%{x}<br>percent=%{y}<extra></extra>\",\"legendgroup\":\"Mid\",\"marker\":{\"color\":\"rgb(102, 197, 204)\",\"pattern\":{\"shape\":\"\"}},\"name\":\"Mid\",\"offsetgroup\":\"Mid\",\"orientation\":\"v\",\"showlegend\":true,\"texttemplate\":\"%{value}\",\"x\":[\"3D Computer Vision Researcher\",\"AI Scientist\",\"AI Scientist\",\"Analytics Engineer\",\"Analytics Engineer\",\"Applied Data Scientist\",\"Applied Data Scientist\",\"Applied Data Scientist\",\"Applied Machine Learning Scientist\",\"Applied Machine Learning Scientist\",\"BI Data Analyst\",\"BI Data Analyst\",\"BI Data Analyst\",\"Big Data Engineer\",\"Big Data Engineer\",\"Big Data Engineer\",\"Big Data Engineer\",\"Business Data Analyst\",\"Business Data Analyst\",\"Cloud Data Engineer\",\"Computer Vision Engineer\",\"Computer Vision Engineer\",\"Computer Vision Engineer\",\"Computer Vision Engineer\",\"Computer Vision Software Engineer\",\"Data Analyst\",\"Data Analyst\",\"Data Analyst\",\"Data Analyst\",\"Data Analyst\",\"Data Analyst\",\"Data Analyst\",\"Data Analyst\",\"Data Analyst\",\"Data Analyst\",\"Data Analyst\",\"Data Analyst\",\"Data Analyst\",\"Data Analyst\",\"Data Analyst\",\"Data Analyst\",\"Data Analyst\",\"Data Analyst\",\"Data Analyst\",\"Data Analyst\",\"Data Analyst\",\"Data Analyst\",\"Data Analyst\",\"Data Analyst\",\"Data Analyst\",\"Data Analyst\",\"Data Analyst\",\"Data Analyst\",\"Data Analyst\",\"Data Analyst\",\"Data Analyst\",\"Data Analyst\",\"Data Analyst\",\"Data Analyst\",\"Data Analyst\",\"Data Analyst\",\"Data Analyst\",\"Data Analyst\",\"Data Analyst\",\"Data Analyst\",\"Data Analyst\",\"Data Analytics Engineer\",\"Data Analytics Engineer\",\"Data Analytics Manager\",\"Data Analytics Manager\",\"Data Architect\",\"Data Architect\",\"Data Architect\",\"Data Architect\",\"Data Engineer\",\"Data Engineer\",\"Data Engineer\",\"Data Engineer\",\"Data Engineer\",\"Data Engineer\",\"Data Engineer\",\"Data Engineer\",\"Data Engineer\",\"Data Engineer\",\"Data Engineer\",\"Data Engineer\",\"Data Engineer\",\"Data Engineer\",\"Data Engineer\",\"Data Engineer\",\"Data Engineer\",\"Data Engineer\",\"Data Engineer\",\"Data Engineer\",\"Data Engineer\",\"Data Engineer\",\"Data Engineer\",\"Data Engineer\",\"Data Engineer\",\"Data Engineer\",\"Data Engineer\",\"Data Engineer\",\"Data Engineer\",\"Data Engineer\",\"Data Engineer\",\"Data Engineer\",\"Data Engineer\",\"Data Engineer\",\"Data Engineer\",\"Data Engineer\",\"Data Engineer\",\"Data Engineer\",\"Data Engineer\",\"Data Engineer\",\"Data Engineer\",\"Data Engineer\",\"Data Engineer\",\"Data Engineer\",\"Data Engineer\",\"Data Engineer\",\"Data Engineer\",\"Data Engineer\",\"Data Engineer\",\"Data Engineer\",\"Data Engineer\",\"Data Engineer\",\"Data Engineering Manager\",\"Data Engineering Manager\",\"Data Science Consultant\",\"Data Science Consultant\",\"Data Science Consultant\",\"Data Science Consultant\",\"Data Science Manager\",\"Data Scientist\",\"Data Scientist\",\"Data Scientist\",\"Data Scientist\",\"Data Scientist\",\"Data Scientist\",\"Data Scientist\",\"Data Scientist\",\"Data Scientist\",\"Data Scientist\",\"Data Scientist\",\"Data Scientist\",\"Data Scientist\",\"Data Scientist\",\"Data Scientist\",\"Data Scientist\",\"Data Scientist\",\"Data Scientist\",\"Data Scientist\",\"Data Scientist\",\"Data Scientist\",\"Data Scientist\",\"Data Scientist\",\"Data Scientist\",\"Data Scientist\",\"Data Scientist\",\"Data Scientist\",\"Data Scientist\",\"Data Scientist\",\"Data Scientist\",\"Data Scientist\",\"Data Scientist\",\"Data Scientist\",\"Data Scientist\",\"Data Scientist\",\"Data Scientist\",\"Data Scientist\",\"Data Scientist\",\"Data Scientist\",\"Data Scientist\",\"Data Scientist\",\"Data Scientist\",\"Data Scientist\",\"Data Scientist\",\"Data Scientist\",\"Data Scientist\",\"Data Scientist\",\"Data Scientist\",\"Data Specialist\",\"Director of Data Engineering\",\"Director of Data Science\",\"Director of Data Science\",\"Financial Data Analyst\",\"Head of Data\",\"Head of Data\",\"Head of Data Science\",\"Lead Data Analyst\",\"Lead Data Engineer\",\"Lead Data Engineer\",\"Lead Data Engineer\",\"Lead Data Scientist\",\"Lead Machine Learning Engineer\",\"ML Engineer\",\"ML Engineer\",\"Machine Learning Developer\",\"Machine Learning Developer\",\"Machine Learning Engineer\",\"Machine Learning Engineer\",\"Machine Learning Engineer\",\"Machine Learning Engineer\",\"Machine Learning Engineer\",\"Machine Learning Engineer\",\"Machine Learning Engineer\",\"Machine Learning Engineer\",\"Machine Learning Engineer\",\"Machine Learning Scientist\",\"Principal Data Scientist\",\"Research Scientist\",\"Research Scientist\",\"Staff Data Scientist\"],\"xaxis\":\"x\",\"yaxis\":\"y\",\"type\":\"histogram\"},{\"alignmentgroup\":\"True\",\"bingroup\":\"x\",\"histnorm\":\"percent\",\"hovertemplate\":\"experience_level=Senior<br>x=%{x}<br>percent=%{y}<extra></extra>\",\"legendgroup\":\"Senior\",\"marker\":{\"color\":\"rgb(246, 207, 113)\",\"pattern\":{\"shape\":\"\"}},\"name\":\"Senior\",\"offsetgroup\":\"Senior\",\"orientation\":\"v\",\"showlegend\":true,\"texttemplate\":\"%{value}\",\"x\":[\"AI Scientist\",\"AI Scientist\",\"AI Scientist\",\"AI Scientist\",\"Analytics Engineer\",\"Applied Machine Learning Scientist\",\"BI Data Analyst\",\"Big Data Architect\",\"Big Data Engineer\",\"Big Data Engineer\",\"Computer Vision Engineer\",\"Data Analyst\",\"Data Analyst\",\"Data Analyst\",\"Data Analyst\",\"Data Analyst\",\"Data Analyst\",\"Data Analyst\",\"Data Analyst\",\"Data Analyst\",\"Data Analyst\",\"Data Analyst\",\"Data Analyst\",\"Data Analyst\",\"Data Analyst\",\"Data Analyst\",\"Data Analyst\",\"Data Analyst\",\"Data Analyst\",\"Data Analyst\",\"Data Analyst\",\"Data Analyst\",\"Data Analyst\",\"Data Analyst\",\"Data Analyst\",\"Data Analyst\",\"Data Analyst\",\"Data Analyst\",\"Data Analyst\",\"Data Analytics Engineer\",\"Data Analytics Engineer\",\"Data Analytics Manager\",\"Data Analytics Manager\",\"Data Analytics Manager\",\"Data Architect\",\"Data Engineer\",\"Data Engineer\",\"Data Engineer\",\"Data Engineer\",\"Data Engineer\",\"Data Engineer\",\"Data Engineer\",\"Data Engineer\",\"Data Engineer\",\"Data Engineer\",\"Data Engineer\",\"Data Engineer\",\"Data Engineer\",\"Data Engineer\",\"Data Engineer\",\"Data Engineer\",\"Data Engineer\",\"Data Engineer\",\"Data Engineer\",\"Data Engineer\",\"Data Engineer\",\"Data Engineer\",\"Data Engineer\",\"Data Engineer\",\"Data Engineer\",\"Data Engineer\",\"Data Engineer\",\"Data Engineer\",\"Data Engineer\",\"Data Engineer\",\"Data Engineer\",\"Data Engineer\",\"Data Engineer\",\"Data Engineer\",\"Data Engineer\",\"Data Engineer\",\"Data Engineer\",\"Data Engineer\",\"Data Engineer\",\"Data Engineer\",\"Data Engineer\",\"Data Engineer\",\"Data Engineer\",\"Data Engineer\",\"Data Engineer\",\"Data Engineer\",\"Data Engineer\",\"Data Engineer\",\"Data Engineer\",\"Data Engineer\",\"Data Engineer\",\"Data Engineer\",\"Data Engineer\",\"Data Engineering Manager\",\"Data Engineering Manager\",\"Data Science Consultant\",\"Data Science Engineer\",\"Data Science Engineer\",\"Data Science Manager\",\"Data Science Manager\",\"Data Science Manager\",\"Data Science Manager\",\"Data Science Manager\",\"Data Science Manager\",\"Data Science Manager\",\"Data Science Manager\",\"Data Science Manager\",\"Data Scientist\",\"Data Scientist\",\"Data Scientist\",\"Data Scientist\",\"Data Scientist\",\"Data Scientist\",\"Data Scientist\",\"Data Scientist\",\"Data Scientist\",\"Data Scientist\",\"Data Scientist\",\"Data Scientist\",\"Data Scientist\",\"Data Scientist\",\"Data Scientist\",\"Data Scientist\",\"Data Scientist\",\"Data Scientist\",\"Data Scientist\",\"Data Scientist\",\"Data Scientist\",\"Data Scientist\",\"Data Scientist\",\"Data Scientist\",\"Data Scientist\",\"Data Scientist\",\"Data Scientist\",\"Data Scientist\",\"Data Scientist\",\"Data Scientist\",\"Data Scientist\",\"Data Scientist\",\"Data Scientist\",\"Data Scientist\",\"Data Scientist\",\"Data Scientist\",\"Data Scientist\",\"Data Scientist\",\"Data Scientist\",\"Data Scientist\",\"Data Scientist\",\"Data Scientist\",\"Data Scientist\",\"Data Scientist\",\"Data Scientist\",\"Data Scientist\",\"Data Scientist\",\"Data Scientist\",\"Data Scientist\",\"Data Scientist\",\"Data Scientist\",\"Data Scientist\",\"Data Scientist\",\"Data Scientist\",\"Data Scientist\",\"Data Scientist\",\"Data Scientist\",\"Data Scientist\",\"Data Scientist\",\"Data Scientist\",\"Data Scientist\",\"Data Scientist\",\"Data Scientist\",\"Data Scientist\",\"Data Scientist\",\"Data Scientist\",\"Data Scientist\",\"Data Scientist\",\"Data Scientist\",\"Data Scientist\",\"Data Scientist\",\"Data Scientist\",\"Data Scientist\",\"Data Scientist\",\"Data Scientist\",\"Data Scientist\",\"Data Scientist\",\"Data Scientist\",\"Data Scientist\",\"Data Scientist\",\"Data Scientist\",\"Data Scientist\",\"Director of Data Engineering\",\"Director of Data Science\",\"Director of Data Science\",\"Director of Data Science\",\"ETL Developer\",\"ETL Developer\",\"Finance Data Analyst\",\"Head of Data\",\"Head of Data\",\"Head of Data Science\",\"Head of Data Science\",\"Head of Machine Learning\",\"Lead Data Analyst\",\"Lead Data Engineer\",\"ML Engineer\",\"ML Engineer\",\"Machine Learning Developer\",\"Machine Learning Engineer\",\"Machine Learning Engineer\",\"Machine Learning Engineer\",\"Machine Learning Engineer\",\"Machine Learning Engineer\",\"Machine Learning Engineer\",\"Machine Learning Engineer\",\"Machine Learning Engineer\",\"Machine Learning Engineer\",\"Machine Learning Engineer\",\"Machine Learning Engineer\",\"Machine Learning Engineer\",\"Machine Learning Engineer\",\"Machine Learning Engineer\",\"Machine Learning Engineer\",\"Machine Learning Engineer\",\"Machine Learning Engineer\",\"Machine Learning Engineer\",\"Machine Learning Engineer\",\"Machine Learning Engineer\",\"Machine Learning Engineer\",\"Machine Learning Engineer\",\"Machine Learning Engineer\",\"Machine Learning Engineer\",\"Machine Learning Engineer\",\"Machine Learning Engineer\",\"Machine Learning Engineer\",\"Machine Learning Engineer\",\"Machine Learning Engineer\",\"Machine Learning Engineer\",\"Machine Learning Engineer\",\"Machine Learning Infrastructure Engineer\",\"Machine Learning Infrastructure Engineer\",\"Machine Learning Infrastructure Engineer\",\"Machine Learning Manager\",\"Machine Learning Scientist\",\"Machine Learning Scientist\",\"Machine Learning Scientist\",\"Machine Learning Scientist\",\"Machine Learning Scientist\",\"Machine Learning Scientist\",\"Machine Learning Scientist\",\"Marketing Data Analyst\",\"NLP Engineer\",\"Principal Data Analyst\",\"Principal Data Analyst\",\"Principal Data Engineer\",\"Principal Data Engineer\",\"Principal Data Engineer\",\"Principal Data Scientist\",\"Principal Data Scientist\",\"Principal Data Scientist\",\"Principal Data Scientist\",\"Principal Data Scientist\",\"Principal Data Scientist\",\"Product Data Analyst\",\"Product Data Analyst\",\"Research Scientist\",\"Research Scientist\",\"Research Scientist\",\"Research Scientist\",\"Research Scientist\",\"Research Scientist\",\"Research Scientist\",\"Research Scientist\",\"Research Scientist\",\"Research Scientist\",\"Research Scientist\",\"Research Scientist\"],\"xaxis\":\"x\",\"yaxis\":\"y\",\"type\":\"histogram\"},{\"alignmentgroup\":\"True\",\"bingroup\":\"x\",\"histnorm\":\"percent\",\"hovertemplate\":\"experience_level=Entry<br>x=%{x}<br>percent=%{y}<extra></extra>\",\"legendgroup\":\"Entry\",\"marker\":{\"color\":\"rgb(248, 156, 116)\",\"pattern\":{\"shape\":\"\"}},\"name\":\"Entry\",\"offsetgroup\":\"Entry\",\"orientation\":\"v\",\"showlegend\":true,\"texttemplate\":\"%{value}\",\"x\":[\"AI Scientist\",\"Analytics Engineer\",\"Applied Data Scientist\",\"Applied Data Scientist\",\"Applied Machine Learning Scientist\",\"BI Data Analyst\",\"Big Data Engineer\",\"Big Data Engineer\",\"Business Data Analyst\",\"Business Data Analyst\",\"Business Data Analyst\",\"Computer Vision Engineer\",\"Computer Vision Software Engineer\",\"Computer Vision Software Engineer\",\"Data Analyst\",\"Data Analyst\",\"Data Analyst\",\"Data Analyst\",\"Data Analyst\",\"Data Analyst\",\"Data Analyst\",\"Data Analyst\",\"Data Analyst\",\"Data Analyst\",\"Data Analyst\",\"Data Analyst\",\"Data Analyst\",\"Data Analyst\",\"Data Analyst\",\"Data Analyst\",\"Data Analyst\",\"Data Analyst\",\"Data Analyst\",\"Data Analyst\",\"Data Analyst\",\"Data Analyst\",\"Data Analyst\",\"Data Analyst\",\"Data Analyst\",\"Data Analytics Lead\",\"Data Analytics Manager\",\"Data Architect\",\"Data Architect\",\"Data Architect\",\"Data Engineer\",\"Data Engineer\",\"Data Engineer\",\"Data Engineer\",\"Data Engineer\",\"Data Engineer\",\"Data Engineer\",\"Data Engineer\",\"Data Engineer\",\"Data Engineer\",\"Data Engineer\",\"Data Engineer\",\"Data Engineer\",\"Data Engineer\",\"Data Engineer\",\"Data Engineer\",\"Data Engineer\",\"Data Engineer\",\"Data Engineer\",\"Data Engineer\",\"Data Engineer\",\"Data Engineer\",\"Data Engineer\",\"Data Engineering Manager\",\"Data Science Engineer\",\"Data Scientist\",\"Data Scientist\",\"Data Scientist\",\"Data Scientist\",\"Data Scientist\",\"Data Scientist\",\"Financial Data Analyst\",\"Head of Data\",\"Head of Data Science\",\"Lead Data Analyst\",\"Lead Data Engineer\",\"Lead Data Engineer\",\"Lead Data Scientist\",\"Lead Data Scientist\",\"ML Engineer\",\"ML Engineer\",\"Machine Learning Engineer\",\"Research Scientist\",\"Research Scientist\"],\"xaxis\":\"x\",\"yaxis\":\"y\",\"type\":\"histogram\"},{\"alignmentgroup\":\"True\",\"bingroup\":\"x\",\"histnorm\":\"percent\",\"hovertemplate\":\"experience_level=Executive<br>x=%{x}<br>percent=%{y}<extra></extra>\",\"legendgroup\":\"Executive\",\"marker\":{\"color\":\"rgb(220, 176, 242)\",\"pattern\":{\"shape\":\"\"}},\"name\":\"Executive\",\"offsetgroup\":\"Executive\",\"orientation\":\"v\",\"showlegend\":true,\"texttemplate\":\"%{value}\",\"x\":[\"BI Data Analyst\",\"Cloud Data Engineer\",\"Data Analyst\",\"Data Analyst\",\"Data Analyst\",\"Data Analytics Manager\",\"Data Architect\",\"Data Architect\",\"Data Architect\",\"Data Engineer\",\"Data Engineer\",\"Data Engineer\",\"Data Engineer\",\"Data Science Consultant\",\"Data Science Consultant\",\"Data Science Manager\",\"Data Science Manager\",\"Data Scientist\",\"Data Scientist\",\"Data Scientist\",\"Data Scientist\",\"Data Scientist\",\"Data Scientist\",\"Data Scientist\",\"Director of Data Science\",\"Director of Data Science\"],\"xaxis\":\"x\",\"yaxis\":\"y\",\"type\":\"histogram\"}],                        {\"template\":{\"data\":{\"barpolar\":[{\"marker\":{\"line\":{\"color\":\"rgb(17,17,17)\",\"width\":0.5},\"pattern\":{\"fillmode\":\"overlay\",\"size\":10,\"solidity\":0.2}},\"type\":\"barpolar\"}],\"bar\":[{\"error_x\":{\"color\":\"#f2f5fa\"},\"error_y\":{\"color\":\"#f2f5fa\"},\"marker\":{\"line\":{\"color\":\"rgb(17,17,17)\",\"width\":0.5},\"pattern\":{\"fillmode\":\"overlay\",\"size\":10,\"solidity\":0.2}},\"type\":\"bar\"}],\"carpet\":[{\"aaxis\":{\"endlinecolor\":\"#A2B1C6\",\"gridcolor\":\"#506784\",\"linecolor\":\"#506784\",\"minorgridcolor\":\"#506784\",\"startlinecolor\":\"#A2B1C6\"},\"baxis\":{\"endlinecolor\":\"#A2B1C6\",\"gridcolor\":\"#506784\",\"linecolor\":\"#506784\",\"minorgridcolor\":\"#506784\",\"startlinecolor\":\"#A2B1C6\"},\"type\":\"carpet\"}],\"choropleth\":[{\"colorbar\":{\"outlinewidth\":0,\"ticks\":\"\"},\"type\":\"choropleth\"}],\"contourcarpet\":[{\"colorbar\":{\"outlinewidth\":0,\"ticks\":\"\"},\"type\":\"contourcarpet\"}],\"contour\":[{\"colorbar\":{\"outlinewidth\":0,\"ticks\":\"\"},\"colorscale\":[[0.0,\"#0d0887\"],[0.1111111111111111,\"#46039f\"],[0.2222222222222222,\"#7201a8\"],[0.3333333333333333,\"#9c179e\"],[0.4444444444444444,\"#bd3786\"],[0.5555555555555556,\"#d8576b\"],[0.6666666666666666,\"#ed7953\"],[0.7777777777777778,\"#fb9f3a\"],[0.8888888888888888,\"#fdca26\"],[1.0,\"#f0f921\"]],\"type\":\"contour\"}],\"heatmapgl\":[{\"colorbar\":{\"outlinewidth\":0,\"ticks\":\"\"},\"colorscale\":[[0.0,\"#0d0887\"],[0.1111111111111111,\"#46039f\"],[0.2222222222222222,\"#7201a8\"],[0.3333333333333333,\"#9c179e\"],[0.4444444444444444,\"#bd3786\"],[0.5555555555555556,\"#d8576b\"],[0.6666666666666666,\"#ed7953\"],[0.7777777777777778,\"#fb9f3a\"],[0.8888888888888888,\"#fdca26\"],[1.0,\"#f0f921\"]],\"type\":\"heatmapgl\"}],\"heatmap\":[{\"colorbar\":{\"outlinewidth\":0,\"ticks\":\"\"},\"colorscale\":[[0.0,\"#0d0887\"],[0.1111111111111111,\"#46039f\"],[0.2222222222222222,\"#7201a8\"],[0.3333333333333333,\"#9c179e\"],[0.4444444444444444,\"#bd3786\"],[0.5555555555555556,\"#d8576b\"],[0.6666666666666666,\"#ed7953\"],[0.7777777777777778,\"#fb9f3a\"],[0.8888888888888888,\"#fdca26\"],[1.0,\"#f0f921\"]],\"type\":\"heatmap\"}],\"histogram2dcontour\":[{\"colorbar\":{\"outlinewidth\":0,\"ticks\":\"\"},\"colorscale\":[[0.0,\"#0d0887\"],[0.1111111111111111,\"#46039f\"],[0.2222222222222222,\"#7201a8\"],[0.3333333333333333,\"#9c179e\"],[0.4444444444444444,\"#bd3786\"],[0.5555555555555556,\"#d8576b\"],[0.6666666666666666,\"#ed7953\"],[0.7777777777777778,\"#fb9f3a\"],[0.8888888888888888,\"#fdca26\"],[1.0,\"#f0f921\"]],\"type\":\"histogram2dcontour\"}],\"histogram2d\":[{\"colorbar\":{\"outlinewidth\":0,\"ticks\":\"\"},\"colorscale\":[[0.0,\"#0d0887\"],[0.1111111111111111,\"#46039f\"],[0.2222222222222222,\"#7201a8\"],[0.3333333333333333,\"#9c179e\"],[0.4444444444444444,\"#bd3786\"],[0.5555555555555556,\"#d8576b\"],[0.6666666666666666,\"#ed7953\"],[0.7777777777777778,\"#fb9f3a\"],[0.8888888888888888,\"#fdca26\"],[1.0,\"#f0f921\"]],\"type\":\"histogram2d\"}],\"histogram\":[{\"marker\":{\"pattern\":{\"fillmode\":\"overlay\",\"size\":10,\"solidity\":0.2}},\"type\":\"histogram\"}],\"mesh3d\":[{\"colorbar\":{\"outlinewidth\":0,\"ticks\":\"\"},\"type\":\"mesh3d\"}],\"parcoords\":[{\"line\":{\"colorbar\":{\"outlinewidth\":0,\"ticks\":\"\"}},\"type\":\"parcoords\"}],\"pie\":[{\"automargin\":true,\"type\":\"pie\"}],\"scatter3d\":[{\"line\":{\"colorbar\":{\"outlinewidth\":0,\"ticks\":\"\"}},\"marker\":{\"colorbar\":{\"outlinewidth\":0,\"ticks\":\"\"}},\"type\":\"scatter3d\"}],\"scattercarpet\":[{\"marker\":{\"colorbar\":{\"outlinewidth\":0,\"ticks\":\"\"}},\"type\":\"scattercarpet\"}],\"scattergeo\":[{\"marker\":{\"colorbar\":{\"outlinewidth\":0,\"ticks\":\"\"}},\"type\":\"scattergeo\"}],\"scattergl\":[{\"marker\":{\"line\":{\"color\":\"#283442\"}},\"type\":\"scattergl\"}],\"scattermapbox\":[{\"marker\":{\"colorbar\":{\"outlinewidth\":0,\"ticks\":\"\"}},\"type\":\"scattermapbox\"}],\"scatterpolargl\":[{\"marker\":{\"colorbar\":{\"outlinewidth\":0,\"ticks\":\"\"}},\"type\":\"scatterpolargl\"}],\"scatterpolar\":[{\"marker\":{\"colorbar\":{\"outlinewidth\":0,\"ticks\":\"\"}},\"type\":\"scatterpolar\"}],\"scatter\":[{\"marker\":{\"line\":{\"color\":\"#283442\"}},\"type\":\"scatter\"}],\"scatterternary\":[{\"marker\":{\"colorbar\":{\"outlinewidth\":0,\"ticks\":\"\"}},\"type\":\"scatterternary\"}],\"surface\":[{\"colorbar\":{\"outlinewidth\":0,\"ticks\":\"\"},\"colorscale\":[[0.0,\"#0d0887\"],[0.1111111111111111,\"#46039f\"],[0.2222222222222222,\"#7201a8\"],[0.3333333333333333,\"#9c179e\"],[0.4444444444444444,\"#bd3786\"],[0.5555555555555556,\"#d8576b\"],[0.6666666666666666,\"#ed7953\"],[0.7777777777777778,\"#fb9f3a\"],[0.8888888888888888,\"#fdca26\"],[1.0,\"#f0f921\"]],\"type\":\"surface\"}],\"table\":[{\"cells\":{\"fill\":{\"color\":\"#506784\"},\"line\":{\"color\":\"rgb(17,17,17)\"}},\"header\":{\"fill\":{\"color\":\"#2a3f5f\"},\"line\":{\"color\":\"rgb(17,17,17)\"}},\"type\":\"table\"}]},\"layout\":{\"annotationdefaults\":{\"arrowcolor\":\"#f2f5fa\",\"arrowhead\":0,\"arrowwidth\":1},\"autotypenumbers\":\"strict\",\"coloraxis\":{\"colorbar\":{\"outlinewidth\":0,\"ticks\":\"\"}},\"colorscale\":{\"diverging\":[[0,\"#8e0152\"],[0.1,\"#c51b7d\"],[0.2,\"#de77ae\"],[0.3,\"#f1b6da\"],[0.4,\"#fde0ef\"],[0.5,\"#f7f7f7\"],[0.6,\"#e6f5d0\"],[0.7,\"#b8e186\"],[0.8,\"#7fbc41\"],[0.9,\"#4d9221\"],[1,\"#276419\"]],\"sequential\":[[0.0,\"#0d0887\"],[0.1111111111111111,\"#46039f\"],[0.2222222222222222,\"#7201a8\"],[0.3333333333333333,\"#9c179e\"],[0.4444444444444444,\"#bd3786\"],[0.5555555555555556,\"#d8576b\"],[0.6666666666666666,\"#ed7953\"],[0.7777777777777778,\"#fb9f3a\"],[0.8888888888888888,\"#fdca26\"],[1.0,\"#f0f921\"]],\"sequentialminus\":[[0.0,\"#0d0887\"],[0.1111111111111111,\"#46039f\"],[0.2222222222222222,\"#7201a8\"],[0.3333333333333333,\"#9c179e\"],[0.4444444444444444,\"#bd3786\"],[0.5555555555555556,\"#d8576b\"],[0.6666666666666666,\"#ed7953\"],[0.7777777777777778,\"#fb9f3a\"],[0.8888888888888888,\"#fdca26\"],[1.0,\"#f0f921\"]]},\"colorway\":[\"#636efa\",\"#EF553B\",\"#00cc96\",\"#ab63fa\",\"#FFA15A\",\"#19d3f3\",\"#FF6692\",\"#B6E880\",\"#FF97FF\",\"#FECB52\"],\"font\":{\"color\":\"#f2f5fa\"},\"geo\":{\"bgcolor\":\"rgb(17,17,17)\",\"lakecolor\":\"rgb(17,17,17)\",\"landcolor\":\"rgb(17,17,17)\",\"showlakes\":true,\"showland\":true,\"subunitcolor\":\"#506784\"},\"hoverlabel\":{\"align\":\"left\"},\"hovermode\":\"closest\",\"mapbox\":{\"style\":\"dark\"},\"paper_bgcolor\":\"rgb(17,17,17)\",\"plot_bgcolor\":\"rgb(17,17,17)\",\"polar\":{\"angularaxis\":{\"gridcolor\":\"#506784\",\"linecolor\":\"#506784\",\"ticks\":\"\"},\"bgcolor\":\"rgb(17,17,17)\",\"radialaxis\":{\"gridcolor\":\"#506784\",\"linecolor\":\"#506784\",\"ticks\":\"\"}},\"scene\":{\"xaxis\":{\"backgroundcolor\":\"rgb(17,17,17)\",\"gridcolor\":\"#506784\",\"gridwidth\":2,\"linecolor\":\"#506784\",\"showbackground\":true,\"ticks\":\"\",\"zerolinecolor\":\"#C8D4E3\"},\"yaxis\":{\"backgroundcolor\":\"rgb(17,17,17)\",\"gridcolor\":\"#506784\",\"gridwidth\":2,\"linecolor\":\"#506784\",\"showbackground\":true,\"ticks\":\"\",\"zerolinecolor\":\"#C8D4E3\"},\"zaxis\":{\"backgroundcolor\":\"rgb(17,17,17)\",\"gridcolor\":\"#506784\",\"gridwidth\":2,\"linecolor\":\"#506784\",\"showbackground\":true,\"ticks\":\"\",\"zerolinecolor\":\"#C8D4E3\"}},\"shapedefaults\":{\"line\":{\"color\":\"#f2f5fa\"}},\"sliderdefaults\":{\"bgcolor\":\"#C8D4E3\",\"bordercolor\":\"rgb(17,17,17)\",\"borderwidth\":1,\"tickwidth\":0},\"ternary\":{\"aaxis\":{\"gridcolor\":\"#506784\",\"linecolor\":\"#506784\",\"ticks\":\"\"},\"baxis\":{\"gridcolor\":\"#506784\",\"linecolor\":\"#506784\",\"ticks\":\"\"},\"bgcolor\":\"rgb(17,17,17)\",\"caxis\":{\"gridcolor\":\"#506784\",\"linecolor\":\"#506784\",\"ticks\":\"\"}},\"title\":{\"x\":0.05},\"updatemenudefaults\":{\"bgcolor\":\"#506784\",\"borderwidth\":0},\"xaxis\":{\"automargin\":true,\"gridcolor\":\"#283442\",\"linecolor\":\"#506784\",\"ticks\":\"\",\"title\":{\"standoff\":15},\"zerolinecolor\":\"#283442\",\"zerolinewidth\":2},\"yaxis\":{\"automargin\":true,\"gridcolor\":\"#283442\",\"linecolor\":\"#506784\",\"ticks\":\"\",\"title\":{\"standoff\":15},\"zerolinecolor\":\"#283442\",\"zerolinewidth\":2}}},\"xaxis\":{\"anchor\":\"y\",\"domain\":[0.0,1.0],\"title\":{\"text\":\"x\"}},\"yaxis\":{\"anchor\":\"x\",\"domain\":[0.0,1.0],\"title\":{\"text\":\"percent\"}},\"legend\":{\"title\":{\"text\":\"experience_level\"},\"tracegroupgap\":0},\"title\":{\"text\":\"The Data Field and Employee Experience\"},\"barmode\":\"group\",\"height\":900},                        {\"responsive\": true}                    ).then(function(){\n",
              "                            \n",
              "var gd = document.getElementById('d421f6a5-69cc-43bf-82ec-5e61bf46fd73');\n",
              "var x = new MutationObserver(function (mutations, observer) {{\n",
              "        var display = window.getComputedStyle(gd).display;\n",
              "        if (!display || display === 'none') {{\n",
              "            console.log([gd, 'removed!']);\n",
              "            Plotly.purge(gd);\n",
              "            observer.disconnect();\n",
              "        }}\n",
              "}});\n",
              "\n",
              "// Listen for the removal of the full notebook cells\n",
              "var notebookContainer = gd.closest('#notebook-container');\n",
              "if (notebookContainer) {{\n",
              "    x.observe(notebookContainer, {childList: true});\n",
              "}}\n",
              "\n",
              "// Listen for the clearing of the current output cell\n",
              "var outputEl = gd.closest('.output');\n",
              "if (outputEl) {{\n",
              "    x.observe(outputEl, {childList: true});\n",
              "}}\n",
              "\n",
              "                        })                };                            </script>        </div>\n",
              "</body>\n",
              "</html>"
            ]
          },
          "metadata": {}
        }
      ]
    },
    {
      "cell_type": "markdown",
      "source": [
        "From the histogram we have:\n",
        "\n",
        "\n",
        "1.   Top three data field are Data Scientist, Data Engineer, and Data Analyst.\n",
        "2.   Data scientist field have more Senior and Executive level employee. Data Engineer and Data Analyst are stacked with new employee by looking at the number of Entry and Mid level employee.\n",
        "3.   There are only ten field that have employee with executive experience.\n",
        "\n"
      ],
      "metadata": {
        "id": "8I9TOEt-GSHM"
      }
    },
    {
      "cell_type": "markdown",
      "source": [
        "## 2. Multivarient Analysis"
      ],
      "metadata": {
        "id": "qB7esAnYHP6E"
      }
    },
    {
      "cell_type": "markdown",
      "source": [
        "Statistical analysis that analyze the relationship between multivariate measurement parameter. It used to analyze the effect betwwen multuiple populations. This analysis could be used to test the hypothesis between variables.\n",
        "\n",
        "\n",
        "---\n",
        "https://www.sciencedirect.com/topics/medicine-and-dentistry/multivariate-analysis#:~:text=Multivariate%20analysis%20is%20conceptualized%20by,important%20to%20the%20experiment's%20understanding.\n"
      ],
      "metadata": {
        "id": "ERy-1KosHzJq"
      }
    },
    {
      "cell_type": "markdown",
      "source": [
        "### 1. Scatter Plot of the company location and employee residence"
      ],
      "metadata": {
        "id": "yKMlR00sInGG"
      }
    },
    {
      "cell_type": "code",
      "source": [
        "px.scatter(\n",
        "    df,\n",
        "    x=df.employee_country.sort_values(),\n",
        "    y=df.company_country.sort_values(),\n",
        "    color='remote_ratio',\n",
        "    height=1000,\n",
        "    labels={\"x\": 'Employee Residence',\n",
        "            \"y\": 'Companay Location'},\n",
        "    color_discrete_sequence=px.colors.qualitative.Pastel,\n",
        "    template='plotly_dark',\n",
        "    title='Relationship between Employee Residence and Company Location with type of work (WFO, Hybrid, or Remote'\n",
        ")"
      ],
      "metadata": {
        "colab": {
          "base_uri": "https://localhost:8080/",
          "height": 1000
        },
        "id": "VkWUAC3tGCQu",
        "outputId": "60c791f1-d69d-405c-d481-9d1bc2800615"
      },
      "execution_count": 48,
      "outputs": [
        {
          "output_type": "display_data",
          "data": {
            "text/html": [
              "<html>\n",
              "<head><meta charset=\"utf-8\" /></head>\n",
              "<body>\n",
              "    <div>            <script src=\"https://cdnjs.cloudflare.com/ajax/libs/mathjax/2.7.5/MathJax.js?config=TeX-AMS-MML_SVG\"></script><script type=\"text/javascript\">if (window.MathJax) {MathJax.Hub.Config({SVG: {font: \"STIX-Web\"}});}</script>                <script type=\"text/javascript\">window.PlotlyConfig = {MathJaxConfig: 'local'};</script>\n",
              "        <script src=\"https://cdn.plot.ly/plotly-2.8.3.min.js\"></script>                <div id=\"7fdf1763-90f2-49c0-a91f-3e41f8fb310a\" class=\"plotly-graph-div\" style=\"height:1000px; width:100%;\"></div>            <script type=\"text/javascript\">                                    window.PLOTLYENV=window.PLOTLYENV || {};                                    if (document.getElementById(\"7fdf1763-90f2-49c0-a91f-3e41f8fb310a\")) {                    Plotly.newPlot(                        \"7fdf1763-90f2-49c0-a91f-3e41f8fb310a\",                        [{\"hovertemplate\":\"remote_ratio=WFO<br>Employee Residence=%{x}<br>Companay Location=%{y}<extra></extra>\",\"legendgroup\":\"WFO\",\"marker\":{\"color\":\"rgb(102, 197, 204)\",\"symbol\":\"circle\"},\"mode\":\"markers\",\"name\":\"WFO\",\"orientation\":\"v\",\"showlegend\":true,\"x\":[\"Algeria\",\"Argentina\",\"Australia\",\"Bolivia, Plurinational State of\",\"Brazil\",\"Brazil\",\"Canada\",\"Canada\",\"Canada\",\"Canada\",\"Canada\",\"Canada\",\"Croatia\",\"France\",\"France\",\"Germany\",\"Greece\",\"Greece\",\"Greece\",\"India\",\"India\",\"India\",\"India\",\"India\",\"India\",\"Italy\",\"Luxembourg\",\"Netherlands\",\"Pakistan\",\"Pakistan\",\"Poland\",\"Puerto Rico\",\"Spain\",\"Spain\",\"Spain\",\"Spain\",\"Spain\",\"Turkey\",\"United Kingdom\",\"United Kingdom\",\"United Kingdom\",\"United Kingdom\",\"United Kingdom\",\"United Kingdom\",\"United Kingdom\",\"United Kingdom\",\"United Kingdom\",\"United States\",\"United States\",\"United States\",\"United States\",\"United States\",\"United States\",\"United States\",\"United States\",\"United States\",\"United States\",\"United States\",\"United States\",\"United States\",\"United States\",\"United States\",\"United States\",\"United States\",\"United States\",\"United States\",\"United States\",\"United States\",\"United States\",\"United States\",\"United States\",\"United States\",\"United States\",\"United States\",\"United States\",\"United States\",\"United States\",\"United States\",\"United States\",\"United States\",\"United States\",\"United States\",\"United States\",\"United States\",\"United States\",\"United States\",\"United States\",\"United States\",\"United States\",\"United States\",\"United States\",\"United States\",\"United States\",\"United States\",\"United States\",\"United States\",\"United States\",\"United States\",\"United States\",\"United States\",\"United States\",\"United States\",\"United States\",\"United States\",\"United States\",\"United States\",\"United States\",\"United States\",\"United States\",\"United States\",\"United States\",\"United States\",\"United States\",\"United States\",\"United States\",\"United States\",\"United States\",\"United States\",\"United States\",\"United States\",\"United States\",\"United States\",\"United States\",\"United States\",\"United States\",\"United States\",\"Viet Nam\"],\"xaxis\":\"x\",\"y\":[\"Algeria\",\"American Samoa\",\"Australia\",\"Belgium\",\"Brazil\",\"Brazil\",\"Canada\",\"Canada\",\"Canada\",\"Canada\",\"Canada\",\"Canada\",\"Czechia\",\"France\",\"France\",\"Germany\",\"Greece\",\"Greece\",\"Greece\",\"India\",\"India\",\"India\",\"Israel\",\"Japan\",\"Japan\",\"Luxembourg\",\"New Zealand\",\"Poland\",\"Russian Federation\",\"Slovenia\",\"Spain\",\"Spain\",\"United Kingdom\",\"United Kingdom\",\"United Kingdom\",\"United Kingdom\",\"United Kingdom\",\"United Kingdom\",\"United Kingdom\",\"United Kingdom\",\"United Kingdom\",\"United Kingdom\",\"United States\",\"United States\",\"United States\",\"United States\",\"United States\",\"United States\",\"United States\",\"United States\",\"United States\",\"United States\",\"United States\",\"United States\",\"United States\",\"United States\",\"United States\",\"United States\",\"United States\",\"United States\",\"United States\",\"United States\",\"United States\",\"United States\",\"United States\",\"United States\",\"United States\",\"United States\",\"United States\",\"United States\",\"United States\",\"United States\",\"United States\",\"United States\",\"United States\",\"United States\",\"United States\",\"United States\",\"United States\",\"United States\",\"United States\",\"United States\",\"United States\",\"United States\",\"United States\",\"United States\",\"United States\",\"United States\",\"United States\",\"United States\",\"United States\",\"United States\",\"United States\",\"United States\",\"United States\",\"United States\",\"United States\",\"United States\",\"United States\",\"United States\",\"United States\",\"United States\",\"United States\",\"United States\",\"United States\",\"United States\",\"United States\",\"United States\",\"United States\",\"United States\",\"United States\",\"United States\",\"United States\",\"United States\",\"United States\",\"United States\",\"United States\",\"United States\",\"United States\",\"United States\",\"United States\",\"United States\",\"United States\",\"United States\",\"United States\",\"United States\",\"United States\"],\"yaxis\":\"y\",\"type\":\"scatter\"},{\"hovertemplate\":\"remote_ratio=Hybrid<br>Employee Residence=%{x}<br>Companay Location=%{y}<extra></extra>\",\"legendgroup\":\"Hybrid\",\"marker\":{\"color\":\"rgb(246, 207, 113)\",\"symbol\":\"circle\"},\"mode\":\"markers\",\"name\":\"Hybrid\",\"orientation\":\"v\",\"showlegend\":true,\"x\":[\"Australia\",\"Australia\",\"Austria\",\"Belgium\",\"Brazil\",\"Canada\",\"Canada\",\"Canada\",\"Canada\",\"Canada\",\"Canada\",\"Canada\",\"Canada\",\"Canada\",\"Colombia\",\"Denmark\",\"France\",\"France\",\"France\",\"France\",\"France\",\"France\",\"Germany\",\"Germany\",\"Germany\",\"Germany\",\"Germany\",\"Germany\",\"Greece\",\"Greece\",\"Greece\",\"India\",\"India\",\"India\",\"India\",\"India\",\"India\",\"India\",\"India\",\"Iran, Islamic Republic of\",\"Iraq\",\"Japan\",\"Japan\",\"Kenya\",\"Malaysia\",\"Malta\",\"Mexico\",\"Netherlands\",\"Nigeria\",\"Pakistan\",\"Philippines\",\"Poland\",\"Poland\",\"Portugal\",\"Portugal\",\"Portugal\",\"Romania\",\"Russian Federation\",\"Russian Federation\",\"Singapore\",\"Spain\",\"Spain\",\"Spain\",\"Spain\",\"Spain\",\"Spain\",\"Turkey\",\"Turkey\",\"United Arab Emirates\",\"United Kingdom\",\"United Kingdom\",\"United Kingdom\",\"United Kingdom\",\"United Kingdom\",\"United Kingdom\",\"United Kingdom\",\"United Kingdom\",\"United Kingdom\",\"United Kingdom\",\"United Kingdom\",\"United States\",\"United States\",\"United States\",\"United States\",\"United States\",\"United States\",\"United States\",\"United States\",\"United States\",\"United States\",\"United States\",\"United States\",\"United States\",\"United States\",\"United States\",\"United States\",\"United States\",\"United States\",\"United States\"],\"xaxis\":\"x\",\"y\":[\"Australia\",\"Australia\",\"Austria\",\"Belgium\",\"Canada\",\"Canada\",\"Canada\",\"Canada\",\"Canada\",\"Canada\",\"Canada\",\"Canada\",\"Canada\",\"Chile\",\"Czechia\",\"Denmark\",\"France\",\"France\",\"France\",\"Germany\",\"Germany\",\"Germany\",\"Germany\",\"Germany\",\"Germany\",\"Germany\",\"Germany\",\"Germany\",\"Greece\",\"Greece\",\"Hungary\",\"India\",\"India\",\"India\",\"India\",\"India\",\"India\",\"Iraq\",\"Ireland\",\"Japan\",\"Japan\",\"Mexico\",\"Netherlands\",\"Netherlands\",\"Nigeria\",\"Nigeria\",\"Pakistan\",\"Poland\",\"Portugal\",\"Singapore\",\"Spain\",\"Spain\",\"Spain\",\"Spain\",\"Spain\",\"Spain\",\"Spain\",\"Switzerland\",\"Turkey\",\"Ukraine\",\"United Kingdom\",\"United Kingdom\",\"United Kingdom\",\"United Kingdom\",\"United Kingdom\",\"United Kingdom\",\"United Kingdom\",\"United Kingdom\",\"United Kingdom\",\"United Kingdom\",\"United Kingdom\",\"United Kingdom\",\"United Kingdom\",\"United Kingdom\",\"United States\",\"United States\",\"United States\",\"United States\",\"United States\",\"United States\",\"United States\",\"United States\",\"United States\",\"United States\",\"United States\",\"United States\",\"United States\",\"United States\",\"United States\",\"United States\",\"United States\",\"United States\",\"United States\",\"United States\",\"United States\",\"United States\",\"United States\",\"United States\",\"United States\"],\"yaxis\":\"y\",\"type\":\"scatter\"},{\"hovertemplate\":\"remote_ratio=Remote<br>Employee Residence=%{x}<br>Companay Location=%{y}<extra></extra>\",\"legendgroup\":\"Remote\",\"marker\":{\"color\":\"rgb(248, 156, 116)\",\"symbol\":\"circle\"},\"mode\":\"markers\",\"name\":\"Remote\",\"orientation\":\"v\",\"showlegend\":true,\"x\":[\"Austria\",\"Austria\",\"Belgium\",\"Brazil\",\"Brazil\",\"Brazil\",\"Bulgaria\",\"Canada\",\"Canada\",\"Canada\",\"Canada\",\"Canada\",\"Canada\",\"Canada\",\"Canada\",\"Canada\",\"Canada\",\"Canada\",\"Canada\",\"Canada\",\"Canada\",\"Chile\",\"China\",\"Czechia\",\"Denmark\",\"Estonia\",\"France\",\"France\",\"France\",\"France\",\"France\",\"France\",\"France\",\"France\",\"France\",\"France\",\"Germany\",\"Germany\",\"Germany\",\"Germany\",\"Germany\",\"Germany\",\"Germany\",\"Germany\",\"Germany\",\"Germany\",\"Germany\",\"Germany\",\"Germany\",\"Germany\",\"Germany\",\"Germany\",\"Germany\",\"Germany\",\"Greece\",\"Greece\",\"Greece\",\"Greece\",\"Greece\",\"Greece\",\"Greece\",\"Honduras\",\"Hong Kong\",\"Hungary\",\"Hungary\",\"India\",\"India\",\"India\",\"India\",\"India\",\"India\",\"India\",\"India\",\"India\",\"India\",\"India\",\"India\",\"India\",\"India\",\"India\",\"India\",\"Ireland\",\"Italy\",\"Italy\",\"Italy\",\"Japan\",\"Japan\",\"Japan\",\"Japan\",\"Japan\",\"Jersey\",\"Mexico\",\"Moldova, Republic of\",\"Netherlands\",\"Netherlands\",\"Netherlands\",\"New Zealand\",\"Nigeria\",\"Pakistan\",\"Pakistan\",\"Pakistan\",\"Poland\",\"Portugal\",\"Portugal\",\"Portugal\",\"Romania\",\"Russian Federation\",\"Russian Federation\",\"Serbia\",\"Singapore\",\"Slovenia\",\"Slovenia\",\"Spain\",\"Spain\",\"Spain\",\"Spain\",\"Switzerland\",\"Tunisia\",\"Ukraine\",\"United Arab Emirates\",\"United Arab Emirates\",\"United Kingdom\",\"United Kingdom\",\"United Kingdom\",\"United Kingdom\",\"United Kingdom\",\"United Kingdom\",\"United Kingdom\",\"United Kingdom\",\"United Kingdom\",\"United Kingdom\",\"United Kingdom\",\"United Kingdom\",\"United Kingdom\",\"United Kingdom\",\"United Kingdom\",\"United Kingdom\",\"United Kingdom\",\"United Kingdom\",\"United Kingdom\",\"United Kingdom\",\"United Kingdom\",\"United Kingdom\",\"United Kingdom\",\"United Kingdom\",\"United States\",\"United States\",\"United States\",\"United States\",\"United States\",\"United States\",\"United States\",\"United States\",\"United States\",\"United States\",\"United States\",\"United States\",\"United States\",\"United States\",\"United States\",\"United States\",\"United States\",\"United States\",\"United States\",\"United States\",\"United States\",\"United States\",\"United States\",\"United States\",\"United States\",\"United States\",\"United States\",\"United States\",\"United States\",\"United States\",\"United States\",\"United States\",\"United States\",\"United States\",\"United States\",\"United States\",\"United States\",\"United States\",\"United States\",\"United States\",\"United States\",\"United States\",\"United States\",\"United States\",\"United States\",\"United States\",\"United States\",\"United States\",\"United States\",\"United States\",\"United States\",\"United States\",\"United States\",\"United States\",\"United States\",\"United States\",\"United States\",\"United States\",\"United States\",\"United States\",\"United States\",\"United States\",\"United States\",\"United States\",\"United States\",\"United States\",\"United States\",\"United States\",\"United States\",\"United States\",\"United States\",\"United States\",\"United States\",\"United States\",\"United States\",\"United States\",\"United States\",\"United States\",\"United States\",\"United States\",\"United States\",\"United States\",\"United States\",\"United States\",\"United States\",\"United States\",\"United States\",\"United States\",\"United States\",\"United States\",\"United States\",\"United States\",\"United States\",\"United States\",\"United States\",\"United States\",\"United States\",\"United States\",\"United States\",\"United States\",\"United States\",\"United States\",\"United States\",\"United States\",\"United States\",\"United States\",\"United States\",\"United States\",\"United States\",\"United States\",\"United States\",\"United States\",\"United States\",\"United States\",\"United States\",\"United States\",\"United States\",\"United States\",\"United States\",\"United States\",\"United States\",\"United States\",\"United States\",\"United States\",\"United States\",\"United States\",\"United States\",\"United States\",\"United States\",\"United States\",\"United States\",\"United States\",\"United States\",\"United States\",\"United States\",\"United States\",\"United States\",\"United States\",\"United States\",\"United States\",\"United States\",\"United States\",\"United States\",\"United States\",\"United States\",\"United States\",\"United States\",\"United States\",\"United States\",\"United States\",\"United States\",\"United States\",\"United States\",\"United States\",\"United States\",\"United States\",\"United States\",\"United States\",\"United States\",\"United States\",\"United States\",\"United States\",\"United States\",\"United States\",\"United States\",\"United States\",\"United States\",\"United States\",\"United States\",\"United States\",\"United States\",\"United States\",\"United States\",\"United States\",\"United States\",\"United States\",\"United States\",\"United States\",\"United States\",\"United States\",\"United States\",\"United States\",\"United States\",\"United States\",\"United States\",\"United States\",\"United States\",\"United States\",\"United States\",\"United States\",\"United States\",\"United States\",\"United States\",\"United States\",\"United States\",\"United States\",\"United States\",\"United States\",\"United States\",\"United States\",\"United States\",\"United States\",\"United States\",\"United States\",\"United States\",\"United States\",\"United States\",\"United States\",\"United States\",\"United States\",\"United States\",\"United States\",\"United States\",\"United States\",\"United States\",\"United States\",\"United States\",\"United States\",\"United States\",\"United States\",\"United States\",\"United States\",\"United States\",\"United States\",\"United States\",\"United States\",\"United States\",\"United States\",\"United States\",\"United States\",\"United States\",\"United States\",\"United States\",\"United States\",\"Viet Nam\",\"Viet Nam\"],\"xaxis\":\"x\",\"y\":[\"Austria\",\"Austria\",\"Austria\",\"Brazil\",\"Canada\",\"Canada\",\"Canada\",\"Canada\",\"Canada\",\"Canada\",\"Canada\",\"Canada\",\"Canada\",\"Canada\",\"Canada\",\"Canada\",\"Canada\",\"Canada\",\"Canada\",\"China\",\"China\",\"Colombia\",\"Croatia\",\"Denmark\",\"Denmark\",\"Estonia\",\"France\",\"France\",\"France\",\"France\",\"France\",\"France\",\"France\",\"France\",\"France\",\"France\",\"Germany\",\"Germany\",\"Germany\",\"Germany\",\"Germany\",\"Germany\",\"Germany\",\"Germany\",\"Germany\",\"Germany\",\"Germany\",\"Germany\",\"Germany\",\"Germany\",\"Germany\",\"Germany\",\"Germany\",\"Germany\",\"Greece\",\"Greece\",\"Greece\",\"Greece\",\"Greece\",\"Greece\",\"Honduras\",\"India\",\"India\",\"India\",\"India\",\"India\",\"India\",\"India\",\"India\",\"India\",\"India\",\"India\",\"India\",\"India\",\"India\",\"India\",\"Iran, Islamic Republic of\",\"Italy\",\"Italy\",\"Japan\",\"Japan\",\"Kenya\",\"Luxembourg\",\"Luxembourg\",\"Malaysia\",\"Malta\",\"Mexico\",\"Mexico\",\"Moldova, Republic of\",\"Netherlands\",\"Netherlands\",\"Pakistan\",\"Pakistan\",\"Poland\",\"Poland\",\"Portugal\",\"Portugal\",\"Portugal\",\"Romania\",\"Russian Federation\",\"Slovenia\",\"Spain\",\"Spain\",\"Spain\",\"Spain\",\"Spain\",\"Switzerland\",\"Turkey\",\"Turkey\",\"United Arab Emirates\",\"United Arab Emirates\",\"United Arab Emirates\",\"United Kingdom\",\"United Kingdom\",\"United Kingdom\",\"United Kingdom\",\"United Kingdom\",\"United Kingdom\",\"United Kingdom\",\"United Kingdom\",\"United Kingdom\",\"United Kingdom\",\"United Kingdom\",\"United Kingdom\",\"United Kingdom\",\"United Kingdom\",\"United Kingdom\",\"United Kingdom\",\"United Kingdom\",\"United Kingdom\",\"United Kingdom\",\"United Kingdom\",\"United Kingdom\",\"United Kingdom\",\"United Kingdom\",\"United States\",\"United States\",\"United States\",\"United States\",\"United States\",\"United States\",\"United States\",\"United States\",\"United States\",\"United States\",\"United States\",\"United States\",\"United States\",\"United States\",\"United States\",\"United States\",\"United States\",\"United States\",\"United States\",\"United States\",\"United States\",\"United States\",\"United States\",\"United States\",\"United States\",\"United States\",\"United States\",\"United States\",\"United States\",\"United States\",\"United States\",\"United States\",\"United States\",\"United States\",\"United States\",\"United States\",\"United States\",\"United States\",\"United States\",\"United States\",\"United States\",\"United States\",\"United States\",\"United States\",\"United States\",\"United States\",\"United States\",\"United States\",\"United States\",\"United States\",\"United States\",\"United States\",\"United States\",\"United States\",\"United States\",\"United States\",\"United States\",\"United States\",\"United States\",\"United States\",\"United States\",\"United States\",\"United States\",\"United States\",\"United States\",\"United States\",\"United States\",\"United States\",\"United States\",\"United States\",\"United States\",\"United States\",\"United States\",\"United States\",\"United States\",\"United States\",\"United States\",\"United States\",\"United States\",\"United States\",\"United States\",\"United States\",\"United States\",\"United States\",\"United States\",\"United States\",\"United States\",\"United States\",\"United States\",\"United States\",\"United States\",\"United States\",\"United States\",\"United States\",\"United States\",\"United States\",\"United States\",\"United States\",\"United States\",\"United States\",\"United States\",\"United States\",\"United States\",\"United States\",\"United States\",\"United States\",\"United States\",\"United States\",\"United States\",\"United States\",\"United States\",\"United States\",\"United States\",\"United States\",\"United States\",\"United States\",\"United States\",\"United States\",\"United States\",\"United States\",\"United States\",\"United States\",\"United States\",\"United States\",\"United States\",\"United States\",\"United States\",\"United States\",\"United States\",\"United States\",\"United States\",\"United States\",\"United States\",\"United States\",\"United States\",\"United States\",\"United States\",\"United States\",\"United States\",\"United States\",\"United States\",\"United States\",\"United States\",\"United States\",\"United States\",\"United States\",\"United States\",\"United States\",\"United States\",\"United States\",\"United States\",\"United States\",\"United States\",\"United States\",\"United States\",\"United States\",\"United States\",\"United States\",\"United States\",\"United States\",\"United States\",\"United States\",\"United States\",\"United States\",\"United States\",\"United States\",\"United States\",\"United States\",\"United States\",\"United States\",\"United States\",\"United States\",\"United States\",\"United States\",\"United States\",\"United States\",\"United States\",\"United States\",\"United States\",\"United States\",\"United States\",\"United States\",\"United States\",\"United States\",\"United States\",\"United States\",\"United States\",\"United States\",\"United States\",\"United States\",\"United States\",\"United States\",\"United States\",\"United States\",\"United States\",\"United States\",\"United States\",\"United States\",\"United States\",\"United States\",\"United States\",\"United States\",\"United States\",\"United States\",\"United States\",\"United States\",\"United States\",\"United States\",\"United States\",\"United States\",\"United States\",\"United States\",\"United States\",\"United States\",\"United States\",\"United States\",\"United States\",\"United States\",\"United States\",\"United States\",\"United States\",\"United States\",\"United States\",\"United States\",\"United States\",\"United States\",\"United States\",\"United States\",\"United States\",\"United States\",\"United States\",\"United States\",\"United States\",\"United States\",\"United States\",\"United States\",\"United States\",\"United States\",\"United States\",\"United States\",\"United States\",\"United States\",\"United States\",\"United States\",\"United States\",\"Viet Nam\"],\"yaxis\":\"y\",\"type\":\"scatter\"}],                        {\"template\":{\"data\":{\"barpolar\":[{\"marker\":{\"line\":{\"color\":\"rgb(17,17,17)\",\"width\":0.5},\"pattern\":{\"fillmode\":\"overlay\",\"size\":10,\"solidity\":0.2}},\"type\":\"barpolar\"}],\"bar\":[{\"error_x\":{\"color\":\"#f2f5fa\"},\"error_y\":{\"color\":\"#f2f5fa\"},\"marker\":{\"line\":{\"color\":\"rgb(17,17,17)\",\"width\":0.5},\"pattern\":{\"fillmode\":\"overlay\",\"size\":10,\"solidity\":0.2}},\"type\":\"bar\"}],\"carpet\":[{\"aaxis\":{\"endlinecolor\":\"#A2B1C6\",\"gridcolor\":\"#506784\",\"linecolor\":\"#506784\",\"minorgridcolor\":\"#506784\",\"startlinecolor\":\"#A2B1C6\"},\"baxis\":{\"endlinecolor\":\"#A2B1C6\",\"gridcolor\":\"#506784\",\"linecolor\":\"#506784\",\"minorgridcolor\":\"#506784\",\"startlinecolor\":\"#A2B1C6\"},\"type\":\"carpet\"}],\"choropleth\":[{\"colorbar\":{\"outlinewidth\":0,\"ticks\":\"\"},\"type\":\"choropleth\"}],\"contourcarpet\":[{\"colorbar\":{\"outlinewidth\":0,\"ticks\":\"\"},\"type\":\"contourcarpet\"}],\"contour\":[{\"colorbar\":{\"outlinewidth\":0,\"ticks\":\"\"},\"colorscale\":[[0.0,\"#0d0887\"],[0.1111111111111111,\"#46039f\"],[0.2222222222222222,\"#7201a8\"],[0.3333333333333333,\"#9c179e\"],[0.4444444444444444,\"#bd3786\"],[0.5555555555555556,\"#d8576b\"],[0.6666666666666666,\"#ed7953\"],[0.7777777777777778,\"#fb9f3a\"],[0.8888888888888888,\"#fdca26\"],[1.0,\"#f0f921\"]],\"type\":\"contour\"}],\"heatmapgl\":[{\"colorbar\":{\"outlinewidth\":0,\"ticks\":\"\"},\"colorscale\":[[0.0,\"#0d0887\"],[0.1111111111111111,\"#46039f\"],[0.2222222222222222,\"#7201a8\"],[0.3333333333333333,\"#9c179e\"],[0.4444444444444444,\"#bd3786\"],[0.5555555555555556,\"#d8576b\"],[0.6666666666666666,\"#ed7953\"],[0.7777777777777778,\"#fb9f3a\"],[0.8888888888888888,\"#fdca26\"],[1.0,\"#f0f921\"]],\"type\":\"heatmapgl\"}],\"heatmap\":[{\"colorbar\":{\"outlinewidth\":0,\"ticks\":\"\"},\"colorscale\":[[0.0,\"#0d0887\"],[0.1111111111111111,\"#46039f\"],[0.2222222222222222,\"#7201a8\"],[0.3333333333333333,\"#9c179e\"],[0.4444444444444444,\"#bd3786\"],[0.5555555555555556,\"#d8576b\"],[0.6666666666666666,\"#ed7953\"],[0.7777777777777778,\"#fb9f3a\"],[0.8888888888888888,\"#fdca26\"],[1.0,\"#f0f921\"]],\"type\":\"heatmap\"}],\"histogram2dcontour\":[{\"colorbar\":{\"outlinewidth\":0,\"ticks\":\"\"},\"colorscale\":[[0.0,\"#0d0887\"],[0.1111111111111111,\"#46039f\"],[0.2222222222222222,\"#7201a8\"],[0.3333333333333333,\"#9c179e\"],[0.4444444444444444,\"#bd3786\"],[0.5555555555555556,\"#d8576b\"],[0.6666666666666666,\"#ed7953\"],[0.7777777777777778,\"#fb9f3a\"],[0.8888888888888888,\"#fdca26\"],[1.0,\"#f0f921\"]],\"type\":\"histogram2dcontour\"}],\"histogram2d\":[{\"colorbar\":{\"outlinewidth\":0,\"ticks\":\"\"},\"colorscale\":[[0.0,\"#0d0887\"],[0.1111111111111111,\"#46039f\"],[0.2222222222222222,\"#7201a8\"],[0.3333333333333333,\"#9c179e\"],[0.4444444444444444,\"#bd3786\"],[0.5555555555555556,\"#d8576b\"],[0.6666666666666666,\"#ed7953\"],[0.7777777777777778,\"#fb9f3a\"],[0.8888888888888888,\"#fdca26\"],[1.0,\"#f0f921\"]],\"type\":\"histogram2d\"}],\"histogram\":[{\"marker\":{\"pattern\":{\"fillmode\":\"overlay\",\"size\":10,\"solidity\":0.2}},\"type\":\"histogram\"}],\"mesh3d\":[{\"colorbar\":{\"outlinewidth\":0,\"ticks\":\"\"},\"type\":\"mesh3d\"}],\"parcoords\":[{\"line\":{\"colorbar\":{\"outlinewidth\":0,\"ticks\":\"\"}},\"type\":\"parcoords\"}],\"pie\":[{\"automargin\":true,\"type\":\"pie\"}],\"scatter3d\":[{\"line\":{\"colorbar\":{\"outlinewidth\":0,\"ticks\":\"\"}},\"marker\":{\"colorbar\":{\"outlinewidth\":0,\"ticks\":\"\"}},\"type\":\"scatter3d\"}],\"scattercarpet\":[{\"marker\":{\"colorbar\":{\"outlinewidth\":0,\"ticks\":\"\"}},\"type\":\"scattercarpet\"}],\"scattergeo\":[{\"marker\":{\"colorbar\":{\"outlinewidth\":0,\"ticks\":\"\"}},\"type\":\"scattergeo\"}],\"scattergl\":[{\"marker\":{\"line\":{\"color\":\"#283442\"}},\"type\":\"scattergl\"}],\"scattermapbox\":[{\"marker\":{\"colorbar\":{\"outlinewidth\":0,\"ticks\":\"\"}},\"type\":\"scattermapbox\"}],\"scatterpolargl\":[{\"marker\":{\"colorbar\":{\"outlinewidth\":0,\"ticks\":\"\"}},\"type\":\"scatterpolargl\"}],\"scatterpolar\":[{\"marker\":{\"colorbar\":{\"outlinewidth\":0,\"ticks\":\"\"}},\"type\":\"scatterpolar\"}],\"scatter\":[{\"marker\":{\"line\":{\"color\":\"#283442\"}},\"type\":\"scatter\"}],\"scatterternary\":[{\"marker\":{\"colorbar\":{\"outlinewidth\":0,\"ticks\":\"\"}},\"type\":\"scatterternary\"}],\"surface\":[{\"colorbar\":{\"outlinewidth\":0,\"ticks\":\"\"},\"colorscale\":[[0.0,\"#0d0887\"],[0.1111111111111111,\"#46039f\"],[0.2222222222222222,\"#7201a8\"],[0.3333333333333333,\"#9c179e\"],[0.4444444444444444,\"#bd3786\"],[0.5555555555555556,\"#d8576b\"],[0.6666666666666666,\"#ed7953\"],[0.7777777777777778,\"#fb9f3a\"],[0.8888888888888888,\"#fdca26\"],[1.0,\"#f0f921\"]],\"type\":\"surface\"}],\"table\":[{\"cells\":{\"fill\":{\"color\":\"#506784\"},\"line\":{\"color\":\"rgb(17,17,17)\"}},\"header\":{\"fill\":{\"color\":\"#2a3f5f\"},\"line\":{\"color\":\"rgb(17,17,17)\"}},\"type\":\"table\"}]},\"layout\":{\"annotationdefaults\":{\"arrowcolor\":\"#f2f5fa\",\"arrowhead\":0,\"arrowwidth\":1},\"autotypenumbers\":\"strict\",\"coloraxis\":{\"colorbar\":{\"outlinewidth\":0,\"ticks\":\"\"}},\"colorscale\":{\"diverging\":[[0,\"#8e0152\"],[0.1,\"#c51b7d\"],[0.2,\"#de77ae\"],[0.3,\"#f1b6da\"],[0.4,\"#fde0ef\"],[0.5,\"#f7f7f7\"],[0.6,\"#e6f5d0\"],[0.7,\"#b8e186\"],[0.8,\"#7fbc41\"],[0.9,\"#4d9221\"],[1,\"#276419\"]],\"sequential\":[[0.0,\"#0d0887\"],[0.1111111111111111,\"#46039f\"],[0.2222222222222222,\"#7201a8\"],[0.3333333333333333,\"#9c179e\"],[0.4444444444444444,\"#bd3786\"],[0.5555555555555556,\"#d8576b\"],[0.6666666666666666,\"#ed7953\"],[0.7777777777777778,\"#fb9f3a\"],[0.8888888888888888,\"#fdca26\"],[1.0,\"#f0f921\"]],\"sequentialminus\":[[0.0,\"#0d0887\"],[0.1111111111111111,\"#46039f\"],[0.2222222222222222,\"#7201a8\"],[0.3333333333333333,\"#9c179e\"],[0.4444444444444444,\"#bd3786\"],[0.5555555555555556,\"#d8576b\"],[0.6666666666666666,\"#ed7953\"],[0.7777777777777778,\"#fb9f3a\"],[0.8888888888888888,\"#fdca26\"],[1.0,\"#f0f921\"]]},\"colorway\":[\"#636efa\",\"#EF553B\",\"#00cc96\",\"#ab63fa\",\"#FFA15A\",\"#19d3f3\",\"#FF6692\",\"#B6E880\",\"#FF97FF\",\"#FECB52\"],\"font\":{\"color\":\"#f2f5fa\"},\"geo\":{\"bgcolor\":\"rgb(17,17,17)\",\"lakecolor\":\"rgb(17,17,17)\",\"landcolor\":\"rgb(17,17,17)\",\"showlakes\":true,\"showland\":true,\"subunitcolor\":\"#506784\"},\"hoverlabel\":{\"align\":\"left\"},\"hovermode\":\"closest\",\"mapbox\":{\"style\":\"dark\"},\"paper_bgcolor\":\"rgb(17,17,17)\",\"plot_bgcolor\":\"rgb(17,17,17)\",\"polar\":{\"angularaxis\":{\"gridcolor\":\"#506784\",\"linecolor\":\"#506784\",\"ticks\":\"\"},\"bgcolor\":\"rgb(17,17,17)\",\"radialaxis\":{\"gridcolor\":\"#506784\",\"linecolor\":\"#506784\",\"ticks\":\"\"}},\"scene\":{\"xaxis\":{\"backgroundcolor\":\"rgb(17,17,17)\",\"gridcolor\":\"#506784\",\"gridwidth\":2,\"linecolor\":\"#506784\",\"showbackground\":true,\"ticks\":\"\",\"zerolinecolor\":\"#C8D4E3\"},\"yaxis\":{\"backgroundcolor\":\"rgb(17,17,17)\",\"gridcolor\":\"#506784\",\"gridwidth\":2,\"linecolor\":\"#506784\",\"showbackground\":true,\"ticks\":\"\",\"zerolinecolor\":\"#C8D4E3\"},\"zaxis\":{\"backgroundcolor\":\"rgb(17,17,17)\",\"gridcolor\":\"#506784\",\"gridwidth\":2,\"linecolor\":\"#506784\",\"showbackground\":true,\"ticks\":\"\",\"zerolinecolor\":\"#C8D4E3\"}},\"shapedefaults\":{\"line\":{\"color\":\"#f2f5fa\"}},\"sliderdefaults\":{\"bgcolor\":\"#C8D4E3\",\"bordercolor\":\"rgb(17,17,17)\",\"borderwidth\":1,\"tickwidth\":0},\"ternary\":{\"aaxis\":{\"gridcolor\":\"#506784\",\"linecolor\":\"#506784\",\"ticks\":\"\"},\"baxis\":{\"gridcolor\":\"#506784\",\"linecolor\":\"#506784\",\"ticks\":\"\"},\"bgcolor\":\"rgb(17,17,17)\",\"caxis\":{\"gridcolor\":\"#506784\",\"linecolor\":\"#506784\",\"ticks\":\"\"}},\"title\":{\"x\":0.05},\"updatemenudefaults\":{\"bgcolor\":\"#506784\",\"borderwidth\":0},\"xaxis\":{\"automargin\":true,\"gridcolor\":\"#283442\",\"linecolor\":\"#506784\",\"ticks\":\"\",\"title\":{\"standoff\":15},\"zerolinecolor\":\"#283442\",\"zerolinewidth\":2},\"yaxis\":{\"automargin\":true,\"gridcolor\":\"#283442\",\"linecolor\":\"#506784\",\"ticks\":\"\",\"title\":{\"standoff\":15},\"zerolinecolor\":\"#283442\",\"zerolinewidth\":2}}},\"xaxis\":{\"anchor\":\"y\",\"domain\":[0.0,1.0],\"title\":{\"text\":\"Employee Residence\"}},\"yaxis\":{\"anchor\":\"x\",\"domain\":[0.0,1.0],\"title\":{\"text\":\"Companay Location\"}},\"legend\":{\"title\":{\"text\":\"remote_ratio\"},\"tracegroupgap\":0},\"title\":{\"text\":\"Relationship between Employee Residence and Company Location with type of work (WFO, Hybrid, or Remote\"},\"height\":1000},                        {\"responsive\": true}                    ).then(function(){\n",
              "                            \n",
              "var gd = document.getElementById('7fdf1763-90f2-49c0-a91f-3e41f8fb310a');\n",
              "var x = new MutationObserver(function (mutations, observer) {{\n",
              "        var display = window.getComputedStyle(gd).display;\n",
              "        if (!display || display === 'none') {{\n",
              "            console.log([gd, 'removed!']);\n",
              "            Plotly.purge(gd);\n",
              "            observer.disconnect();\n",
              "        }}\n",
              "}});\n",
              "\n",
              "// Listen for the removal of the full notebook cells\n",
              "var notebookContainer = gd.closest('#notebook-container');\n",
              "if (notebookContainer) {{\n",
              "    x.observe(notebookContainer, {childList: true});\n",
              "}}\n",
              "\n",
              "// Listen for the clearing of the current output cell\n",
              "var outputEl = gd.closest('.output');\n",
              "if (outputEl) {{\n",
              "    x.observe(outputEl, {childList: true});\n",
              "}}\n",
              "\n",
              "                        })                };                            </script>        </div>\n",
              "</body>\n",
              "</html>"
            ]
          },
          "metadata": {}
        }
      ]
    },
    {
      "cell_type": "markdown",
      "source": [
        "Employee from outside of their company country likely to work remotely. But US employee also love to work remotely, maybe their company is in another state that they think the company is in another country... "
      ],
      "metadata": {
        "id": "9YLBqTjzKbdQ"
      }
    },
    {
      "cell_type": "markdown",
      "source": [
        "### 2. Experience and Money, are they related?"
      ],
      "metadata": {
        "id": "uLklmaBALnQW"
      }
    },
    {
      "cell_type": "code",
      "source": [
        "px.scatter(\n",
        "    df,\n",
        "    x='salary_in_usd',\n",
        "    y='experience_level',\n",
        "    size='salary_in_usd',\n",
        "    hover_name='job_title',\n",
        "    color='job_title',\n",
        "    color_discrete_sequence=px.colors.qualitative.Pastel_r,\n",
        "    template='plotly_dark',\n",
        "    animation_frame='work_year',\n",
        "    title='Experience and Money'\n",
        ").update_yaxes(categoryarray=['Entry', 'Mid', 'Senior', 'Executive'])"
      ],
      "metadata": {
        "colab": {
          "base_uri": "https://localhost:8080/",
          "height": 542
        },
        "id": "mC-Fk4nxJvUd",
        "outputId": "2d18135b-9d19-4418-b869-b91ca27bfd52"
      },
      "execution_count": 50,
      "outputs": [
        {
          "output_type": "display_data",
          "data": {
            "text/html": [
              "<html>\n",
              "<head><meta charset=\"utf-8\" /></head>\n",
              "<body>\n",
              "    <div>            <script src=\"https://cdnjs.cloudflare.com/ajax/libs/mathjax/2.7.5/MathJax.js?config=TeX-AMS-MML_SVG\"></script><script type=\"text/javascript\">if (window.MathJax) {MathJax.Hub.Config({SVG: {font: \"STIX-Web\"}});}</script>                <script type=\"text/javascript\">window.PlotlyConfig = {MathJaxConfig: 'local'};</script>\n",
              "        <script src=\"https://cdn.plot.ly/plotly-2.8.3.min.js\"></script>                <div id=\"f9842ba1-15a4-49c7-87d4-0ccbea81fa85\" class=\"plotly-graph-div\" style=\"height:525px; width:100%;\"></div>            <script type=\"text/javascript\">                                    window.PLOTLYENV=window.PLOTLYENV || {};                                    if (document.getElementById(\"f9842ba1-15a4-49c7-87d4-0ccbea81fa85\")) {                    Plotly.newPlot(                        \"f9842ba1-15a4-49c7-87d4-0ccbea81fa85\",                        [{\"hovertemplate\":\"<b>%{hovertext}</b><br><br>job_title=Data Scientist<br>work_year=2020<br>salary_in_usd=%{marker.size}<br>experience_level=%{y}<extra></extra>\",\"hovertext\":[\"Data Scientist\",\"Data Scientist\",\"Data Scientist\",\"Data Scientist\",\"Data Scientist\",\"Data Scientist\",\"Data Scientist\",\"Data Scientist\",\"Data Scientist\",\"Data Scientist\",\"Data Scientist\",\"Data Scientist\",\"Data Scientist\",\"Data Scientist\",\"Data Scientist\",\"Data Scientist\",\"Data Scientist\",\"Data Scientist\",\"Data Scientist\",\"Data Scientist\",\"Data Scientist\"],\"legendgroup\":\"Data Scientist\",\"marker\":{\"color\":\"rgb(179, 179, 179)\",\"size\":[79833,35735,51321,40481,39916,68428,45760,76958,105000,38776,118000,120000,138350,21669,412000,62726,49268,105000,91237,62726,42197],\"sizemode\":\"area\",\"sizeref\":1500.0,\"symbol\":\"circle\"},\"mode\":\"markers\",\"name\":\"Data Scientist\",\"orientation\":\"h\",\"showlegend\":true,\"x\":[79833,35735,51321,40481,39916,68428,45760,76958,105000,38776,118000,120000,138350,21669,412000,62726,49268,105000,91237,62726,42197],\"xaxis\":\"x\",\"y\":[\"Mid\",\"Mid\",\"Entry\",\"Mid\",\"Entry\",\"Senior\",\"Mid\",\"Mid\",\"Mid\",\"Mid\",\"Mid\",\"Senior\",\"Mid\",\"Entry\",\"Senior\",\"Entry\",\"Entry\",\"Entry\",\"Senior\",\"Mid\",\"Mid\"],\"yaxis\":\"y\",\"type\":\"scatter\"},{\"hovertemplate\":\"<b>%{hovertext}</b><br><br>job_title=Machine Learning Scientist<br>work_year=2020<br>salary_in_usd=%{marker.size}<br>experience_level=%{y}<extra></extra>\",\"hovertext\":[\"Machine Learning Scientist\"],\"legendgroup\":\"Machine Learning Scientist\",\"marker\":{\"color\":\"rgb(180, 151, 231)\",\"size\":[260000],\"sizemode\":\"area\",\"sizeref\":1500.0,\"symbol\":\"circle\"},\"mode\":\"markers\",\"name\":\"Machine Learning Scientist\",\"orientation\":\"h\",\"showlegend\":true,\"x\":[260000],\"xaxis\":\"x\",\"y\":[\"Senior\"],\"yaxis\":\"y\",\"type\":\"scatter\"},{\"hovertemplate\":\"<b>%{hovertext}</b><br><br>job_title=Big Data Engineer<br>work_year=2020<br>salary_in_usd=%{marker.size}<br>experience_level=%{y}<extra></extra>\",\"hovertext\":[\"Big Data Engineer\",\"Big Data Engineer\",\"Big Data Engineer\"],\"legendgroup\":\"Big Data Engineer\",\"marker\":{\"color\":\"rgb(139, 224, 164)\",\"size\":[109024,114047,70000],\"sizemode\":\"area\",\"sizeref\":1500.0,\"symbol\":\"circle\"},\"mode\":\"markers\",\"name\":\"Big Data Engineer\",\"orientation\":\"h\",\"showlegend\":true,\"x\":[109024,114047,70000],\"xaxis\":\"x\",\"y\":[\"Senior\",\"Senior\",\"Entry\"],\"yaxis\":\"y\",\"type\":\"scatter\"},{\"hovertemplate\":\"<b>%{hovertext}</b><br><br>job_title=Product Data Analyst<br>work_year=2020<br>salary_in_usd=%{marker.size}<br>experience_level=%{y}<extra></extra>\",\"hovertext\":[\"Product Data Analyst\",\"Product Data Analyst\"],\"legendgroup\":\"Product Data Analyst\",\"marker\":{\"color\":\"rgb(201, 219, 116)\",\"size\":[20000,6072],\"sizemode\":\"area\",\"sizeref\":1500.0,\"symbol\":\"circle\"},\"mode\":\"markers\",\"name\":\"Product Data Analyst\",\"orientation\":\"h\",\"showlegend\":true,\"x\":[20000,6072],\"xaxis\":\"x\",\"y\":[\"Mid\",\"Mid\"],\"yaxis\":\"y\",\"type\":\"scatter\"},{\"hovertemplate\":\"<b>%{hovertext}</b><br><br>job_title=Machine Learning Engineer<br>work_year=2020<br>salary_in_usd=%{marker.size}<br>experience_level=%{y}<extra></extra>\",\"hovertext\":[\"Machine Learning Engineer\",\"Machine Learning Engineer\",\"Machine Learning Engineer\",\"Machine Learning Engineer\",\"Machine Learning Engineer\"],\"legendgroup\":\"Machine Learning Engineer\",\"marker\":{\"color\":\"rgb(254, 136, 177)\",\"size\":[150000,43331,250000,138000,45618],\"sizemode\":\"area\",\"sizeref\":1500.0,\"symbol\":\"circle\"},\"mode\":\"markers\",\"name\":\"Machine Learning Engineer\",\"orientation\":\"h\",\"showlegend\":true,\"x\":[150000,43331,250000,138000,45618],\"xaxis\":\"x\",\"y\":[\"Senior\",\"Mid\",\"Entry\",\"Entry\",\"Senior\"],\"yaxis\":\"y\",\"type\":\"scatter\"},{\"hovertemplate\":\"<b>%{hovertext}</b><br><br>job_title=Data Analyst<br>work_year=2020<br>salary_in_usd=%{marker.size}<br>experience_level=%{y}<extra></extra>\",\"hovertext\":[\"Data Analyst\",\"Data Analyst\",\"Data Analyst\",\"Data Analyst\",\"Data Analyst\",\"Data Analyst\",\"Data Analyst\"],\"legendgroup\":\"Data Analyst\",\"marker\":{\"color\":\"rgb(158, 185, 243)\",\"size\":[72000,85000,8000,46759,10000,6072,91000],\"sizemode\":\"area\",\"sizeref\":1500.0,\"symbol\":\"circle\"},\"mode\":\"markers\",\"name\":\"Data Analyst\",\"orientation\":\"h\",\"showlegend\":true,\"x\":[72000,85000,8000,46759,10000,6072,91000],\"xaxis\":\"x\",\"y\":[\"Entry\",\"Mid\",\"Mid\",\"Mid\",\"Entry\",\"Entry\",\"Entry\"],\"yaxis\":\"y\",\"type\":\"scatter\"},{\"hovertemplate\":\"<b>%{hovertext}</b><br><br>job_title=Lead Data Scientist<br>work_year=2020<br>salary_in_usd=%{marker.size}<br>experience_level=%{y}<extra></extra>\",\"hovertext\":[\"Lead Data Scientist\",\"Lead Data Scientist\"],\"legendgroup\":\"Lead Data Scientist\",\"marker\":{\"color\":\"rgb(135, 197, 95)\",\"size\":[190000,115000],\"sizemode\":\"area\",\"sizeref\":1500.0,\"symbol\":\"circle\"},\"mode\":\"markers\",\"name\":\"Lead Data Scientist\",\"orientation\":\"h\",\"showlegend\":true,\"x\":[190000,115000],\"xaxis\":\"x\",\"y\":[\"Senior\",\"Mid\"],\"yaxis\":\"y\",\"type\":\"scatter\"},{\"hovertemplate\":\"<b>%{hovertext}</b><br><br>job_title=Business Data Analyst<br>work_year=2020<br>salary_in_usd=%{marker.size}<br>experience_level=%{y}<extra></extra>\",\"hovertext\":[\"Business Data Analyst\",\"Business Data Analyst\"],\"legendgroup\":\"Business Data Analyst\",\"marker\":{\"color\":\"rgb(220, 176, 242)\",\"size\":[135000,100000],\"sizemode\":\"area\",\"sizeref\":1500.0,\"symbol\":\"circle\"},\"mode\":\"markers\",\"name\":\"Business Data Analyst\",\"orientation\":\"h\",\"showlegend\":true,\"x\":[135000,100000],\"xaxis\":\"x\",\"y\":[\"Mid\",\"Entry\"],\"yaxis\":\"y\",\"type\":\"scatter\"},{\"hovertemplate\":\"<b>%{hovertext}</b><br><br>job_title=Lead Data Engineer<br>work_year=2020<br>salary_in_usd=%{marker.size}<br>experience_level=%{y}<extra></extra>\",\"hovertext\":[\"Lead Data Engineer\",\"Lead Data Engineer\"],\"legendgroup\":\"Lead Data Engineer\",\"marker\":{\"color\":\"rgb(248, 156, 116)\",\"size\":[125000,56000],\"sizemode\":\"area\",\"sizeref\":1500.0,\"symbol\":\"circle\"},\"mode\":\"markers\",\"name\":\"Lead Data Engineer\",\"orientation\":\"h\",\"showlegend\":true,\"x\":[125000,56000],\"xaxis\":\"x\",\"y\":[\"Senior\",\"Mid\"],\"yaxis\":\"y\",\"type\":\"scatter\"},{\"hovertemplate\":\"<b>%{hovertext}</b><br><br>job_title=Lead Data Analyst<br>work_year=2020<br>salary_in_usd=%{marker.size}<br>experience_level=%{y}<extra></extra>\",\"hovertext\":[\"Lead Data Analyst\"],\"legendgroup\":\"Lead Data Analyst\",\"marker\":{\"color\":\"rgb(246, 207, 113)\",\"size\":[87000],\"sizemode\":\"area\",\"sizeref\":1500.0,\"symbol\":\"circle\"},\"mode\":\"markers\",\"name\":\"Lead Data Analyst\",\"orientation\":\"h\",\"showlegend\":true,\"x\":[87000],\"xaxis\":\"x\",\"y\":[\"Mid\"],\"yaxis\":\"y\",\"type\":\"scatter\"},{\"hovertemplate\":\"<b>%{hovertext}</b><br><br>job_title=Data Engineer<br>work_year=2020<br>salary_in_usd=%{marker.size}<br>experience_level=%{y}<extra></extra>\",\"hovertext\":[\"Data Engineer\",\"Data Engineer\",\"Data Engineer\",\"Data Engineer\",\"Data Engineer\",\"Data Engineer\",\"Data Engineer\",\"Data Engineer\",\"Data Engineer\",\"Data Engineer\",\"Data Engineer\"],\"legendgroup\":\"Data Engineer\",\"marker\":{\"color\":\"rgb(102, 197, 204)\",\"size\":[41689,47899,33511,74130,106000,112872,188000,70139,54742,110000,130800],\"sizemode\":\"area\",\"sizeref\":1500.0,\"symbol\":\"circle\"},\"mode\":\"markers\",\"name\":\"Data Engineer\",\"orientation\":\"h\",\"showlegend\":true,\"x\":[41689,47899,33511,74130,106000,112872,188000,70139,54742,110000,130800],\"xaxis\":\"x\",\"y\":[\"Entry\",\"Senior\",\"Senior\",\"Mid\",\"Mid\",\"Mid\",\"Senior\",\"Mid\",\"Entry\",\"Mid\",\"Mid\"],\"yaxis\":\"y\",\"type\":\"scatter\"},{\"hovertemplate\":\"<b>%{hovertext}</b><br><br>job_title=Data Science Consultant<br>work_year=2020<br>salary_in_usd=%{marker.size}<br>experience_level=%{y}<extra></extra>\",\"hovertext\":[\"Data Science Consultant\",\"Data Science Consultant\"],\"legendgroup\":\"Data Science Consultant\",\"marker\":{\"color\":\"rgb(179, 179, 179)\",\"size\":[5707,103000],\"sizemode\":\"area\",\"sizeref\":1500.0,\"symbol\":\"circle\"},\"mode\":\"markers\",\"name\":\"Data Science Consultant\",\"orientation\":\"h\",\"showlegend\":true,\"x\":[5707,103000],\"xaxis\":\"x\",\"y\":[\"Entry\",\"Mid\"],\"yaxis\":\"y\",\"type\":\"scatter\"},{\"hovertemplate\":\"<b>%{hovertext}</b><br><br>job_title=BI Data Analyst<br>work_year=2020<br>salary_in_usd=%{marker.size}<br>experience_level=%{y}<extra></extra>\",\"hovertext\":[\"BI Data Analyst\"],\"legendgroup\":\"BI Data Analyst\",\"marker\":{\"color\":\"rgb(180, 151, 231)\",\"size\":[98000],\"sizemode\":\"area\",\"sizeref\":1500.0,\"symbol\":\"circle\"},\"mode\":\"markers\",\"name\":\"BI Data Analyst\",\"orientation\":\"h\",\"showlegend\":true,\"x\":[98000],\"xaxis\":\"x\",\"y\":[\"Mid\"],\"yaxis\":\"y\",\"type\":\"scatter\"},{\"hovertemplate\":\"<b>%{hovertext}</b><br><br>job_title=Director of Data Science<br>work_year=2020<br>salary_in_usd=%{marker.size}<br>experience_level=%{y}<extra></extra>\",\"hovertext\":[\"Director of Data Science\"],\"legendgroup\":\"Director of Data Science\",\"marker\":{\"color\":\"rgb(139, 224, 164)\",\"size\":[325000],\"sizemode\":\"area\",\"sizeref\":1500.0,\"symbol\":\"circle\"},\"mode\":\"markers\",\"name\":\"Director of Data Science\",\"orientation\":\"h\",\"showlegend\":true,\"x\":[325000],\"xaxis\":\"x\",\"y\":[\"Executive\"],\"yaxis\":\"y\",\"type\":\"scatter\"},{\"hovertemplate\":\"<b>%{hovertext}</b><br><br>job_title=Research Scientist<br>work_year=2020<br>salary_in_usd=%{marker.size}<br>experience_level=%{y}<extra></extra>\",\"hovertext\":[\"Research Scientist\",\"Research Scientist\"],\"legendgroup\":\"Research Scientist\",\"marker\":{\"color\":\"rgb(201, 219, 116)\",\"size\":[42000,450000],\"sizemode\":\"area\",\"sizeref\":1500.0,\"symbol\":\"circle\"},\"mode\":\"markers\",\"name\":\"Research Scientist\",\"orientation\":\"h\",\"showlegend\":true,\"x\":[42000,450000],\"xaxis\":\"x\",\"y\":[\"Entry\",\"Mid\"],\"yaxis\":\"y\",\"type\":\"scatter\"},{\"hovertemplate\":\"<b>%{hovertext}</b><br><br>job_title=Machine Learning Manager<br>work_year=2020<br>salary_in_usd=%{marker.size}<br>experience_level=%{y}<extra></extra>\",\"hovertext\":[\"Machine Learning Manager\"],\"legendgroup\":\"Machine Learning Manager\",\"marker\":{\"color\":\"rgb(254, 136, 177)\",\"size\":[117104],\"sizemode\":\"area\",\"sizeref\":1500.0,\"symbol\":\"circle\"},\"mode\":\"markers\",\"name\":\"Machine Learning Manager\",\"orientation\":\"h\",\"showlegend\":true,\"x\":[117104],\"xaxis\":\"x\",\"y\":[\"Senior\"],\"yaxis\":\"y\",\"type\":\"scatter\"},{\"hovertemplate\":\"<b>%{hovertext}</b><br><br>job_title=Data Engineering Manager<br>work_year=2020<br>salary_in_usd=%{marker.size}<br>experience_level=%{y}<extra></extra>\",\"hovertext\":[\"Data Engineering Manager\",\"Data Engineering Manager\"],\"legendgroup\":\"Data Engineering Manager\",\"marker\":{\"color\":\"rgb(158, 185, 243)\",\"size\":[59303,79833],\"sizemode\":\"area\",\"sizeref\":1500.0,\"symbol\":\"circle\"},\"mode\":\"markers\",\"name\":\"Data Engineering Manager\",\"orientation\":\"h\",\"showlegend\":true,\"x\":[59303,79833],\"xaxis\":\"x\",\"y\":[\"Mid\",\"Executive\"],\"yaxis\":\"y\",\"type\":\"scatter\"},{\"hovertemplate\":\"<b>%{hovertext}</b><br><br>job_title=Machine Learning Infrastructure Engineer<br>work_year=2020<br>salary_in_usd=%{marker.size}<br>experience_level=%{y}<extra></extra>\",\"hovertext\":[\"Machine Learning Infrastructure Engineer\"],\"legendgroup\":\"Machine Learning Infrastructure Engineer\",\"marker\":{\"color\":\"rgb(135, 197, 95)\",\"size\":[50180],\"sizemode\":\"area\",\"sizeref\":1500.0,\"symbol\":\"circle\"},\"mode\":\"markers\",\"name\":\"Machine Learning Infrastructure Engineer\",\"orientation\":\"h\",\"showlegend\":true,\"x\":[50180],\"xaxis\":\"x\",\"y\":[\"Mid\"],\"yaxis\":\"y\",\"type\":\"scatter\"},{\"hovertemplate\":\"<b>%{hovertext}</b><br><br>job_title=ML Engineer<br>work_year=2020<br>salary_in_usd=%{marker.size}<br>experience_level=%{y}<extra></extra>\",\"hovertext\":[\"ML Engineer\"],\"legendgroup\":\"ML Engineer\",\"marker\":{\"color\":\"rgb(220, 176, 242)\",\"size\":[15966],\"sizemode\":\"area\",\"sizeref\":1500.0,\"symbol\":\"circle\"},\"mode\":\"markers\",\"name\":\"ML Engineer\",\"orientation\":\"h\",\"showlegend\":true,\"x\":[15966],\"xaxis\":\"x\",\"y\":[\"Entry\"],\"yaxis\":\"y\",\"type\":\"scatter\"},{\"hovertemplate\":\"<b>%{hovertext}</b><br><br>job_title=AI Scientist<br>work_year=2020<br>salary_in_usd=%{marker.size}<br>experience_level=%{y}<extra></extra>\",\"hovertext\":[\"AI Scientist\"],\"legendgroup\":\"AI Scientist\",\"marker\":{\"color\":\"rgb(248, 156, 116)\",\"size\":[45896],\"sizemode\":\"area\",\"sizeref\":1500.0,\"symbol\":\"circle\"},\"mode\":\"markers\",\"name\":\"AI Scientist\",\"orientation\":\"h\",\"showlegend\":true,\"x\":[45896],\"xaxis\":\"x\",\"y\":[\"Entry\"],\"yaxis\":\"y\",\"type\":\"scatter\"},{\"hovertemplate\":\"<b>%{hovertext}</b><br><br>job_title=Computer Vision Engineer<br>work_year=2020<br>salary_in_usd=%{marker.size}<br>experience_level=%{y}<extra></extra>\",\"hovertext\":[\"Computer Vision Engineer\"],\"legendgroup\":\"Computer Vision Engineer\",\"marker\":{\"color\":\"rgb(246, 207, 113)\",\"size\":[60000],\"sizemode\":\"area\",\"sizeref\":1500.0,\"symbol\":\"circle\"},\"mode\":\"markers\",\"name\":\"Computer Vision Engineer\",\"orientation\":\"h\",\"showlegend\":true,\"x\":[60000],\"xaxis\":\"x\",\"y\":[\"Senior\"],\"yaxis\":\"y\",\"type\":\"scatter\"},{\"hovertemplate\":\"<b>%{hovertext}</b><br><br>job_title=Principal Data Scientist<br>work_year=2020<br>salary_in_usd=%{marker.size}<br>experience_level=%{y}<extra></extra>\",\"hovertext\":[\"Principal Data Scientist\"],\"legendgroup\":\"Principal Data Scientist\",\"marker\":{\"color\":\"rgb(102, 197, 204)\",\"size\":[148261],\"sizemode\":\"area\",\"sizeref\":1500.0,\"symbol\":\"circle\"},\"mode\":\"markers\",\"name\":\"Principal Data Scientist\",\"orientation\":\"h\",\"showlegend\":true,\"x\":[148261],\"xaxis\":\"x\",\"y\":[\"Senior\"],\"yaxis\":\"y\",\"type\":\"scatter\"},{\"hovertemplate\":\"<b>%{hovertext}</b><br><br>job_title=Data Science Manager<br>work_year=2020<br>salary_in_usd=%{marker.size}<br>experience_level=%{y}<extra></extra>\",\"hovertext\":[\"Data Science Manager\"],\"legendgroup\":\"Data Science Manager\",\"marker\":{\"color\":\"rgb(179, 179, 179)\",\"size\":[190200],\"sizemode\":\"area\",\"sizeref\":1500.0,\"symbol\":\"circle\"},\"mode\":\"markers\",\"name\":\"Data Science Manager\",\"orientation\":\"h\",\"showlegend\":true,\"x\":[190200],\"xaxis\":\"x\",\"y\":[\"Senior\"],\"yaxis\":\"y\",\"type\":\"scatter\"}],                        {\"template\":{\"data\":{\"barpolar\":[{\"marker\":{\"line\":{\"color\":\"rgb(17,17,17)\",\"width\":0.5},\"pattern\":{\"fillmode\":\"overlay\",\"size\":10,\"solidity\":0.2}},\"type\":\"barpolar\"}],\"bar\":[{\"error_x\":{\"color\":\"#f2f5fa\"},\"error_y\":{\"color\":\"#f2f5fa\"},\"marker\":{\"line\":{\"color\":\"rgb(17,17,17)\",\"width\":0.5},\"pattern\":{\"fillmode\":\"overlay\",\"size\":10,\"solidity\":0.2}},\"type\":\"bar\"}],\"carpet\":[{\"aaxis\":{\"endlinecolor\":\"#A2B1C6\",\"gridcolor\":\"#506784\",\"linecolor\":\"#506784\",\"minorgridcolor\":\"#506784\",\"startlinecolor\":\"#A2B1C6\"},\"baxis\":{\"endlinecolor\":\"#A2B1C6\",\"gridcolor\":\"#506784\",\"linecolor\":\"#506784\",\"minorgridcolor\":\"#506784\",\"startlinecolor\":\"#A2B1C6\"},\"type\":\"carpet\"}],\"choropleth\":[{\"colorbar\":{\"outlinewidth\":0,\"ticks\":\"\"},\"type\":\"choropleth\"}],\"contourcarpet\":[{\"colorbar\":{\"outlinewidth\":0,\"ticks\":\"\"},\"type\":\"contourcarpet\"}],\"contour\":[{\"colorbar\":{\"outlinewidth\":0,\"ticks\":\"\"},\"colorscale\":[[0.0,\"#0d0887\"],[0.1111111111111111,\"#46039f\"],[0.2222222222222222,\"#7201a8\"],[0.3333333333333333,\"#9c179e\"],[0.4444444444444444,\"#bd3786\"],[0.5555555555555556,\"#d8576b\"],[0.6666666666666666,\"#ed7953\"],[0.7777777777777778,\"#fb9f3a\"],[0.8888888888888888,\"#fdca26\"],[1.0,\"#f0f921\"]],\"type\":\"contour\"}],\"heatmapgl\":[{\"colorbar\":{\"outlinewidth\":0,\"ticks\":\"\"},\"colorscale\":[[0.0,\"#0d0887\"],[0.1111111111111111,\"#46039f\"],[0.2222222222222222,\"#7201a8\"],[0.3333333333333333,\"#9c179e\"],[0.4444444444444444,\"#bd3786\"],[0.5555555555555556,\"#d8576b\"],[0.6666666666666666,\"#ed7953\"],[0.7777777777777778,\"#fb9f3a\"],[0.8888888888888888,\"#fdca26\"],[1.0,\"#f0f921\"]],\"type\":\"heatmapgl\"}],\"heatmap\":[{\"colorbar\":{\"outlinewidth\":0,\"ticks\":\"\"},\"colorscale\":[[0.0,\"#0d0887\"],[0.1111111111111111,\"#46039f\"],[0.2222222222222222,\"#7201a8\"],[0.3333333333333333,\"#9c179e\"],[0.4444444444444444,\"#bd3786\"],[0.5555555555555556,\"#d8576b\"],[0.6666666666666666,\"#ed7953\"],[0.7777777777777778,\"#fb9f3a\"],[0.8888888888888888,\"#fdca26\"],[1.0,\"#f0f921\"]],\"type\":\"heatmap\"}],\"histogram2dcontour\":[{\"colorbar\":{\"outlinewidth\":0,\"ticks\":\"\"},\"colorscale\":[[0.0,\"#0d0887\"],[0.1111111111111111,\"#46039f\"],[0.2222222222222222,\"#7201a8\"],[0.3333333333333333,\"#9c179e\"],[0.4444444444444444,\"#bd3786\"],[0.5555555555555556,\"#d8576b\"],[0.6666666666666666,\"#ed7953\"],[0.7777777777777778,\"#fb9f3a\"],[0.8888888888888888,\"#fdca26\"],[1.0,\"#f0f921\"]],\"type\":\"histogram2dcontour\"}],\"histogram2d\":[{\"colorbar\":{\"outlinewidth\":0,\"ticks\":\"\"},\"colorscale\":[[0.0,\"#0d0887\"],[0.1111111111111111,\"#46039f\"],[0.2222222222222222,\"#7201a8\"],[0.3333333333333333,\"#9c179e\"],[0.4444444444444444,\"#bd3786\"],[0.5555555555555556,\"#d8576b\"],[0.6666666666666666,\"#ed7953\"],[0.7777777777777778,\"#fb9f3a\"],[0.8888888888888888,\"#fdca26\"],[1.0,\"#f0f921\"]],\"type\":\"histogram2d\"}],\"histogram\":[{\"marker\":{\"pattern\":{\"fillmode\":\"overlay\",\"size\":10,\"solidity\":0.2}},\"type\":\"histogram\"}],\"mesh3d\":[{\"colorbar\":{\"outlinewidth\":0,\"ticks\":\"\"},\"type\":\"mesh3d\"}],\"parcoords\":[{\"line\":{\"colorbar\":{\"outlinewidth\":0,\"ticks\":\"\"}},\"type\":\"parcoords\"}],\"pie\":[{\"automargin\":true,\"type\":\"pie\"}],\"scatter3d\":[{\"line\":{\"colorbar\":{\"outlinewidth\":0,\"ticks\":\"\"}},\"marker\":{\"colorbar\":{\"outlinewidth\":0,\"ticks\":\"\"}},\"type\":\"scatter3d\"}],\"scattercarpet\":[{\"marker\":{\"colorbar\":{\"outlinewidth\":0,\"ticks\":\"\"}},\"type\":\"scattercarpet\"}],\"scattergeo\":[{\"marker\":{\"colorbar\":{\"outlinewidth\":0,\"ticks\":\"\"}},\"type\":\"scattergeo\"}],\"scattergl\":[{\"marker\":{\"line\":{\"color\":\"#283442\"}},\"type\":\"scattergl\"}],\"scattermapbox\":[{\"marker\":{\"colorbar\":{\"outlinewidth\":0,\"ticks\":\"\"}},\"type\":\"scattermapbox\"}],\"scatterpolargl\":[{\"marker\":{\"colorbar\":{\"outlinewidth\":0,\"ticks\":\"\"}},\"type\":\"scatterpolargl\"}],\"scatterpolar\":[{\"marker\":{\"colorbar\":{\"outlinewidth\":0,\"ticks\":\"\"}},\"type\":\"scatterpolar\"}],\"scatter\":[{\"marker\":{\"line\":{\"color\":\"#283442\"}},\"type\":\"scatter\"}],\"scatterternary\":[{\"marker\":{\"colorbar\":{\"outlinewidth\":0,\"ticks\":\"\"}},\"type\":\"scatterternary\"}],\"surface\":[{\"colorbar\":{\"outlinewidth\":0,\"ticks\":\"\"},\"colorscale\":[[0.0,\"#0d0887\"],[0.1111111111111111,\"#46039f\"],[0.2222222222222222,\"#7201a8\"],[0.3333333333333333,\"#9c179e\"],[0.4444444444444444,\"#bd3786\"],[0.5555555555555556,\"#d8576b\"],[0.6666666666666666,\"#ed7953\"],[0.7777777777777778,\"#fb9f3a\"],[0.8888888888888888,\"#fdca26\"],[1.0,\"#f0f921\"]],\"type\":\"surface\"}],\"table\":[{\"cells\":{\"fill\":{\"color\":\"#506784\"},\"line\":{\"color\":\"rgb(17,17,17)\"}},\"header\":{\"fill\":{\"color\":\"#2a3f5f\"},\"line\":{\"color\":\"rgb(17,17,17)\"}},\"type\":\"table\"}]},\"layout\":{\"annotationdefaults\":{\"arrowcolor\":\"#f2f5fa\",\"arrowhead\":0,\"arrowwidth\":1},\"autotypenumbers\":\"strict\",\"coloraxis\":{\"colorbar\":{\"outlinewidth\":0,\"ticks\":\"\"}},\"colorscale\":{\"diverging\":[[0,\"#8e0152\"],[0.1,\"#c51b7d\"],[0.2,\"#de77ae\"],[0.3,\"#f1b6da\"],[0.4,\"#fde0ef\"],[0.5,\"#f7f7f7\"],[0.6,\"#e6f5d0\"],[0.7,\"#b8e186\"],[0.8,\"#7fbc41\"],[0.9,\"#4d9221\"],[1,\"#276419\"]],\"sequential\":[[0.0,\"#0d0887\"],[0.1111111111111111,\"#46039f\"],[0.2222222222222222,\"#7201a8\"],[0.3333333333333333,\"#9c179e\"],[0.4444444444444444,\"#bd3786\"],[0.5555555555555556,\"#d8576b\"],[0.6666666666666666,\"#ed7953\"],[0.7777777777777778,\"#fb9f3a\"],[0.8888888888888888,\"#fdca26\"],[1.0,\"#f0f921\"]],\"sequentialminus\":[[0.0,\"#0d0887\"],[0.1111111111111111,\"#46039f\"],[0.2222222222222222,\"#7201a8\"],[0.3333333333333333,\"#9c179e\"],[0.4444444444444444,\"#bd3786\"],[0.5555555555555556,\"#d8576b\"],[0.6666666666666666,\"#ed7953\"],[0.7777777777777778,\"#fb9f3a\"],[0.8888888888888888,\"#fdca26\"],[1.0,\"#f0f921\"]]},\"colorway\":[\"#636efa\",\"#EF553B\",\"#00cc96\",\"#ab63fa\",\"#FFA15A\",\"#19d3f3\",\"#FF6692\",\"#B6E880\",\"#FF97FF\",\"#FECB52\"],\"font\":{\"color\":\"#f2f5fa\"},\"geo\":{\"bgcolor\":\"rgb(17,17,17)\",\"lakecolor\":\"rgb(17,17,17)\",\"landcolor\":\"rgb(17,17,17)\",\"showlakes\":true,\"showland\":true,\"subunitcolor\":\"#506784\"},\"hoverlabel\":{\"align\":\"left\"},\"hovermode\":\"closest\",\"mapbox\":{\"style\":\"dark\"},\"paper_bgcolor\":\"rgb(17,17,17)\",\"plot_bgcolor\":\"rgb(17,17,17)\",\"polar\":{\"angularaxis\":{\"gridcolor\":\"#506784\",\"linecolor\":\"#506784\",\"ticks\":\"\"},\"bgcolor\":\"rgb(17,17,17)\",\"radialaxis\":{\"gridcolor\":\"#506784\",\"linecolor\":\"#506784\",\"ticks\":\"\"}},\"scene\":{\"xaxis\":{\"backgroundcolor\":\"rgb(17,17,17)\",\"gridcolor\":\"#506784\",\"gridwidth\":2,\"linecolor\":\"#506784\",\"showbackground\":true,\"ticks\":\"\",\"zerolinecolor\":\"#C8D4E3\"},\"yaxis\":{\"backgroundcolor\":\"rgb(17,17,17)\",\"gridcolor\":\"#506784\",\"gridwidth\":2,\"linecolor\":\"#506784\",\"showbackground\":true,\"ticks\":\"\",\"zerolinecolor\":\"#C8D4E3\"},\"zaxis\":{\"backgroundcolor\":\"rgb(17,17,17)\",\"gridcolor\":\"#506784\",\"gridwidth\":2,\"linecolor\":\"#506784\",\"showbackground\":true,\"ticks\":\"\",\"zerolinecolor\":\"#C8D4E3\"}},\"shapedefaults\":{\"line\":{\"color\":\"#f2f5fa\"}},\"sliderdefaults\":{\"bgcolor\":\"#C8D4E3\",\"bordercolor\":\"rgb(17,17,17)\",\"borderwidth\":1,\"tickwidth\":0},\"ternary\":{\"aaxis\":{\"gridcolor\":\"#506784\",\"linecolor\":\"#506784\",\"ticks\":\"\"},\"baxis\":{\"gridcolor\":\"#506784\",\"linecolor\":\"#506784\",\"ticks\":\"\"},\"bgcolor\":\"rgb(17,17,17)\",\"caxis\":{\"gridcolor\":\"#506784\",\"linecolor\":\"#506784\",\"ticks\":\"\"}},\"title\":{\"x\":0.05},\"updatemenudefaults\":{\"bgcolor\":\"#506784\",\"borderwidth\":0},\"xaxis\":{\"automargin\":true,\"gridcolor\":\"#283442\",\"linecolor\":\"#506784\",\"ticks\":\"\",\"title\":{\"standoff\":15},\"zerolinecolor\":\"#283442\",\"zerolinewidth\":2},\"yaxis\":{\"automargin\":true,\"gridcolor\":\"#283442\",\"linecolor\":\"#506784\",\"ticks\":\"\",\"title\":{\"standoff\":15},\"zerolinecolor\":\"#283442\",\"zerolinewidth\":2}}},\"xaxis\":{\"anchor\":\"y\",\"domain\":[0.0,1.0],\"title\":{\"text\":\"salary_in_usd\"}},\"yaxis\":{\"anchor\":\"x\",\"domain\":[0.0,1.0],\"title\":{\"text\":\"experience_level\"},\"categoryarray\":[\"Entry\",\"Mid\",\"Senior\",\"Executive\"]},\"legend\":{\"title\":{\"text\":\"job_title\"},\"tracegroupgap\":0,\"itemsizing\":\"constant\"},\"title\":{\"text\":\"Experience and Money\"},\"updatemenus\":[{\"buttons\":[{\"args\":[null,{\"frame\":{\"duration\":500,\"redraw\":false},\"mode\":\"immediate\",\"fromcurrent\":true,\"transition\":{\"duration\":500,\"easing\":\"linear\"}}],\"label\":\"&#9654;\",\"method\":\"animate\"},{\"args\":[[null],{\"frame\":{\"duration\":0,\"redraw\":false},\"mode\":\"immediate\",\"fromcurrent\":true,\"transition\":{\"duration\":0,\"easing\":\"linear\"}}],\"label\":\"&#9724;\",\"method\":\"animate\"}],\"direction\":\"left\",\"pad\":{\"r\":10,\"t\":70},\"showactive\":false,\"type\":\"buttons\",\"x\":0.1,\"xanchor\":\"right\",\"y\":0,\"yanchor\":\"top\"}],\"sliders\":[{\"active\":0,\"currentvalue\":{\"prefix\":\"work_year=\"},\"len\":0.9,\"pad\":{\"b\":10,\"t\":60},\"steps\":[{\"args\":[[\"2020\"],{\"frame\":{\"duration\":0,\"redraw\":false},\"mode\":\"immediate\",\"fromcurrent\":true,\"transition\":{\"duration\":0,\"easing\":\"linear\"}}],\"label\":\"2020\",\"method\":\"animate\"},{\"args\":[[\"2021\"],{\"frame\":{\"duration\":0,\"redraw\":false},\"mode\":\"immediate\",\"fromcurrent\":true,\"transition\":{\"duration\":0,\"easing\":\"linear\"}}],\"label\":\"2021\",\"method\":\"animate\"},{\"args\":[[\"2022\"],{\"frame\":{\"duration\":0,\"redraw\":false},\"mode\":\"immediate\",\"fromcurrent\":true,\"transition\":{\"duration\":0,\"easing\":\"linear\"}}],\"label\":\"2022\",\"method\":\"animate\"}],\"x\":0.1,\"xanchor\":\"left\",\"y\":0,\"yanchor\":\"top\"}]},                        {\"responsive\": true}                    ).then(function(){\n",
              "                            Plotly.addFrames('f9842ba1-15a4-49c7-87d4-0ccbea81fa85', [{\"data\":[{\"hovertemplate\":\"<b>%{hovertext}</b><br><br>job_title=Data Scientist<br>work_year=2020<br>salary_in_usd=%{marker.size}<br>experience_level=%{y}<extra></extra>\",\"hovertext\":[\"Data Scientist\",\"Data Scientist\",\"Data Scientist\",\"Data Scientist\",\"Data Scientist\",\"Data Scientist\",\"Data Scientist\",\"Data Scientist\",\"Data Scientist\",\"Data Scientist\",\"Data Scientist\",\"Data Scientist\",\"Data Scientist\",\"Data Scientist\",\"Data Scientist\",\"Data Scientist\",\"Data Scientist\",\"Data Scientist\",\"Data Scientist\",\"Data Scientist\",\"Data Scientist\"],\"legendgroup\":\"Data Scientist\",\"marker\":{\"color\":\"rgb(179, 179, 179)\",\"size\":[79833,35735,51321,40481,39916,68428,45760,76958,105000,38776,118000,120000,138350,21669,412000,62726,49268,105000,91237,62726,42197],\"sizemode\":\"area\",\"sizeref\":1500.0,\"symbol\":\"circle\"},\"mode\":\"markers\",\"name\":\"Data Scientist\",\"orientation\":\"h\",\"showlegend\":true,\"x\":[79833,35735,51321,40481,39916,68428,45760,76958,105000,38776,118000,120000,138350,21669,412000,62726,49268,105000,91237,62726,42197],\"xaxis\":\"x\",\"y\":[\"Mid\",\"Mid\",\"Entry\",\"Mid\",\"Entry\",\"Senior\",\"Mid\",\"Mid\",\"Mid\",\"Mid\",\"Mid\",\"Senior\",\"Mid\",\"Entry\",\"Senior\",\"Entry\",\"Entry\",\"Entry\",\"Senior\",\"Mid\",\"Mid\"],\"yaxis\":\"y\",\"type\":\"scatter\"},{\"hovertemplate\":\"<b>%{hovertext}</b><br><br>job_title=Machine Learning Scientist<br>work_year=2020<br>salary_in_usd=%{marker.size}<br>experience_level=%{y}<extra></extra>\",\"hovertext\":[\"Machine Learning Scientist\"],\"legendgroup\":\"Machine Learning Scientist\",\"marker\":{\"color\":\"rgb(180, 151, 231)\",\"size\":[260000],\"sizemode\":\"area\",\"sizeref\":1500.0,\"symbol\":\"circle\"},\"mode\":\"markers\",\"name\":\"Machine Learning Scientist\",\"orientation\":\"h\",\"showlegend\":true,\"x\":[260000],\"xaxis\":\"x\",\"y\":[\"Senior\"],\"yaxis\":\"y\",\"type\":\"scatter\"},{\"hovertemplate\":\"<b>%{hovertext}</b><br><br>job_title=Big Data Engineer<br>work_year=2020<br>salary_in_usd=%{marker.size}<br>experience_level=%{y}<extra></extra>\",\"hovertext\":[\"Big Data Engineer\",\"Big Data Engineer\",\"Big Data Engineer\"],\"legendgroup\":\"Big Data Engineer\",\"marker\":{\"color\":\"rgb(139, 224, 164)\",\"size\":[109024,114047,70000],\"sizemode\":\"area\",\"sizeref\":1500.0,\"symbol\":\"circle\"},\"mode\":\"markers\",\"name\":\"Big Data Engineer\",\"orientation\":\"h\",\"showlegend\":true,\"x\":[109024,114047,70000],\"xaxis\":\"x\",\"y\":[\"Senior\",\"Senior\",\"Entry\"],\"yaxis\":\"y\",\"type\":\"scatter\"},{\"hovertemplate\":\"<b>%{hovertext}</b><br><br>job_title=Product Data Analyst<br>work_year=2020<br>salary_in_usd=%{marker.size}<br>experience_level=%{y}<extra></extra>\",\"hovertext\":[\"Product Data Analyst\",\"Product Data Analyst\"],\"legendgroup\":\"Product Data Analyst\",\"marker\":{\"color\":\"rgb(201, 219, 116)\",\"size\":[20000,6072],\"sizemode\":\"area\",\"sizeref\":1500.0,\"symbol\":\"circle\"},\"mode\":\"markers\",\"name\":\"Product Data Analyst\",\"orientation\":\"h\",\"showlegend\":true,\"x\":[20000,6072],\"xaxis\":\"x\",\"y\":[\"Mid\",\"Mid\"],\"yaxis\":\"y\",\"type\":\"scatter\"},{\"hovertemplate\":\"<b>%{hovertext}</b><br><br>job_title=Machine Learning Engineer<br>work_year=2020<br>salary_in_usd=%{marker.size}<br>experience_level=%{y}<extra></extra>\",\"hovertext\":[\"Machine Learning Engineer\",\"Machine Learning Engineer\",\"Machine Learning Engineer\",\"Machine Learning Engineer\",\"Machine Learning Engineer\"],\"legendgroup\":\"Machine Learning Engineer\",\"marker\":{\"color\":\"rgb(254, 136, 177)\",\"size\":[150000,43331,250000,138000,45618],\"sizemode\":\"area\",\"sizeref\":1500.0,\"symbol\":\"circle\"},\"mode\":\"markers\",\"name\":\"Machine Learning Engineer\",\"orientation\":\"h\",\"showlegend\":true,\"x\":[150000,43331,250000,138000,45618],\"xaxis\":\"x\",\"y\":[\"Senior\",\"Mid\",\"Entry\",\"Entry\",\"Senior\"],\"yaxis\":\"y\",\"type\":\"scatter\"},{\"hovertemplate\":\"<b>%{hovertext}</b><br><br>job_title=Data Analyst<br>work_year=2020<br>salary_in_usd=%{marker.size}<br>experience_level=%{y}<extra></extra>\",\"hovertext\":[\"Data Analyst\",\"Data Analyst\",\"Data Analyst\",\"Data Analyst\",\"Data Analyst\",\"Data Analyst\",\"Data Analyst\"],\"legendgroup\":\"Data Analyst\",\"marker\":{\"color\":\"rgb(158, 185, 243)\",\"size\":[72000,85000,8000,46759,10000,6072,91000],\"sizemode\":\"area\",\"sizeref\":1500.0,\"symbol\":\"circle\"},\"mode\":\"markers\",\"name\":\"Data Analyst\",\"orientation\":\"h\",\"showlegend\":true,\"x\":[72000,85000,8000,46759,10000,6072,91000],\"xaxis\":\"x\",\"y\":[\"Entry\",\"Mid\",\"Mid\",\"Mid\",\"Entry\",\"Entry\",\"Entry\"],\"yaxis\":\"y\",\"type\":\"scatter\"},{\"hovertemplate\":\"<b>%{hovertext}</b><br><br>job_title=Lead Data Scientist<br>work_year=2020<br>salary_in_usd=%{marker.size}<br>experience_level=%{y}<extra></extra>\",\"hovertext\":[\"Lead Data Scientist\",\"Lead Data Scientist\"],\"legendgroup\":\"Lead Data Scientist\",\"marker\":{\"color\":\"rgb(135, 197, 95)\",\"size\":[190000,115000],\"sizemode\":\"area\",\"sizeref\":1500.0,\"symbol\":\"circle\"},\"mode\":\"markers\",\"name\":\"Lead Data Scientist\",\"orientation\":\"h\",\"showlegend\":true,\"x\":[190000,115000],\"xaxis\":\"x\",\"y\":[\"Senior\",\"Mid\"],\"yaxis\":\"y\",\"type\":\"scatter\"},{\"hovertemplate\":\"<b>%{hovertext}</b><br><br>job_title=Business Data Analyst<br>work_year=2020<br>salary_in_usd=%{marker.size}<br>experience_level=%{y}<extra></extra>\",\"hovertext\":[\"Business Data Analyst\",\"Business Data Analyst\"],\"legendgroup\":\"Business Data Analyst\",\"marker\":{\"color\":\"rgb(220, 176, 242)\",\"size\":[135000,100000],\"sizemode\":\"area\",\"sizeref\":1500.0,\"symbol\":\"circle\"},\"mode\":\"markers\",\"name\":\"Business Data Analyst\",\"orientation\":\"h\",\"showlegend\":true,\"x\":[135000,100000],\"xaxis\":\"x\",\"y\":[\"Mid\",\"Entry\"],\"yaxis\":\"y\",\"type\":\"scatter\"},{\"hovertemplate\":\"<b>%{hovertext}</b><br><br>job_title=Lead Data Engineer<br>work_year=2020<br>salary_in_usd=%{marker.size}<br>experience_level=%{y}<extra></extra>\",\"hovertext\":[\"Lead Data Engineer\",\"Lead Data Engineer\"],\"legendgroup\":\"Lead Data Engineer\",\"marker\":{\"color\":\"rgb(248, 156, 116)\",\"size\":[125000,56000],\"sizemode\":\"area\",\"sizeref\":1500.0,\"symbol\":\"circle\"},\"mode\":\"markers\",\"name\":\"Lead Data Engineer\",\"orientation\":\"h\",\"showlegend\":true,\"x\":[125000,56000],\"xaxis\":\"x\",\"y\":[\"Senior\",\"Mid\"],\"yaxis\":\"y\",\"type\":\"scatter\"},{\"hovertemplate\":\"<b>%{hovertext}</b><br><br>job_title=Lead Data Analyst<br>work_year=2020<br>salary_in_usd=%{marker.size}<br>experience_level=%{y}<extra></extra>\",\"hovertext\":[\"Lead Data Analyst\"],\"legendgroup\":\"Lead Data Analyst\",\"marker\":{\"color\":\"rgb(246, 207, 113)\",\"size\":[87000],\"sizemode\":\"area\",\"sizeref\":1500.0,\"symbol\":\"circle\"},\"mode\":\"markers\",\"name\":\"Lead Data Analyst\",\"orientation\":\"h\",\"showlegend\":true,\"x\":[87000],\"xaxis\":\"x\",\"y\":[\"Mid\"],\"yaxis\":\"y\",\"type\":\"scatter\"},{\"hovertemplate\":\"<b>%{hovertext}</b><br><br>job_title=Data Engineer<br>work_year=2020<br>salary_in_usd=%{marker.size}<br>experience_level=%{y}<extra></extra>\",\"hovertext\":[\"Data Engineer\",\"Data Engineer\",\"Data Engineer\",\"Data Engineer\",\"Data Engineer\",\"Data Engineer\",\"Data Engineer\",\"Data Engineer\",\"Data Engineer\",\"Data Engineer\",\"Data Engineer\"],\"legendgroup\":\"Data Engineer\",\"marker\":{\"color\":\"rgb(102, 197, 204)\",\"size\":[41689,47899,33511,74130,106000,112872,188000,70139,54742,110000,130800],\"sizemode\":\"area\",\"sizeref\":1500.0,\"symbol\":\"circle\"},\"mode\":\"markers\",\"name\":\"Data Engineer\",\"orientation\":\"h\",\"showlegend\":true,\"x\":[41689,47899,33511,74130,106000,112872,188000,70139,54742,110000,130800],\"xaxis\":\"x\",\"y\":[\"Entry\",\"Senior\",\"Senior\",\"Mid\",\"Mid\",\"Mid\",\"Senior\",\"Mid\",\"Entry\",\"Mid\",\"Mid\"],\"yaxis\":\"y\",\"type\":\"scatter\"},{\"hovertemplate\":\"<b>%{hovertext}</b><br><br>job_title=Data Science Consultant<br>work_year=2020<br>salary_in_usd=%{marker.size}<br>experience_level=%{y}<extra></extra>\",\"hovertext\":[\"Data Science Consultant\",\"Data Science Consultant\"],\"legendgroup\":\"Data Science Consultant\",\"marker\":{\"color\":\"rgb(179, 179, 179)\",\"size\":[5707,103000],\"sizemode\":\"area\",\"sizeref\":1500.0,\"symbol\":\"circle\"},\"mode\":\"markers\",\"name\":\"Data Science Consultant\",\"orientation\":\"h\",\"showlegend\":true,\"x\":[5707,103000],\"xaxis\":\"x\",\"y\":[\"Entry\",\"Mid\"],\"yaxis\":\"y\",\"type\":\"scatter\"},{\"hovertemplate\":\"<b>%{hovertext}</b><br><br>job_title=BI Data Analyst<br>work_year=2020<br>salary_in_usd=%{marker.size}<br>experience_level=%{y}<extra></extra>\",\"hovertext\":[\"BI Data Analyst\"],\"legendgroup\":\"BI Data Analyst\",\"marker\":{\"color\":\"rgb(180, 151, 231)\",\"size\":[98000],\"sizemode\":\"area\",\"sizeref\":1500.0,\"symbol\":\"circle\"},\"mode\":\"markers\",\"name\":\"BI Data Analyst\",\"orientation\":\"h\",\"showlegend\":true,\"x\":[98000],\"xaxis\":\"x\",\"y\":[\"Mid\"],\"yaxis\":\"y\",\"type\":\"scatter\"},{\"hovertemplate\":\"<b>%{hovertext}</b><br><br>job_title=Director of Data Science<br>work_year=2020<br>salary_in_usd=%{marker.size}<br>experience_level=%{y}<extra></extra>\",\"hovertext\":[\"Director of Data Science\"],\"legendgroup\":\"Director of Data Science\",\"marker\":{\"color\":\"rgb(139, 224, 164)\",\"size\":[325000],\"sizemode\":\"area\",\"sizeref\":1500.0,\"symbol\":\"circle\"},\"mode\":\"markers\",\"name\":\"Director of Data Science\",\"orientation\":\"h\",\"showlegend\":true,\"x\":[325000],\"xaxis\":\"x\",\"y\":[\"Executive\"],\"yaxis\":\"y\",\"type\":\"scatter\"},{\"hovertemplate\":\"<b>%{hovertext}</b><br><br>job_title=Research Scientist<br>work_year=2020<br>salary_in_usd=%{marker.size}<br>experience_level=%{y}<extra></extra>\",\"hovertext\":[\"Research Scientist\",\"Research Scientist\"],\"legendgroup\":\"Research Scientist\",\"marker\":{\"color\":\"rgb(201, 219, 116)\",\"size\":[42000,450000],\"sizemode\":\"area\",\"sizeref\":1500.0,\"symbol\":\"circle\"},\"mode\":\"markers\",\"name\":\"Research Scientist\",\"orientation\":\"h\",\"showlegend\":true,\"x\":[42000,450000],\"xaxis\":\"x\",\"y\":[\"Entry\",\"Mid\"],\"yaxis\":\"y\",\"type\":\"scatter\"},{\"hovertemplate\":\"<b>%{hovertext}</b><br><br>job_title=Machine Learning Manager<br>work_year=2020<br>salary_in_usd=%{marker.size}<br>experience_level=%{y}<extra></extra>\",\"hovertext\":[\"Machine Learning Manager\"],\"legendgroup\":\"Machine Learning Manager\",\"marker\":{\"color\":\"rgb(254, 136, 177)\",\"size\":[117104],\"sizemode\":\"area\",\"sizeref\":1500.0,\"symbol\":\"circle\"},\"mode\":\"markers\",\"name\":\"Machine Learning Manager\",\"orientation\":\"h\",\"showlegend\":true,\"x\":[117104],\"xaxis\":\"x\",\"y\":[\"Senior\"],\"yaxis\":\"y\",\"type\":\"scatter\"},{\"hovertemplate\":\"<b>%{hovertext}</b><br><br>job_title=Data Engineering Manager<br>work_year=2020<br>salary_in_usd=%{marker.size}<br>experience_level=%{y}<extra></extra>\",\"hovertext\":[\"Data Engineering Manager\",\"Data Engineering Manager\"],\"legendgroup\":\"Data Engineering Manager\",\"marker\":{\"color\":\"rgb(158, 185, 243)\",\"size\":[59303,79833],\"sizemode\":\"area\",\"sizeref\":1500.0,\"symbol\":\"circle\"},\"mode\":\"markers\",\"name\":\"Data Engineering Manager\",\"orientation\":\"h\",\"showlegend\":true,\"x\":[59303,79833],\"xaxis\":\"x\",\"y\":[\"Mid\",\"Executive\"],\"yaxis\":\"y\",\"type\":\"scatter\"},{\"hovertemplate\":\"<b>%{hovertext}</b><br><br>job_title=Machine Learning Infrastructure Engineer<br>work_year=2020<br>salary_in_usd=%{marker.size}<br>experience_level=%{y}<extra></extra>\",\"hovertext\":[\"Machine Learning Infrastructure Engineer\"],\"legendgroup\":\"Machine Learning Infrastructure Engineer\",\"marker\":{\"color\":\"rgb(135, 197, 95)\",\"size\":[50180],\"sizemode\":\"area\",\"sizeref\":1500.0,\"symbol\":\"circle\"},\"mode\":\"markers\",\"name\":\"Machine Learning Infrastructure Engineer\",\"orientation\":\"h\",\"showlegend\":true,\"x\":[50180],\"xaxis\":\"x\",\"y\":[\"Mid\"],\"yaxis\":\"y\",\"type\":\"scatter\"},{\"hovertemplate\":\"<b>%{hovertext}</b><br><br>job_title=ML Engineer<br>work_year=2020<br>salary_in_usd=%{marker.size}<br>experience_level=%{y}<extra></extra>\",\"hovertext\":[\"ML Engineer\"],\"legendgroup\":\"ML Engineer\",\"marker\":{\"color\":\"rgb(220, 176, 242)\",\"size\":[15966],\"sizemode\":\"area\",\"sizeref\":1500.0,\"symbol\":\"circle\"},\"mode\":\"markers\",\"name\":\"ML Engineer\",\"orientation\":\"h\",\"showlegend\":true,\"x\":[15966],\"xaxis\":\"x\",\"y\":[\"Entry\"],\"yaxis\":\"y\",\"type\":\"scatter\"},{\"hovertemplate\":\"<b>%{hovertext}</b><br><br>job_title=AI Scientist<br>work_year=2020<br>salary_in_usd=%{marker.size}<br>experience_level=%{y}<extra></extra>\",\"hovertext\":[\"AI Scientist\"],\"legendgroup\":\"AI Scientist\",\"marker\":{\"color\":\"rgb(248, 156, 116)\",\"size\":[45896],\"sizemode\":\"area\",\"sizeref\":1500.0,\"symbol\":\"circle\"},\"mode\":\"markers\",\"name\":\"AI Scientist\",\"orientation\":\"h\",\"showlegend\":true,\"x\":[45896],\"xaxis\":\"x\",\"y\":[\"Entry\"],\"yaxis\":\"y\",\"type\":\"scatter\"},{\"hovertemplate\":\"<b>%{hovertext}</b><br><br>job_title=Computer Vision Engineer<br>work_year=2020<br>salary_in_usd=%{marker.size}<br>experience_level=%{y}<extra></extra>\",\"hovertext\":[\"Computer Vision Engineer\"],\"legendgroup\":\"Computer Vision Engineer\",\"marker\":{\"color\":\"rgb(246, 207, 113)\",\"size\":[60000],\"sizemode\":\"area\",\"sizeref\":1500.0,\"symbol\":\"circle\"},\"mode\":\"markers\",\"name\":\"Computer Vision Engineer\",\"orientation\":\"h\",\"showlegend\":true,\"x\":[60000],\"xaxis\":\"x\",\"y\":[\"Senior\"],\"yaxis\":\"y\",\"type\":\"scatter\"},{\"hovertemplate\":\"<b>%{hovertext}</b><br><br>job_title=Principal Data Scientist<br>work_year=2020<br>salary_in_usd=%{marker.size}<br>experience_level=%{y}<extra></extra>\",\"hovertext\":[\"Principal Data Scientist\"],\"legendgroup\":\"Principal Data Scientist\",\"marker\":{\"color\":\"rgb(102, 197, 204)\",\"size\":[148261],\"sizemode\":\"area\",\"sizeref\":1500.0,\"symbol\":\"circle\"},\"mode\":\"markers\",\"name\":\"Principal Data Scientist\",\"orientation\":\"h\",\"showlegend\":true,\"x\":[148261],\"xaxis\":\"x\",\"y\":[\"Senior\"],\"yaxis\":\"y\",\"type\":\"scatter\"},{\"hovertemplate\":\"<b>%{hovertext}</b><br><br>job_title=Data Science Manager<br>work_year=2020<br>salary_in_usd=%{marker.size}<br>experience_level=%{y}<extra></extra>\",\"hovertext\":[\"Data Science Manager\"],\"legendgroup\":\"Data Science Manager\",\"marker\":{\"color\":\"rgb(179, 179, 179)\",\"size\":[190200],\"sizemode\":\"area\",\"sizeref\":1500.0,\"symbol\":\"circle\"},\"mode\":\"markers\",\"name\":\"Data Science Manager\",\"orientation\":\"h\",\"showlegend\":true,\"x\":[190200],\"xaxis\":\"x\",\"y\":[\"Senior\"],\"yaxis\":\"y\",\"type\":\"scatter\"}],\"name\":\"2020\"},{\"data\":[{\"hovertemplate\":\"<b>%{hovertext}</b><br><br>job_title=Data Scientist<br>work_year=2021<br>salary_in_usd=%{marker.size}<br>experience_level=%{y}<extra></extra>\",\"hovertext\":[\"Data Scientist\",\"Data Scientist\",\"Data Scientist\",\"Data Scientist\",\"Data Scientist\",\"Data Scientist\",\"Data Scientist\",\"Data Scientist\",\"Data Scientist\",\"Data Scientist\",\"Data Scientist\",\"Data Scientist\",\"Data Scientist\",\"Data Scientist\",\"Data Scientist\",\"Data Scientist\",\"Data Scientist\",\"Data Scientist\",\"Data Scientist\",\"Data Scientist\",\"Data Scientist\",\"Data Scientist\",\"Data Scientist\",\"Data Scientist\",\"Data Scientist\",\"Data Scientist\",\"Data Scientist\",\"Data Scientist\",\"Data Scientist\",\"Data Scientist\",\"Data Scientist\",\"Data Scientist\",\"Data Scientist\",\"Data Scientist\",\"Data Scientist\",\"Data Scientist\",\"Data Scientist\",\"Data Scientist\",\"Data Scientist\",\"Data Scientist\",\"Data Scientist\",\"Data Scientist\",\"Data Scientist\",\"Data Scientist\",\"Data Scientist\"],\"legendgroup\":\"Data Scientist\",\"marker\":{\"color\":\"rgb(179, 179, 179)\",\"size\":[53192,29751,73000,50000,9466,49646,100000,80000,82500,150000,75774,13400,119059,2859,40038,5679,90734,147000,61467,37825,160000,12901,90734,116914,33808,56256,87738,88654,135000,46809,4000,103691,165000,36643,115000,90000,28399,130000,16904,25532,77684,100000,58000,20171,109000],\"sizemode\":\"area\",\"sizeref\":1500.0,\"symbol\":\"circle\"},\"mode\":\"markers\",\"name\":\"Data Scientist\",\"orientation\":\"h\",\"showlegend\":true,\"x\":[53192,29751,73000,50000,9466,49646,100000,80000,82500,150000,75774,13400,119059,2859,40038,5679,90734,147000,61467,37825,160000,12901,90734,116914,33808,56256,87738,88654,135000,46809,4000,103691,165000,36643,115000,90000,28399,130000,16904,25532,77684,100000,58000,20171,109000],\"xaxis\":\"x\",\"y\":[\"Senior\",\"Entry\",\"Mid\",\"Mid\",\"Mid\",\"Entry\",\"Entry\",\"Entry\",\"Mid\",\"Mid\",\"Mid\",\"Entry\",\"Mid\",\"Mid\",\"Mid\",\"Mid\",\"Mid\",\"Mid\",\"Mid\",\"Mid\",\"Mid\",\"Mid\",\"Mid\",\"Mid\",\"Mid\",\"Mid\",\"Senior\",\"Mid\",\"Senior\",\"Mid\",\"Entry\",\"Senior\",\"Senior\",\"Entry\",\"Mid\",\"Entry\",\"Entry\",\"Mid\",\"Mid\",\"Mid\",\"Senior\",\"Entry\",\"Entry\",\"Senior\",\"Mid\"],\"yaxis\":\"y\",\"type\":\"scatter\"},{\"hovertemplate\":\"<b>%{hovertext}</b><br><br>job_title=Machine Learning Scientist<br>work_year=2021<br>salary_in_usd=%{marker.size}<br>experience_level=%{y}<extra></extra>\",\"hovertext\":[\"Machine Learning Scientist\",\"Machine Learning Scientist\",\"Machine Learning Scientist\",\"Machine Learning Scientist\"],\"legendgroup\":\"Machine Learning Scientist\",\"marker\":{\"color\":\"rgb(180, 151, 231)\",\"size\":[225000,120000,12000,225000],\"sizemode\":\"area\",\"sizeref\":1500.0,\"symbol\":\"circle\"},\"mode\":\"markers\",\"name\":\"Machine Learning Scientist\",\"orientation\":\"h\",\"showlegend\":true,\"x\":[225000,120000,12000,225000],\"xaxis\":\"x\",\"y\":[\"Entry\",\"Senior\",\"Mid\",\"Senior\"],\"yaxis\":\"y\",\"type\":\"scatter\"},{\"hovertemplate\":\"<b>%{hovertext}</b><br><br>job_title=Big Data Engineer<br>work_year=2021<br>salary_in_usd=%{marker.size}<br>experience_level=%{y}<extra></extra>\",\"hovertext\":[\"Big Data Engineer\",\"Big Data Engineer\",\"Big Data Engineer\",\"Big Data Engineer\",\"Big Data Engineer\"],\"legendgroup\":\"Big Data Engineer\",\"marker\":{\"color\":\"rgb(139, 224, 164)\",\"size\":[60000,22611,18000,5882,16228],\"sizemode\":\"area\",\"sizeref\":1500.0,\"symbol\":\"circle\"},\"mode\":\"markers\",\"name\":\"Big Data Engineer\",\"orientation\":\"h\",\"showlegend\":true,\"x\":[60000,22611,18000,5882,16228],\"xaxis\":\"x\",\"y\":[\"Mid\",\"Mid\",\"Mid\",\"Entry\",\"Entry\"],\"yaxis\":\"y\",\"type\":\"scatter\"},{\"hovertemplate\":\"<b>%{hovertext}</b><br><br>job_title=Machine Learning Engineer<br>work_year=2021<br>salary_in_usd=%{marker.size}<br>experience_level=%{y}<extra></extra>\",\"hovertext\":[\"Machine Learning Engineer\",\"Machine Learning Engineer\",\"Machine Learning Engineer\",\"Machine Learning Engineer\",\"Machine Learning Engineer\",\"Machine Learning Engineer\",\"Machine Learning Engineer\",\"Machine Learning Engineer\",\"Machine Learning Engineer\",\"Machine Learning Engineer\",\"Machine Learning Engineer\",\"Machine Learning Engineer\",\"Machine Learning Engineer\",\"Machine Learning Engineer\",\"Machine Learning Engineer\",\"Machine Learning Engineer\",\"Machine Learning Engineer\",\"Machine Learning Engineer\"],\"legendgroup\":\"Machine Learning Engineer\",\"marker\":{\"color\":\"rgb(254, 136, 177)\",\"size\":[47282,94564,20000,82744,125000,81000,74000,21844,24342,200000,24823,24823,88654,46597,185000,66265,85000,51064],\"sizemode\":\"area\",\"sizeref\":1500.0,\"symbol\":\"circle\"},\"mode\":\"markers\",\"name\":\"Machine Learning Engineer\",\"orientation\":\"h\",\"showlegend\":true,\"x\":[47282,94564,20000,82744,125000,81000,74000,21844,24342,200000,24823,24823,88654,46597,185000,66265,85000,51064],\"xaxis\":\"x\",\"y\":[\"Mid\",\"Senior\",\"Entry\",\"Senior\",\"Entry\",\"Entry\",\"Mid\",\"Entry\",\"Senior\",\"Senior\",\"Mid\",\"Entry\",\"Mid\",\"Mid\",\"Senior\",\"Senior\",\"Entry\",\"Mid\"],\"yaxis\":\"y\",\"type\":\"scatter\"},{\"hovertemplate\":\"<b>%{hovertext}</b><br><br>job_title=Data Analyst<br>work_year=2021<br>salary_in_usd=%{marker.size}<br>experience_level=%{y}<extra></extra>\",\"hovertext\":[\"Data Analyst\",\"Data Analyst\",\"Data Analyst\",\"Data Analyst\",\"Data Analyst\",\"Data Analyst\",\"Data Analyst\",\"Data Analyst\",\"Data Analyst\",\"Data Analyst\",\"Data Analyst\",\"Data Analyst\",\"Data Analyst\",\"Data Analyst\",\"Data Analyst\",\"Data Analyst\",\"Data Analyst\"],\"legendgroup\":\"Data Analyst\",\"marker\":{\"color\":\"rgb(158, 185, 243)\",\"size\":[80000,59102,80000,75000,62000,51519,90000,50000,10354,90000,135000,60000,71786,200000,80000,93000,63831],\"sizemode\":\"area\",\"sizeref\":1500.0,\"symbol\":\"circle\"},\"mode\":\"markers\",\"name\":\"Data Analyst\",\"orientation\":\"h\",\"showlegend\":true,\"x\":[80000,59102,80000,75000,62000,51519,90000,50000,10354,90000,135000,60000,71786,200000,80000,93000,63831],\"xaxis\":\"x\",\"y\":[\"Entry\",\"Entry\",\"Senior\",\"Mid\",\"Mid\",\"Mid\",\"Entry\",\"Entry\",\"Entry\",\"Mid\",\"Mid\",\"Entry\",\"Senior\",\"Senior\",\"Mid\",\"Mid\",\"Senior\"],\"yaxis\":\"y\",\"type\":\"scatter\"},{\"hovertemplate\":\"<b>%{hovertext}</b><br><br>job_title=Lead Data Scientist<br>work_year=2021<br>salary_in_usd=%{marker.size}<br>experience_level=%{y}<extra></extra>\",\"hovertext\":[\"Lead Data Scientist\"],\"legendgroup\":\"Lead Data Scientist\",\"marker\":{\"color\":\"rgb(135, 197, 95)\",\"size\":[40570],\"sizemode\":\"area\",\"sizeref\":1500.0,\"symbol\":\"circle\"},\"mode\":\"markers\",\"name\":\"Lead Data Scientist\",\"orientation\":\"h\",\"showlegend\":true,\"x\":[40570],\"xaxis\":\"x\",\"y\":[\"Senior\"],\"yaxis\":\"y\",\"type\":\"scatter\"},{\"hovertemplate\":\"<b>%{hovertext}</b><br><br>job_title=Business Data Analyst<br>work_year=2021<br>salary_in_usd=%{marker.size}<br>experience_level=%{y}<extra></extra>\",\"hovertext\":[\"Business Data Analyst\"],\"legendgroup\":\"Business Data Analyst\",\"marker\":{\"color\":\"rgb(220, 176, 242)\",\"size\":[59102],\"sizemode\":\"area\",\"sizeref\":1500.0,\"symbol\":\"circle\"},\"mode\":\"markers\",\"name\":\"Business Data Analyst\",\"orientation\":\"h\",\"showlegend\":true,\"x\":[59102],\"xaxis\":\"x\",\"y\":[\"Entry\"],\"yaxis\":\"y\",\"type\":\"scatter\"},{\"hovertemplate\":\"<b>%{hovertext}</b><br><br>job_title=Lead Data Engineer<br>work_year=2021<br>salary_in_usd=%{marker.size}<br>experience_level=%{y}<extra></extra>\",\"hovertext\":[\"Lead Data Engineer\",\"Lead Data Engineer\",\"Lead Data Engineer\"],\"legendgroup\":\"Lead Data Engineer\",\"marker\":{\"color\":\"rgb(248, 156, 116)\",\"size\":[276000,103160,160000],\"sizemode\":\"area\",\"sizeref\":1500.0,\"symbol\":\"circle\"},\"mode\":\"markers\",\"name\":\"Lead Data Engineer\",\"orientation\":\"h\",\"showlegend\":true,\"x\":[276000,103160,160000],\"xaxis\":\"x\",\"y\":[\"Senior\",\"Senior\",\"Senior\"],\"yaxis\":\"y\",\"type\":\"scatter\"},{\"hovertemplate\":\"<b>%{hovertext}</b><br><br>job_title=Lead Data Analyst<br>work_year=2021<br>salary_in_usd=%{marker.size}<br>experience_level=%{y}<extra></extra>\",\"hovertext\":[\"Lead Data Analyst\",\"Lead Data Analyst\"],\"legendgroup\":\"Lead Data Analyst\",\"marker\":{\"color\":\"rgb(246, 207, 113)\",\"size\":[170000,19609],\"sizemode\":\"area\",\"sizeref\":1500.0,\"symbol\":\"circle\"},\"mode\":\"markers\",\"name\":\"Lead Data Analyst\",\"orientation\":\"h\",\"showlegend\":true,\"x\":[170000,19609],\"xaxis\":\"x\",\"y\":[\"Senior\",\"Mid\"],\"yaxis\":\"y\",\"type\":\"scatter\"},{\"hovertemplate\":\"<b>%{hovertext}</b><br><br>job_title=Data Engineer<br>work_year=2021<br>salary_in_usd=%{marker.size}<br>experience_level=%{y}<extra></extra>\",\"hovertext\":[\"Data Engineer\",\"Data Engineer\",\"Data Engineer\",\"Data Engineer\",\"Data Engineer\",\"Data Engineer\",\"Data Engineer\",\"Data Engineer\",\"Data Engineer\",\"Data Engineer\",\"Data Engineer\",\"Data Engineer\",\"Data Engineer\",\"Data Engineer\",\"Data Engineer\",\"Data Engineer\",\"Data Engineer\",\"Data Engineer\",\"Data Engineer\",\"Data Engineer\",\"Data Engineer\",\"Data Engineer\",\"Data Engineer\",\"Data Engineer\",\"Data Engineer\",\"Data Engineer\",\"Data Engineer\",\"Data Engineer\",\"Data Engineer\",\"Data Engineer\",\"Data Engineer\",\"Data Engineer\"],\"legendgroup\":\"Data Engineer\",\"marker\":{\"color\":\"rgb(102, 197, 204)\",\"size\":[140000,28476,150000,115000,150000,30428,45391,200000,100000,90000,28369,80000,82528,26005,4000,76833,165000,20000,66022,21637,110000,72212,12103,96282,200000,93150,111775,28016,65013,72500,112000,69741],\"sizemode\":\"area\",\"sizeref\":1500.0,\"symbol\":\"circle\"},\"mode\":\"markers\",\"name\":\"Data Engineer\",\"orientation\":\"h\",\"showlegend\":true,\"x\":[140000,28476,150000,115000,150000,30428,45391,200000,100000,90000,28369,80000,82528,26005,4000,76833,165000,20000,66022,21637,110000,72212,12103,96282,200000,93150,111775,28016,65013,72500,112000,69741],\"xaxis\":\"x\",\"y\":[\"Mid\",\"Mid\",\"Senior\",\"Senior\",\"Senior\",\"Entry\",\"Mid\",\"Mid\",\"Mid\",\"Mid\",\"Mid\",\"Entry\",\"Mid\",\"Mid\",\"Mid\",\"Senior\",\"Senior\",\"Mid\",\"Mid\",\"Entry\",\"Mid\",\"Mid\",\"Mid\",\"Senior\",\"Mid\",\"Mid\",\"Mid\",\"Mid\",\"Entry\",\"Entry\",\"Mid\",\"Mid\"],\"yaxis\":\"y\",\"type\":\"scatter\"},{\"hovertemplate\":\"<b>%{hovertext}</b><br><br>job_title=Data Science Consultant<br>work_year=2021<br>salary_in_usd=%{marker.size}<br>experience_level=%{y}<extra></extra>\",\"hovertext\":[\"Data Science Consultant\",\"Data Science Consultant\",\"Data Science Consultant\",\"Data Science Consultant\",\"Data Science Consultant\"],\"legendgroup\":\"Data Science Consultant\",\"marker\":{\"color\":\"rgb(179, 179, 179)\",\"size\":[76833,63831,69741,90000,76833],\"sizemode\":\"area\",\"sizeref\":1500.0,\"symbol\":\"circle\"},\"mode\":\"markers\",\"name\":\"Data Science Consultant\",\"orientation\":\"h\",\"showlegend\":true,\"x\":[76833,63831,69741,90000,76833],\"xaxis\":\"x\",\"y\":[\"Entry\",\"Entry\",\"Executive\",\"Entry\",\"Entry\"],\"yaxis\":\"y\",\"type\":\"scatter\"},{\"hovertemplate\":\"<b>%{hovertext}</b><br><br>job_title=BI Data Analyst<br>work_year=2021<br>salary_in_usd=%{marker.size}<br>experience_level=%{y}<extra></extra>\",\"hovertext\":[\"BI Data Analyst\",\"BI Data Analyst\",\"BI Data Analyst\",\"BI Data Analyst\",\"BI Data Analyst\"],\"legendgroup\":\"BI Data Analyst\",\"marker\":{\"color\":\"rgb(180, 151, 231)\",\"size\":[150000,100000,36259,55000,9272],\"sizemode\":\"area\",\"sizeref\":1500.0,\"symbol\":\"circle\"},\"mode\":\"markers\",\"name\":\"BI Data Analyst\",\"orientation\":\"h\",\"showlegend\":true,\"x\":[150000,100000,36259,55000,9272],\"xaxis\":\"x\",\"y\":[\"Executive\",\"Mid\",\"Mid\",\"Entry\",\"Entry\"],\"yaxis\":\"y\",\"type\":\"scatter\"},{\"hovertemplate\":\"<b>%{hovertext}</b><br><br>job_title=Director of Data Science<br>work_year=2021<br>salary_in_usd=%{marker.size}<br>experience_level=%{y}<extra></extra>\",\"hovertext\":[\"Director of Data Science\",\"Director of Data Science\",\"Director of Data Science\",\"Director of Data Science\",\"Director of Data Science\"],\"legendgroup\":\"Director of Data Science\",\"marker\":{\"color\":\"rgb(139, 224, 164)\",\"size\":[153667,168000,130026,250000,141846],\"sizemode\":\"area\",\"sizeref\":1500.0,\"symbol\":\"circle\"},\"mode\":\"markers\",\"name\":\"Director of Data Science\",\"orientation\":\"h\",\"showlegend\":true,\"x\":[153667,168000,130026,250000,141846],\"xaxis\":\"x\",\"y\":[\"Executive\",\"Senior\",\"Executive\",\"Executive\",\"Executive\"],\"yaxis\":\"y\",\"type\":\"scatter\"},{\"hovertemplate\":\"<b>%{hovertext}</b><br><br>job_title=Research Scientist<br>work_year=2021<br>salary_in_usd=%{marker.size}<br>experience_level=%{y}<extra></extra>\",\"hovertext\":[\"Research Scientist\",\"Research Scientist\",\"Research Scientist\",\"Research Scientist\",\"Research Scientist\",\"Research Scientist\",\"Research Scientist\",\"Research Scientist\",\"Research Scientist\",\"Research Scientist\"],\"legendgroup\":\"Research Scientist\",\"marker\":{\"color\":\"rgb(201, 219, 116)\",\"size\":[82528,187442,62649,60757,96113,50000,56738,63810,100000,69999],\"sizemode\":\"area\",\"sizeref\":1500.0,\"symbol\":\"circle\"},\"mode\":\"markers\",\"name\":\"Research Scientist\",\"orientation\":\"h\",\"showlegend\":true,\"x\":[82528,187442,62649,60757,96113,50000,56738,63810,100000,69999],\"xaxis\":\"x\",\"y\":[\"Entry\",\"Mid\",\"Mid\",\"Senior\",\"Senior\",\"Senior\",\"Mid\",\"Mid\",\"Entry\",\"Mid\"],\"yaxis\":\"y\",\"type\":\"scatter\"},{\"hovertemplate\":\"<b>%{hovertext}</b><br><br>job_title=Data Engineering Manager<br>work_year=2021<br>salary_in_usd=%{marker.size}<br>experience_level=%{y}<extra></extra>\",\"hovertext\":[\"Data Engineering Manager\",\"Data Engineering Manager\",\"Data Engineering Manager\"],\"legendgroup\":\"Data Engineering Manager\",\"marker\":{\"color\":\"rgb(158, 185, 243)\",\"size\":[150000,153000,174000],\"sizemode\":\"area\",\"sizeref\":1500.0,\"symbol\":\"circle\"},\"mode\":\"markers\",\"name\":\"Data Engineering Manager\",\"orientation\":\"h\",\"showlegend\":true,\"x\":[150000,153000,174000],\"xaxis\":\"x\",\"y\":[\"Senior\",\"Senior\",\"Senior\"],\"yaxis\":\"y\",\"type\":\"scatter\"},{\"hovertemplate\":\"<b>%{hovertext}</b><br><br>job_title=Machine Learning Infrastructure Engineer<br>work_year=2021<br>salary_in_usd=%{marker.size}<br>experience_level=%{y}<extra></extra>\",\"hovertext\":[\"Machine Learning Infrastructure Engineer\"],\"legendgroup\":\"Machine Learning Infrastructure Engineer\",\"marker\":{\"color\":\"rgb(135, 197, 95)\",\"size\":[195000],\"sizemode\":\"area\",\"sizeref\":1500.0,\"symbol\":\"circle\"},\"mode\":\"markers\",\"name\":\"Machine Learning Infrastructure Engineer\",\"orientation\":\"h\",\"showlegend\":true,\"x\":[195000],\"xaxis\":\"x\",\"y\":[\"Senior\"],\"yaxis\":\"y\",\"type\":\"scatter\"},{\"hovertemplate\":\"<b>%{hovertext}</b><br><br>job_title=ML Engineer<br>work_year=2021<br>salary_in_usd=%{marker.size}<br>experience_level=%{y}<extra></extra>\",\"hovertext\":[\"ML Engineer\",\"ML Engineer\",\"ML Engineer\",\"ML Engineer\"],\"legendgroup\":\"ML Engineer\",\"marker\":{\"color\":\"rgb(220, 176, 242)\",\"size\":[270000,63711,77364,256000],\"sizemode\":\"area\",\"sizeref\":1500.0,\"symbol\":\"circle\"},\"mode\":\"markers\",\"name\":\"ML Engineer\",\"orientation\":\"h\",\"showlegend\":true,\"x\":[270000,63711,77364,256000],\"xaxis\":\"x\",\"y\":[\"Mid\",\"Mid\",\"Mid\",\"Senior\"],\"yaxis\":\"y\",\"type\":\"scatter\"},{\"hovertemplate\":\"<b>%{hovertext}</b><br><br>job_title=AI Scientist<br>work_year=2021<br>salary_in_usd=%{marker.size}<br>experience_level=%{y}<extra></extra>\",\"hovertext\":[\"AI Scientist\",\"AI Scientist\",\"AI Scientist\",\"AI Scientist\"],\"legendgroup\":\"AI Scientist\",\"marker\":{\"color\":\"rgb(248, 156, 116)\",\"size\":[12000,12000,18053,55000],\"sizemode\":\"area\",\"sizeref\":1500.0,\"symbol\":\"circle\"},\"mode\":\"markers\",\"name\":\"AI Scientist\",\"orientation\":\"h\",\"showlegend\":true,\"x\":[12000,12000,18053,55000],\"xaxis\":\"x\",\"y\":[\"Entry\",\"Entry\",\"Entry\",\"Senior\"],\"yaxis\":\"y\",\"type\":\"scatter\"},{\"hovertemplate\":\"<b>%{hovertext}</b><br><br>job_title=Computer Vision Engineer<br>work_year=2021<br>salary_in_usd=%{marker.size}<br>experience_level=%{y}<extra></extra>\",\"hovertext\":[\"Computer Vision Engineer\",\"Computer Vision Engineer\",\"Computer Vision Engineer\"],\"legendgroup\":\"Computer Vision Engineer\",\"marker\":{\"color\":\"rgb(246, 207, 113)\",\"size\":[24000,28609,18907],\"sizemode\":\"area\",\"sizeref\":1500.0,\"symbol\":\"circle\"},\"mode\":\"markers\",\"name\":\"Computer Vision Engineer\",\"orientation\":\"h\",\"showlegend\":true,\"x\":[24000,28609,18907],\"xaxis\":\"x\",\"y\":[\"Senior\",\"Entry\",\"Senior\"],\"yaxis\":\"y\",\"type\":\"scatter\"},{\"hovertemplate\":\"<b>%{hovertext}</b><br><br>job_title=Principal Data Scientist<br>work_year=2021<br>salary_in_usd=%{marker.size}<br>experience_level=%{y}<extra></extra>\",\"hovertext\":[\"Principal Data Scientist\",\"Principal Data Scientist\",\"Principal Data Scientist\",\"Principal Data Scientist\",\"Principal Data Scientist\"],\"legendgroup\":\"Principal Data Scientist\",\"marker\":{\"color\":\"rgb(102, 197, 204)\",\"size\":[151000,220000,235000,416000,173762],\"sizemode\":\"area\",\"sizeref\":1500.0,\"symbol\":\"circle\"},\"mode\":\"markers\",\"name\":\"Principal Data Scientist\",\"orientation\":\"h\",\"showlegend\":true,\"x\":[151000,220000,235000,416000,173762],\"xaxis\":\"x\",\"y\":[\"Mid\",\"Senior\",\"Senior\",\"Executive\",\"Senior\"],\"yaxis\":\"y\",\"type\":\"scatter\"},{\"hovertemplate\":\"<b>%{hovertext}</b><br><br>job_title=Data Science Manager<br>work_year=2021<br>salary_in_usd=%{marker.size}<br>experience_level=%{y}<extra></extra>\",\"hovertext\":[\"Data Science Manager\",\"Data Science Manager\",\"Data Science Manager\",\"Data Science Manager\",\"Data Science Manager\",\"Data Science Manager\"],\"legendgroup\":\"Data Science Manager\",\"marker\":{\"color\":\"rgb(179, 179, 179)\",\"size\":[240000,144000,152000,174000,54094,94665],\"sizemode\":\"area\",\"sizeref\":1500.0,\"symbol\":\"circle\"},\"mode\":\"markers\",\"name\":\"Data Science Manager\",\"orientation\":\"h\",\"showlegend\":true,\"x\":[240000,144000,152000,174000,54094,94665],\"xaxis\":\"x\",\"y\":[\"Senior\",\"Senior\",\"Senior\",\"Senior\",\"Senior\",\"Senior\"],\"yaxis\":\"y\",\"type\":\"scatter\"},{\"hovertemplate\":\"<b>%{hovertext}</b><br><br>job_title=Head of Data<br>work_year=2021<br>salary_in_usd=%{marker.size}<br>experience_level=%{y}<extra></extra>\",\"hovertext\":[\"Head of Data\",\"Head of Data\",\"Head of Data\"],\"legendgroup\":\"Head of Data\",\"marker\":{\"color\":\"rgb(180, 151, 231)\",\"size\":[235000,230000,102839],\"sizemode\":\"area\",\"sizeref\":1500.0,\"symbol\":\"circle\"},\"mode\":\"markers\",\"name\":\"Head of Data\",\"orientation\":\"h\",\"showlegend\":true,\"x\":[235000,230000,102839],\"xaxis\":\"x\",\"y\":[\"Executive\",\"Executive\",\"Senior\"],\"yaxis\":\"y\",\"type\":\"scatter\"},{\"hovertemplate\":\"<b>%{hovertext}</b><br><br>job_title=3D Computer Vision Researcher<br>work_year=2021<br>salary_in_usd=%{marker.size}<br>experience_level=%{y}<extra></extra>\",\"hovertext\":[\"3D Computer Vision Researcher\"],\"legendgroup\":\"3D Computer Vision Researcher\",\"marker\":{\"color\":\"rgb(139, 224, 164)\",\"size\":[5409],\"sizemode\":\"area\",\"sizeref\":1500.0,\"symbol\":\"circle\"},\"mode\":\"markers\",\"name\":\"3D Computer Vision Researcher\",\"orientation\":\"h\",\"showlegend\":true,\"x\":[5409],\"xaxis\":\"x\",\"y\":[\"Mid\"],\"yaxis\":\"y\",\"type\":\"scatter\"},{\"hovertemplate\":\"<b>%{hovertext}</b><br><br>job_title=Data Analytics Engineer<br>work_year=2021<br>salary_in_usd=%{marker.size}<br>experience_level=%{y}<extra></extra>\",\"hovertext\":[\"Data Analytics Engineer\",\"Data Analytics Engineer\",\"Data Analytics Engineer\"],\"legendgroup\":\"Data Analytics Engineer\",\"marker\":{\"color\":\"rgb(201, 219, 116)\",\"size\":[79197,110000,50000],\"sizemode\":\"area\",\"sizeref\":1500.0,\"symbol\":\"circle\"},\"mode\":\"markers\",\"name\":\"Data Analytics Engineer\",\"orientation\":\"h\",\"showlegend\":true,\"x\":[79197,110000,50000],\"xaxis\":\"x\",\"y\":[\"Senior\",\"Mid\",\"Senior\"],\"yaxis\":\"y\",\"type\":\"scatter\"},{\"hovertemplate\":\"<b>%{hovertext}</b><br><br>job_title=Applied Data Scientist<br>work_year=2021<br>salary_in_usd=%{marker.size}<br>experience_level=%{y}<extra></extra>\",\"hovertext\":[\"Applied Data Scientist\",\"Applied Data Scientist\"],\"legendgroup\":\"Applied Data Scientist\",\"marker\":{\"color\":\"rgb(254, 136, 177)\",\"size\":[54238,110037],\"sizemode\":\"area\",\"sizeref\":1500.0,\"symbol\":\"circle\"},\"mode\":\"markers\",\"name\":\"Applied Data Scientist\",\"orientation\":\"h\",\"showlegend\":true,\"x\":[54238,110037],\"xaxis\":\"x\",\"y\":[\"Mid\",\"Entry\"],\"yaxis\":\"y\",\"type\":\"scatter\"},{\"hovertemplate\":\"<b>%{hovertext}</b><br><br>job_title=Marketing Data Analyst<br>work_year=2021<br>salary_in_usd=%{marker.size}<br>experience_level=%{y}<extra></extra>\",\"hovertext\":[\"Marketing Data Analyst\"],\"legendgroup\":\"Marketing Data Analyst\",\"marker\":{\"color\":\"rgb(158, 185, 243)\",\"size\":[88654],\"sizemode\":\"area\",\"sizeref\":1500.0,\"symbol\":\"circle\"},\"mode\":\"markers\",\"name\":\"Marketing Data Analyst\",\"orientation\":\"h\",\"showlegend\":true,\"x\":[88654],\"xaxis\":\"x\",\"y\":[\"Senior\"],\"yaxis\":\"y\",\"type\":\"scatter\"},{\"hovertemplate\":\"<b>%{hovertext}</b><br><br>job_title=Cloud Data Engineer<br>work_year=2021<br>salary_in_usd=%{marker.size}<br>experience_level=%{y}<extra></extra>\",\"hovertext\":[\"Cloud Data Engineer\",\"Cloud Data Engineer\"],\"legendgroup\":\"Cloud Data Engineer\",\"marker\":{\"color\":\"rgb(135, 197, 95)\",\"size\":[89294,160000],\"sizemode\":\"area\",\"sizeref\":1500.0,\"symbol\":\"circle\"},\"mode\":\"markers\",\"name\":\"Cloud Data Engineer\",\"orientation\":\"h\",\"showlegend\":true,\"x\":[89294,160000],\"xaxis\":\"x\",\"y\":[\"Mid\",\"Senior\"],\"yaxis\":\"y\",\"type\":\"scatter\"},{\"hovertemplate\":\"<b>%{hovertext}</b><br><br>job_title=Financial Data Analyst<br>work_year=2021<br>salary_in_usd=%{marker.size}<br>experience_level=%{y}<extra></extra>\",\"hovertext\":[\"Financial Data Analyst\"],\"legendgroup\":\"Financial Data Analyst\",\"marker\":{\"color\":\"rgb(220, 176, 242)\",\"size\":[450000],\"sizemode\":\"area\",\"sizeref\":1500.0,\"symbol\":\"circle\"},\"mode\":\"markers\",\"name\":\"Financial Data Analyst\",\"orientation\":\"h\",\"showlegend\":true,\"x\":[450000],\"xaxis\":\"x\",\"y\":[\"Mid\"],\"yaxis\":\"y\",\"type\":\"scatter\"},{\"hovertemplate\":\"<b>%{hovertext}</b><br><br>job_title=Computer Vision Software Engineer<br>work_year=2021<br>salary_in_usd=%{marker.size}<br>experience_level=%{y}<extra></extra>\",\"hovertext\":[\"Computer Vision Software Engineer\",\"Computer Vision Software Engineer\"],\"legendgroup\":\"Computer Vision Software Engineer\",\"marker\":{\"color\":\"rgb(248, 156, 116)\",\"size\":[70000,95746],\"sizemode\":\"area\",\"sizeref\":1500.0,\"symbol\":\"circle\"},\"mode\":\"markers\",\"name\":\"Computer Vision Software Engineer\",\"orientation\":\"h\",\"showlegend\":true,\"x\":[70000,95746],\"xaxis\":\"x\",\"y\":[\"Entry\",\"Mid\"],\"yaxis\":\"y\",\"type\":\"scatter\"},{\"hovertemplate\":\"<b>%{hovertext}</b><br><br>job_title=Director of Data Engineering<br>work_year=2021<br>salary_in_usd=%{marker.size}<br>experience_level=%{y}<extra></extra>\",\"hovertext\":[\"Director of Data Engineering\",\"Director of Data Engineering\"],\"legendgroup\":\"Director of Data Engineering\",\"marker\":{\"color\":\"rgb(246, 207, 113)\",\"size\":[113476,200000],\"sizemode\":\"area\",\"sizeref\":1500.0,\"symbol\":\"circle\"},\"mode\":\"markers\",\"name\":\"Director of Data Engineering\",\"orientation\":\"h\",\"showlegend\":true,\"x\":[113476,200000],\"xaxis\":\"x\",\"y\":[\"Senior\",\"Senior\"],\"yaxis\":\"y\",\"type\":\"scatter\"},{\"hovertemplate\":\"<b>%{hovertext}</b><br><br>job_title=Data Science Engineer<br>work_year=2021<br>salary_in_usd=%{marker.size}<br>experience_level=%{y}<extra></extra>\",\"hovertext\":[\"Data Science Engineer\",\"Data Science Engineer\"],\"legendgroup\":\"Data Science Engineer\",\"marker\":{\"color\":\"rgb(102, 197, 204)\",\"size\":[40189,127221],\"sizemode\":\"area\",\"sizeref\":1500.0,\"symbol\":\"circle\"},\"mode\":\"markers\",\"name\":\"Data Science Engineer\",\"orientation\":\"h\",\"showlegend\":true,\"x\":[40189,127221],\"xaxis\":\"x\",\"y\":[\"Mid\",\"Senior\"],\"yaxis\":\"y\",\"type\":\"scatter\"},{\"hovertemplate\":\"<b>%{hovertext}</b><br><br>job_title=Principal Data Engineer<br>work_year=2021<br>salary_in_usd=%{marker.size}<br>experience_level=%{y}<extra></extra>\",\"hovertext\":[\"Principal Data Engineer\",\"Principal Data Engineer\",\"Principal Data Engineer\"],\"legendgroup\":\"Principal Data Engineer\",\"marker\":{\"color\":\"rgb(179, 179, 179)\",\"size\":[200000,185000,600000],\"sizemode\":\"area\",\"sizeref\":1500.0,\"symbol\":\"circle\"},\"mode\":\"markers\",\"name\":\"Principal Data Engineer\",\"orientation\":\"h\",\"showlegend\":true,\"x\":[200000,185000,600000],\"xaxis\":\"x\",\"y\":[\"Senior\",\"Senior\",\"Executive\"],\"yaxis\":\"y\",\"type\":\"scatter\"},{\"hovertemplate\":\"<b>%{hovertext}</b><br><br>job_title=Machine Learning Developer<br>work_year=2021<br>salary_in_usd=%{marker.size}<br>experience_level=%{y}<extra></extra>\",\"hovertext\":[\"Machine Learning Developer\"],\"legendgroup\":\"Machine Learning Developer\",\"marker\":{\"color\":\"rgb(180, 151, 231)\",\"size\":[100000],\"sizemode\":\"area\",\"sizeref\":1500.0,\"symbol\":\"circle\"},\"mode\":\"markers\",\"name\":\"Machine Learning Developer\",\"orientation\":\"h\",\"showlegend\":true,\"x\":[100000],\"xaxis\":\"x\",\"y\":[\"Entry\"],\"yaxis\":\"y\",\"type\":\"scatter\"},{\"hovertemplate\":\"<b>%{hovertext}</b><br><br>job_title=Applied Machine Learning Scientist<br>work_year=2021<br>salary_in_usd=%{marker.size}<br>experience_level=%{y}<extra></extra>\",\"hovertext\":[\"Applied Machine Learning Scientist\",\"Applied Machine Learning Scientist\"],\"legendgroup\":\"Applied Machine Learning Scientist\",\"marker\":{\"color\":\"rgb(139, 224, 164)\",\"size\":[38400,423000],\"sizemode\":\"area\",\"sizeref\":1500.0,\"symbol\":\"circle\"},\"mode\":\"markers\",\"name\":\"Applied Machine Learning Scientist\",\"orientation\":\"h\",\"showlegend\":true,\"x\":[38400,423000],\"xaxis\":\"x\",\"y\":[\"Mid\",\"Mid\"],\"yaxis\":\"y\",\"type\":\"scatter\"},{\"hovertemplate\":\"<b>%{hovertext}</b><br><br>job_title=Data Analytics Manager<br>work_year=2021<br>salary_in_usd=%{marker.size}<br>experience_level=%{y}<extra></extra>\",\"hovertext\":[\"Data Analytics Manager\",\"Data Analytics Manager\",\"Data Analytics Manager\"],\"legendgroup\":\"Data Analytics Manager\",\"marker\":{\"color\":\"rgb(201, 219, 116)\",\"size\":[120000,120000,140000],\"sizemode\":\"area\",\"sizeref\":1500.0,\"symbol\":\"circle\"},\"mode\":\"markers\",\"name\":\"Data Analytics Manager\",\"orientation\":\"h\",\"showlegend\":true,\"x\":[120000,120000,140000],\"xaxis\":\"x\",\"y\":[\"Senior\",\"Senior\",\"Senior\"],\"yaxis\":\"y\",\"type\":\"scatter\"},{\"hovertemplate\":\"<b>%{hovertext}</b><br><br>job_title=Head of Data Science<br>work_year=2021<br>salary_in_usd=%{marker.size}<br>experience_level=%{y}<extra></extra>\",\"hovertext\":[\"Head of Data Science\",\"Head of Data Science\"],\"legendgroup\":\"Head of Data Science\",\"marker\":{\"color\":\"rgb(254, 136, 177)\",\"size\":[85000,110000],\"sizemode\":\"area\",\"sizeref\":1500.0,\"symbol\":\"circle\"},\"mode\":\"markers\",\"name\":\"Head of Data Science\",\"orientation\":\"h\",\"showlegend\":true,\"x\":[85000,110000],\"xaxis\":\"x\",\"y\":[\"Executive\",\"Mid\"],\"yaxis\":\"y\",\"type\":\"scatter\"},{\"hovertemplate\":\"<b>%{hovertext}</b><br><br>job_title=Data Specialist<br>work_year=2021<br>salary_in_usd=%{marker.size}<br>experience_level=%{y}<extra></extra>\",\"hovertext\":[\"Data Specialist\"],\"legendgroup\":\"Data Specialist\",\"marker\":{\"color\":\"rgb(158, 185, 243)\",\"size\":[165000],\"sizemode\":\"area\",\"sizeref\":1500.0,\"symbol\":\"circle\"},\"mode\":\"markers\",\"name\":\"Data Specialist\",\"orientation\":\"h\",\"showlegend\":true,\"x\":[165000],\"xaxis\":\"x\",\"y\":[\"Senior\"],\"yaxis\":\"y\",\"type\":\"scatter\"},{\"hovertemplate\":\"<b>%{hovertext}</b><br><br>job_title=Data Architect<br>work_year=2021<br>salary_in_usd=%{marker.size}<br>experience_level=%{y}<extra></extra>\",\"hovertext\":[\"Data Architect\",\"Data Architect\",\"Data Architect\"],\"legendgroup\":\"Data Architect\",\"marker\":{\"color\":\"rgb(135, 197, 95)\",\"size\":[150000,170000,180000],\"sizemode\":\"area\",\"sizeref\":1500.0,\"symbol\":\"circle\"},\"mode\":\"markers\",\"name\":\"Data Architect\",\"orientation\":\"h\",\"showlegend\":true,\"x\":[150000,170000,180000],\"xaxis\":\"x\",\"y\":[\"Mid\",\"Mid\",\"Mid\"],\"yaxis\":\"y\",\"type\":\"scatter\"},{\"hovertemplate\":\"<b>%{hovertext}</b><br><br>job_title=Finance Data Analyst<br>work_year=2021<br>salary_in_usd=%{marker.size}<br>experience_level=%{y}<extra></extra>\",\"hovertext\":[\"Finance Data Analyst\"],\"legendgroup\":\"Finance Data Analyst\",\"marker\":{\"color\":\"rgb(220, 176, 242)\",\"size\":[61896],\"sizemode\":\"area\",\"sizeref\":1500.0,\"symbol\":\"circle\"},\"mode\":\"markers\",\"name\":\"Finance Data Analyst\",\"orientation\":\"h\",\"showlegend\":true,\"x\":[61896],\"xaxis\":\"x\",\"y\":[\"Senior\"],\"yaxis\":\"y\",\"type\":\"scatter\"},{\"hovertemplate\":\"<b>%{hovertext}</b><br><br>job_title=Principal Data Analyst<br>work_year=2021<br>salary_in_usd=%{marker.size}<br>experience_level=%{y}<extra></extra>\",\"hovertext\":[\"Principal Data Analyst\"],\"legendgroup\":\"Principal Data Analyst\",\"marker\":{\"color\":\"rgb(248, 156, 116)\",\"size\":[170000],\"sizemode\":\"area\",\"sizeref\":1500.0,\"symbol\":\"circle\"},\"mode\":\"markers\",\"name\":\"Principal Data Analyst\",\"orientation\":\"h\",\"showlegend\":true,\"x\":[170000],\"xaxis\":\"x\",\"y\":[\"Senior\"],\"yaxis\":\"y\",\"type\":\"scatter\"},{\"hovertemplate\":\"<b>%{hovertext}</b><br><br>job_title=Big Data Architect<br>work_year=2021<br>salary_in_usd=%{marker.size}<br>experience_level=%{y}<extra></extra>\",\"hovertext\":[\"Big Data Architect\"],\"legendgroup\":\"Big Data Architect\",\"marker\":{\"color\":\"rgb(246, 207, 113)\",\"size\":[99703],\"sizemode\":\"area\",\"sizeref\":1500.0,\"symbol\":\"circle\"},\"mode\":\"markers\",\"name\":\"Big Data Architect\",\"orientation\":\"h\",\"showlegend\":true,\"x\":[99703],\"xaxis\":\"x\",\"y\":[\"Senior\"],\"yaxis\":\"y\",\"type\":\"scatter\"},{\"hovertemplate\":\"<b>%{hovertext}</b><br><br>job_title=Staff Data Scientist<br>work_year=2021<br>salary_in_usd=%{marker.size}<br>experience_level=%{y}<extra></extra>\",\"hovertext\":[\"Staff Data Scientist\"],\"legendgroup\":\"Staff Data Scientist\",\"marker\":{\"color\":\"rgb(102, 197, 204)\",\"size\":[105000],\"sizemode\":\"area\",\"sizeref\":1500.0,\"symbol\":\"circle\"},\"mode\":\"markers\",\"name\":\"Staff Data Scientist\",\"orientation\":\"h\",\"showlegend\":true,\"x\":[105000],\"xaxis\":\"x\",\"y\":[\"Senior\"],\"yaxis\":\"y\",\"type\":\"scatter\"}],\"name\":\"2021\"},{\"data\":[{\"hovertemplate\":\"<b>%{hovertext}</b><br><br>job_title=Data Scientist<br>work_year=2022<br>salary_in_usd=%{marker.size}<br>experience_level=%{y}<extra></extra>\",\"hovertext\":[\"Data Scientist\",\"Data Scientist\",\"Data Scientist\",\"Data Scientist\",\"Data Scientist\",\"Data Scientist\",\"Data Scientist\",\"Data Scientist\",\"Data Scientist\",\"Data Scientist\",\"Data Scientist\",\"Data Scientist\",\"Data Scientist\",\"Data Scientist\",\"Data Scientist\",\"Data Scientist\",\"Data Scientist\",\"Data Scientist\",\"Data Scientist\",\"Data Scientist\",\"Data Scientist\",\"Data Scientist\",\"Data Scientist\",\"Data Scientist\",\"Data Scientist\",\"Data Scientist\",\"Data Scientist\",\"Data Scientist\",\"Data Scientist\",\"Data Scientist\",\"Data Scientist\",\"Data Scientist\",\"Data Scientist\",\"Data Scientist\",\"Data Scientist\",\"Data Scientist\",\"Data Scientist\",\"Data Scientist\",\"Data Scientist\",\"Data Scientist\",\"Data Scientist\",\"Data Scientist\",\"Data Scientist\",\"Data Scientist\",\"Data Scientist\",\"Data Scientist\",\"Data Scientist\",\"Data Scientist\",\"Data Scientist\",\"Data Scientist\",\"Data Scientist\",\"Data Scientist\",\"Data Scientist\",\"Data Scientist\",\"Data Scientist\",\"Data Scientist\",\"Data Scientist\",\"Data Scientist\",\"Data Scientist\",\"Data Scientist\",\"Data Scientist\",\"Data Scientist\",\"Data Scientist\",\"Data Scientist\",\"Data Scientist\",\"Data Scientist\",\"Data Scientist\",\"Data Scientist\",\"Data Scientist\",\"Data Scientist\",\"Data Scientist\",\"Data Scientist\",\"Data Scientist\",\"Data Scientist\",\"Data Scientist\",\"Data Scientist\",\"Data Scientist\"],\"legendgroup\":\"Data Scientist\",\"marker\":{\"color\":\"rgb(179, 179, 179)\",\"size\":[130000,90000,136620,99360,117789,104702,146000,123000,65438,39263,165220,120160,180000,120000,95550,167000,123000,150000,211500,138600,170000,123000,215300,158200,180000,71982,45807,260000,180000,80000,140400,215300,31615,18442,104890,140000,220000,140000,183228,91614,185100,200000,120000,230000,100000,100000,35590,100000,165000,52396,40000,86703,48000,122346,69336,135000,78000,141300,102100,205300,140400,176000,144000,205300,140400,140000,210000,140000,210000,140000,210000,140000,230000,150000,210000,160000,130000],\"sizemode\":\"area\",\"sizeref\":1500.0,\"symbol\":\"circle\"},\"mode\":\"markers\",\"name\":\"Data Scientist\",\"orientation\":\"h\",\"showlegend\":true,\"x\":[130000,90000,136620,99360,117789,104702,146000,123000,65438,39263,165220,120160,180000,120000,95550,167000,123000,150000,211500,138600,170000,123000,215300,158200,180000,71982,45807,260000,180000,80000,140400,215300,31615,18442,104890,140000,220000,140000,183228,91614,185100,200000,120000,230000,100000,100000,35590,100000,165000,52396,40000,86703,48000,122346,69336,135000,78000,141300,102100,205300,140400,176000,144000,205300,140400,140000,210000,140000,210000,140000,210000,140000,230000,150000,210000,160000,130000],\"xaxis\":\"x\",\"y\":[\"Mid\",\"Mid\",\"Senior\",\"Senior\",\"Senior\",\"Senior\",\"Senior\",\"Senior\",\"Mid\",\"Mid\",\"Senior\",\"Senior\",\"Senior\",\"Senior\",\"Senior\",\"Senior\",\"Senior\",\"Senior\",\"Senior\",\"Senior\",\"Senior\",\"Senior\",\"Senior\",\"Senior\",\"Senior\",\"Mid\",\"Mid\",\"Senior\",\"Senior\",\"Senior\",\"Senior\",\"Senior\",\"Mid\",\"Entry\",\"Senior\",\"Senior\",\"Senior\",\"Senior\",\"Mid\",\"Mid\",\"Senior\",\"Mid\",\"Mid\",\"Senior\",\"Entry\",\"Mid\",\"Mid\",\"Senior\",\"Senior\",\"Entry\",\"Entry\",\"Entry\",\"Mid\",\"Mid\",\"Mid\",\"Mid\",\"Mid\",\"Mid\",\"Mid\",\"Senior\",\"Senior\",\"Senior\",\"Senior\",\"Senior\",\"Senior\",\"Senior\",\"Senior\",\"Senior\",\"Senior\",\"Senior\",\"Senior\",\"Senior\",\"Senior\",\"Senior\",\"Senior\",\"Mid\",\"Mid\"],\"yaxis\":\"y\",\"type\":\"scatter\"},{\"hovertemplate\":\"<b>%{hovertext}</b><br><br>job_title=Machine Learning Scientist<br>work_year=2022<br>salary_in_usd=%{marker.size}<br>experience_level=%{y}<extra></extra>\",\"hovertext\":[\"Machine Learning Scientist\",\"Machine Learning Scientist\",\"Machine Learning Scientist\"],\"legendgroup\":\"Machine Learning Scientist\",\"marker\":{\"color\":\"rgb(180, 151, 231)\",\"size\":[160000,112300,153000],\"sizemode\":\"area\",\"sizeref\":1500.0,\"symbol\":\"circle\"},\"mode\":\"markers\",\"name\":\"Machine Learning Scientist\",\"orientation\":\"h\",\"showlegend\":true,\"x\":[160000,112300,153000],\"xaxis\":\"x\",\"y\":[\"Mid\",\"Mid\",\"Mid\"],\"yaxis\":\"y\",\"type\":\"scatter\"},{\"hovertemplate\":\"<b>%{hovertext}</b><br><br>job_title=Machine Learning Engineer<br>work_year=2022<br>salary_in_usd=%{marker.size}<br>experience_level=%{y}<extra></extra>\",\"hovertext\":[\"Machine Learning Engineer\",\"Machine Learning Engineer\",\"Machine Learning Engineer\",\"Machine Learning Engineer\",\"Machine Learning Engineer\",\"Machine Learning Engineer\",\"Machine Learning Engineer\",\"Machine Learning Engineer\",\"Machine Learning Engineer\",\"Machine Learning Engineer\",\"Machine Learning Engineer\",\"Machine Learning Engineer\",\"Machine Learning Engineer\",\"Machine Learning Engineer\",\"Machine Learning Engineer\",\"Machine Learning Engineer\",\"Machine Learning Engineer\",\"Machine Learning Engineer\"],\"legendgroup\":\"Machine Learning Engineer\",\"marker\":{\"color\":\"rgb(254, 136, 177)\",\"size\":[189650,164996,37300,124333,98158,87932,189650,164996,120000,220000,120000,65000,120000,62651,87425,71444,214000,192600],\"sizemode\":\"area\",\"sizeref\":1500.0,\"symbol\":\"circle\"},\"mode\":\"markers\",\"name\":\"Machine Learning Engineer\",\"orientation\":\"h\",\"showlegend\":true,\"x\":[189650,164996,37300,124333,98158,87932,189650,164996,120000,220000,120000,65000,120000,62651,87425,71444,214000,192600],\"xaxis\":\"x\",\"y\":[\"Senior\",\"Senior\",\"Entry\",\"Mid\",\"Mid\",\"Mid\",\"Senior\",\"Senior\",\"Mid\",\"Senior\",\"Senior\",\"Senior\",\"Senior\",\"Senior\",\"Mid\",\"Senior\",\"Senior\",\"Senior\"],\"yaxis\":\"y\",\"type\":\"scatter\"},{\"hovertemplate\":\"<b>%{hovertext}</b><br><br>job_title=Data Analyst<br>work_year=2022<br>salary_in_usd=%{marker.size}<br>experience_level=%{y}<extra></extra>\",\"hovertext\":[\"Data Analyst\",\"Data Analyst\",\"Data Analyst\",\"Data Analyst\",\"Data Analyst\",\"Data Analyst\",\"Data Analyst\",\"Data Analyst\",\"Data Analyst\",\"Data Analyst\",\"Data Analyst\",\"Data Analyst\",\"Data Analyst\",\"Data Analyst\",\"Data Analyst\",\"Data Analyst\",\"Data Analyst\",\"Data Analyst\",\"Data Analyst\",\"Data Analyst\",\"Data Analyst\",\"Data Analyst\",\"Data Analyst\",\"Data Analyst\",\"Data Analyst\",\"Data Analyst\",\"Data Analyst\",\"Data Analyst\",\"Data Analyst\",\"Data Analyst\",\"Data Analyst\",\"Data Analyst\",\"Data Analyst\",\"Data Analyst\",\"Data Analyst\",\"Data Analyst\",\"Data Analyst\",\"Data Analyst\",\"Data Analyst\",\"Data Analyst\",\"Data Analyst\",\"Data Analyst\",\"Data Analyst\",\"Data Analyst\",\"Data Analyst\",\"Data Analyst\",\"Data Analyst\",\"Data Analyst\",\"Data Analyst\",\"Data Analyst\",\"Data Analyst\",\"Data Analyst\",\"Data Analyst\",\"Data Analyst\",\"Data Analyst\",\"Data Analyst\",\"Data Analyst\",\"Data Analyst\",\"Data Analyst\",\"Data Analyst\",\"Data Analyst\",\"Data Analyst\",\"Data Analyst\",\"Data Analyst\",\"Data Analyst\",\"Data Analyst\",\"Data Analyst\",\"Data Analyst\",\"Data Analyst\",\"Data Analyst\",\"Data Analyst\",\"Data Analyst\",\"Data Analyst\"],\"legendgroup\":\"Data Analyst\",\"marker\":{\"color\":\"rgb(158, 185, 243)\",\"size\":[155000,120600,102100,84900,99000,116000,106260,126500,90320,124190,130000,110000,170000,115500,112900,90320,112900,90320,167000,136600,109280,135000,130000,61300,130000,61300,58000,132000,128875,93700,164000,112900,90320,115934,81666,58000,52351,39263,43966,32974,43966,32974,135000,50000,20000,135000,100000,90320,85000,75000,112900,115934,81666,99050,116150,170000,65438,80000,100000,69000,150075,126500,106260,105000,110925,45807,99000,60000,170000,67000,52000,129000,150000],\"sizemode\":\"area\",\"sizeref\":1500.0,\"symbol\":\"circle\"},\"mode\":\"markers\",\"name\":\"Data Analyst\",\"orientation\":\"h\",\"showlegend\":true,\"x\":[155000,120600,102100,84900,99000,116000,106260,126500,90320,124190,130000,110000,170000,115500,112900,90320,112900,90320,167000,136600,109280,135000,130000,61300,130000,61300,58000,132000,128875,93700,164000,112900,90320,115934,81666,58000,52351,39263,43966,32974,43966,32974,135000,50000,20000,135000,100000,90320,85000,75000,112900,115934,81666,99050,116150,170000,65438,80000,100000,69000,150075,126500,106260,105000,110925,45807,99000,60000,170000,67000,52000,129000,150000],\"xaxis\":\"x\",\"y\":[\"Senior\",\"Senior\",\"Senior\",\"Senior\",\"Senior\",\"Senior\",\"Mid\",\"Mid\",\"Senior\",\"Senior\",\"Executive\",\"Executive\",\"Senior\",\"Mid\",\"Senior\",\"Senior\",\"Senior\",\"Senior\",\"Mid\",\"Senior\",\"Senior\",\"Senior\",\"Senior\",\"Senior\",\"Senior\",\"Senior\",\"Mid\",\"Senior\",\"Senior\",\"Senior\",\"Senior\",\"Senior\",\"Senior\",\"Senior\",\"Senior\",\"Mid\",\"Mid\",\"Mid\",\"Mid\",\"Mid\",\"Mid\",\"Mid\",\"Mid\",\"Mid\",\"Mid\",\"Senior\",\"Senior\",\"Senior\",\"Mid\",\"Mid\",\"Senior\",\"Senior\",\"Senior\",\"Senior\",\"Senior\",\"Senior\",\"Mid\",\"Senior\",\"Senior\",\"Senior\",\"Senior\",\"Senior\",\"Senior\",\"Senior\",\"Senior\",\"Mid\",\"Senior\",\"Senior\",\"Senior\",\"Entry\",\"Entry\",\"Senior\",\"Senior\"],\"yaxis\":\"y\",\"type\":\"scatter\"},{\"hovertemplate\":\"<b>%{hovertext}</b><br><br>job_title=Business Data Analyst<br>work_year=2022<br>salary_in_usd=%{marker.size}<br>experience_level=%{y}<extra></extra>\",\"hovertext\":[\"Business Data Analyst\",\"Business Data Analyst\"],\"legendgroup\":\"Business Data Analyst\",\"marker\":{\"color\":\"rgb(220, 176, 242)\",\"size\":[18442,70912],\"sizemode\":\"area\",\"sizeref\":1500.0,\"symbol\":\"circle\"},\"mode\":\"markers\",\"name\":\"Business Data Analyst\",\"orientation\":\"h\",\"showlegend\":true,\"x\":[18442,70912],\"xaxis\":\"x\",\"y\":[\"Mid\",\"Mid\"],\"yaxis\":\"y\",\"type\":\"scatter\"},{\"hovertemplate\":\"<b>%{hovertext}</b><br><br>job_title=Lead Data Engineer<br>work_year=2022<br>salary_in_usd=%{marker.size}<br>experience_level=%{y}<extra></extra>\",\"hovertext\":[\"Lead Data Engineer\"],\"legendgroup\":\"Lead Data Engineer\",\"marker\":{\"color\":\"rgb(248, 156, 116)\",\"size\":[118187],\"sizemode\":\"area\",\"sizeref\":1500.0,\"symbol\":\"circle\"},\"mode\":\"markers\",\"name\":\"Lead Data Engineer\",\"orientation\":\"h\",\"showlegend\":true,\"x\":[118187],\"xaxis\":\"x\",\"y\":[\"Executive\"],\"yaxis\":\"y\",\"type\":\"scatter\"},{\"hovertemplate\":\"<b>%{hovertext}</b><br><br>job_title=Data Engineer<br>work_year=2022<br>salary_in_usd=%{marker.size}<br>experience_level=%{y}<extra></extra>\",\"hovertext\":[\"Data Engineer\",\"Data Engineer\",\"Data Engineer\",\"Data Engineer\",\"Data Engineer\",\"Data Engineer\",\"Data Engineer\",\"Data Engineer\",\"Data Engineer\",\"Data Engineer\",\"Data Engineer\",\"Data Engineer\",\"Data Engineer\",\"Data Engineer\",\"Data Engineer\",\"Data Engineer\",\"Data Engineer\",\"Data Engineer\",\"Data Engineer\",\"Data Engineer\",\"Data Engineer\",\"Data Engineer\",\"Data Engineer\",\"Data Engineer\",\"Data Engineer\",\"Data Engineer\",\"Data Engineer\",\"Data Engineer\",\"Data Engineer\",\"Data Engineer\",\"Data Engineer\",\"Data Engineer\",\"Data Engineer\",\"Data Engineer\",\"Data Engineer\",\"Data Engineer\",\"Data Engineer\",\"Data Engineer\",\"Data Engineer\",\"Data Engineer\",\"Data Engineer\",\"Data Engineer\",\"Data Engineer\",\"Data Engineer\",\"Data Engineer\",\"Data Engineer\",\"Data Engineer\",\"Data Engineer\",\"Data Engineer\",\"Data Engineer\",\"Data Engineer\",\"Data Engineer\",\"Data Engineer\",\"Data Engineer\",\"Data Engineer\",\"Data Engineer\",\"Data Engineer\",\"Data Engineer\",\"Data Engineer\",\"Data Engineer\",\"Data Engineer\",\"Data Engineer\",\"Data Engineer\",\"Data Engineer\",\"Data Engineer\",\"Data Engineer\",\"Data Engineer\",\"Data Engineer\",\"Data Engineer\",\"Data Engineer\",\"Data Engineer\",\"Data Engineer\",\"Data Engineer\",\"Data Engineer\",\"Data Engineer\",\"Data Engineer\",\"Data Engineer\",\"Data Engineer\",\"Data Engineer\",\"Data Engineer\",\"Data Engineer\",\"Data Engineer\",\"Data Engineer\",\"Data Engineer\",\"Data Engineer\",\"Data Engineer\",\"Data Engineer\",\"Data Engineer\",\"Data Engineer\"],\"legendgroup\":\"Data Engineer\",\"marker\":{\"color\":\"rgb(102, 197, 204)\",\"size\":[135000,170000,150000,52351,242000,200000,78526,52351,45807,181940,132320,220110,160080,165400,132320,243900,128875,93700,156600,108800,113000,78526,65438,160000,136000,165400,136994,101570,132320,155000,117789,209100,154600,175000,98158,183600,65949,49461,78526,58894,63900,82900,100800,49461,87932,76940,104702,91614,65949,87932,98158,78526,76940,209100,154600,180000,80000,105000,54957,120000,100000,324000,216000,210000,58035,115000,65000,68147,155000,206699,99100,130000,115000,110500,130000,160000,200100,160000,145000,70500,175100,140250,54000,100000,25000,220110,160080,154000,126000],\"sizemode\":\"area\",\"sizeref\":1500.0,\"symbol\":\"circle\"},\"mode\":\"markers\",\"name\":\"Data Engineer\",\"orientation\":\"h\",\"showlegend\":true,\"x\":[135000,170000,150000,52351,242000,200000,78526,52351,45807,181940,132320,220110,160080,165400,132320,243900,128875,93700,156600,108800,113000,78526,65438,160000,136000,165400,136994,101570,132320,155000,117789,209100,154600,175000,98158,183600,65949,49461,78526,58894,63900,82900,100800,49461,87932,76940,104702,91614,65949,87932,98158,78526,76940,209100,154600,180000,80000,105000,54957,120000,100000,324000,216000,210000,58035,115000,65000,68147,155000,206699,99100,130000,115000,110500,130000,160000,200100,160000,145000,70500,175100,140250,54000,100000,25000,220110,160080,154000,126000],\"xaxis\":\"x\",\"y\":[\"Senior\",\"Mid\",\"Mid\",\"Entry\",\"Executive\",\"Executive\",\"Mid\",\"Mid\",\"Entry\",\"Senior\",\"Senior\",\"Senior\",\"Senior\",\"Senior\",\"Senior\",\"Senior\",\"Senior\",\"Senior\",\"Senior\",\"Senior\",\"Senior\",\"Senior\",\"Senior\",\"Senior\",\"Senior\",\"Senior\",\"Senior\",\"Senior\",\"Senior\",\"Senior\",\"Mid\",\"Senior\",\"Senior\",\"Senior\",\"Mid\",\"Senior\",\"Mid\",\"Mid\",\"Mid\",\"Mid\",\"Mid\",\"Mid\",\"Senior\",\"Mid\",\"Mid\",\"Mid\",\"Mid\",\"Mid\",\"Mid\",\"Mid\",\"Mid\",\"Mid\",\"Mid\",\"Senior\",\"Senior\",\"Senior\",\"Senior\",\"Senior\",\"Mid\",\"Entry\",\"Senior\",\"Executive\",\"Executive\",\"Senior\",\"Entry\",\"Senior\",\"Entry\",\"Mid\",\"Senior\",\"Mid\",\"Mid\",\"Senior\",\"Senior\",\"Senior\",\"Senior\",\"Senior\",\"Senior\",\"Senior\",\"Senior\",\"Senior\",\"Senior\",\"Senior\",\"Senior\",\"Senior\",\"Senior\",\"Senior\",\"Senior\",\"Senior\",\"Senior\"],\"yaxis\":\"y\",\"type\":\"scatter\"},{\"hovertemplate\":\"<b>%{hovertext}</b><br><br>job_title=Director of Data Science<br>work_year=2022<br>salary_in_usd=%{marker.size}<br>experience_level=%{y}<extra></extra>\",\"hovertext\":[\"Director of Data Science\"],\"legendgroup\":\"Director of Data Science\",\"marker\":{\"color\":\"rgb(139, 224, 164)\",\"size\":[196979],\"sizemode\":\"area\",\"sizeref\":1500.0,\"symbol\":\"circle\"},\"mode\":\"markers\",\"name\":\"Director of Data Science\",\"orientation\":\"h\",\"showlegend\":true,\"x\":[196979],\"xaxis\":\"x\",\"y\":[\"Executive\"],\"yaxis\":\"y\",\"type\":\"scatter\"},{\"hovertemplate\":\"<b>%{hovertext}</b><br><br>job_title=Research Scientist<br>work_year=2022<br>salary_in_usd=%{marker.size}<br>experience_level=%{y}<extra></extra>\",\"hovertext\":[\"Research Scientist\",\"Research Scientist\",\"Research Scientist\",\"Research Scientist\"],\"legendgroup\":\"Research Scientist\",\"marker\":{\"color\":\"rgb(201, 219, 116)\",\"size\":[144000,93427,64849,120000],\"sizemode\":\"area\",\"sizeref\":1500.0,\"symbol\":\"circle\"},\"mode\":\"markers\",\"name\":\"Research Scientist\",\"orientation\":\"h\",\"showlegend\":true,\"x\":[144000,93427,64849,120000],\"xaxis\":\"x\",\"y\":[\"Senior\",\"Senior\",\"Mid\",\"Entry\"],\"yaxis\":\"y\",\"type\":\"scatter\"},{\"hovertemplate\":\"<b>%{hovertext}</b><br><br>job_title=Machine Learning Infrastructure Engineer<br>work_year=2022<br>salary_in_usd=%{marker.size}<br>experience_level=%{y}<extra></extra>\",\"hovertext\":[\"Machine Learning Infrastructure Engineer\"],\"legendgroup\":\"Machine Learning Infrastructure Engineer\",\"marker\":{\"color\":\"rgb(135, 197, 95)\",\"size\":[58255],\"sizemode\":\"area\",\"sizeref\":1500.0,\"symbol\":\"circle\"},\"mode\":\"markers\",\"name\":\"Machine Learning Infrastructure Engineer\",\"orientation\":\"h\",\"showlegend\":true,\"x\":[58255],\"xaxis\":\"x\",\"y\":[\"Mid\"],\"yaxis\":\"y\",\"type\":\"scatter\"},{\"hovertemplate\":\"<b>%{hovertext}</b><br><br>job_title=ML Engineer<br>work_year=2022<br>salary_in_usd=%{marker.size}<br>experience_level=%{y}<extra></extra>\",\"hovertext\":[\"ML Engineer\"],\"legendgroup\":\"ML Engineer\",\"marker\":{\"color\":\"rgb(220, 176, 242)\",\"size\":[21983],\"sizemode\":\"area\",\"sizeref\":1500.0,\"symbol\":\"circle\"},\"mode\":\"markers\",\"name\":\"ML Engineer\",\"orientation\":\"h\",\"showlegend\":true,\"x\":[21983],\"xaxis\":\"x\",\"y\":[\"Entry\"],\"yaxis\":\"y\",\"type\":\"scatter\"},{\"hovertemplate\":\"<b>%{hovertext}</b><br><br>job_title=AI Scientist<br>work_year=2022<br>salary_in_usd=%{marker.size}<br>experience_level=%{y}<extra></extra>\",\"hovertext\":[\"AI Scientist\",\"AI Scientist\"],\"legendgroup\":\"AI Scientist\",\"marker\":{\"color\":\"rgb(248, 156, 116)\",\"size\":[120000,200000],\"sizemode\":\"area\",\"sizeref\":1500.0,\"symbol\":\"circle\"},\"mode\":\"markers\",\"name\":\"AI Scientist\",\"orientation\":\"h\",\"showlegend\":true,\"x\":[120000,200000],\"xaxis\":\"x\",\"y\":[\"Mid\",\"Mid\"],\"yaxis\":\"y\",\"type\":\"scatter\"},{\"hovertemplate\":\"<b>%{hovertext}</b><br><br>job_title=Computer Vision Engineer<br>work_year=2022<br>salary_in_usd=%{marker.size}<br>experience_level=%{y}<extra></extra>\",\"hovertext\":[\"Computer Vision Engineer\",\"Computer Vision Engineer\"],\"legendgroup\":\"Computer Vision Engineer\",\"marker\":{\"color\":\"rgb(246, 207, 113)\",\"size\":[125000,10000],\"sizemode\":\"area\",\"sizeref\":1500.0,\"symbol\":\"circle\"},\"mode\":\"markers\",\"name\":\"Computer Vision Engineer\",\"orientation\":\"h\",\"showlegend\":true,\"x\":[125000,10000],\"xaxis\":\"x\",\"y\":[\"Entry\",\"Entry\"],\"yaxis\":\"y\",\"type\":\"scatter\"},{\"hovertemplate\":\"<b>%{hovertext}</b><br><br>job_title=Principal Data Scientist<br>work_year=2022<br>salary_in_usd=%{marker.size}<br>experience_level=%{y}<extra></extra>\",\"hovertext\":[\"Principal Data Scientist\"],\"legendgroup\":\"Principal Data Scientist\",\"marker\":{\"color\":\"rgb(102, 197, 204)\",\"size\":[162674],\"sizemode\":\"area\",\"sizeref\":1500.0,\"symbol\":\"circle\"},\"mode\":\"markers\",\"name\":\"Principal Data Scientist\",\"orientation\":\"h\",\"showlegend\":true,\"x\":[162674],\"xaxis\":\"x\",\"y\":[\"Senior\"],\"yaxis\":\"y\",\"type\":\"scatter\"},{\"hovertemplate\":\"<b>%{hovertext}</b><br><br>job_title=Data Science Manager<br>work_year=2022<br>salary_in_usd=%{marker.size}<br>experience_level=%{y}<extra></extra>\",\"hovertext\":[\"Data Science Manager\",\"Data Science Manager\",\"Data Science Manager\",\"Data Science Manager\",\"Data Science Manager\"],\"legendgroup\":\"Data Science Manager\",\"marker\":{\"color\":\"rgb(179, 179, 179)\",\"size\":[161342,137141,241000,159000,152500],\"sizemode\":\"area\",\"sizeref\":1500.0,\"symbol\":\"circle\"},\"mode\":\"markers\",\"name\":\"Data Science Manager\",\"orientation\":\"h\",\"showlegend\":true,\"x\":[161342,137141,241000,159000,152500],\"xaxis\":\"x\",\"y\":[\"Senior\",\"Senior\",\"Mid\",\"Mid\",\"Senior\"],\"yaxis\":\"y\",\"type\":\"scatter\"},{\"hovertemplate\":\"<b>%{hovertext}</b><br><br>job_title=Head of Data<br>work_year=2022<br>salary_in_usd=%{marker.size}<br>experience_level=%{y}<extra></extra>\",\"hovertext\":[\"Head of Data\",\"Head of Data\"],\"legendgroup\":\"Head of Data\",\"marker\":{\"color\":\"rgb(180, 151, 231)\",\"size\":[200000,32974],\"sizemode\":\"area\",\"sizeref\":1500.0,\"symbol\":\"circle\"},\"mode\":\"markers\",\"name\":\"Head of Data\",\"orientation\":\"h\",\"showlegend\":true,\"x\":[200000,32974],\"xaxis\":\"x\",\"y\":[\"Senior\",\"Mid\"],\"yaxis\":\"y\",\"type\":\"scatter\"},{\"hovertemplate\":\"<b>%{hovertext}</b><br><br>job_title=Data Analytics Engineer<br>work_year=2022<br>salary_in_usd=%{marker.size}<br>experience_level=%{y}<extra></extra>\",\"hovertext\":[\"Data Analytics Engineer\"],\"legendgroup\":\"Data Analytics Engineer\",\"marker\":{\"color\":\"rgb(201, 219, 116)\",\"size\":[20000],\"sizemode\":\"area\",\"sizeref\":1500.0,\"symbol\":\"circle\"},\"mode\":\"markers\",\"name\":\"Data Analytics Engineer\",\"orientation\":\"h\",\"showlegend\":true,\"x\":[20000],\"xaxis\":\"x\",\"y\":[\"Entry\"],\"yaxis\":\"y\",\"type\":\"scatter\"},{\"hovertemplate\":\"<b>%{hovertext}</b><br><br>job_title=Applied Data Scientist<br>work_year=2022<br>salary_in_usd=%{marker.size}<br>experience_level=%{y}<extra></extra>\",\"hovertext\":[\"Applied Data Scientist\",\"Applied Data Scientist\",\"Applied Data Scientist\"],\"legendgroup\":\"Applied Data Scientist\",\"marker\":{\"color\":\"rgb(254, 136, 177)\",\"size\":[157000,380000,177000],\"sizemode\":\"area\",\"sizeref\":1500.0,\"symbol\":\"circle\"},\"mode\":\"markers\",\"name\":\"Applied Data Scientist\",\"orientation\":\"h\",\"showlegend\":true,\"x\":[157000,380000,177000],\"xaxis\":\"x\",\"y\":[\"Mid\",\"Senior\",\"Senior\"],\"yaxis\":\"y\",\"type\":\"scatter\"},{\"hovertemplate\":\"<b>%{hovertext}</b><br><br>job_title=Financial Data Analyst<br>work_year=2022<br>salary_in_usd=%{marker.size}<br>experience_level=%{y}<extra></extra>\",\"hovertext\":[\"Financial Data Analyst\"],\"legendgroup\":\"Financial Data Analyst\",\"marker\":{\"color\":\"rgb(220, 176, 242)\",\"size\":[100000],\"sizemode\":\"area\",\"sizeref\":1500.0,\"symbol\":\"circle\"},\"mode\":\"markers\",\"name\":\"Financial Data Analyst\",\"orientation\":\"h\",\"showlegend\":true,\"x\":[100000],\"xaxis\":\"x\",\"y\":[\"Entry\"],\"yaxis\":\"y\",\"type\":\"scatter\"},{\"hovertemplate\":\"<b>%{hovertext}</b><br><br>job_title=Computer Vision Software Engineer<br>work_year=2022<br>salary_in_usd=%{marker.size}<br>experience_level=%{y}<extra></extra>\",\"hovertext\":[\"Computer Vision Software Engineer\"],\"legendgroup\":\"Computer Vision Software Engineer\",\"marker\":{\"color\":\"rgb(248, 156, 116)\",\"size\":[150000],\"sizemode\":\"area\",\"sizeref\":1500.0,\"symbol\":\"circle\"},\"mode\":\"markers\",\"name\":\"Computer Vision Software Engineer\",\"orientation\":\"h\",\"showlegend\":true,\"x\":[150000],\"xaxis\":\"x\",\"y\":[\"Entry\"],\"yaxis\":\"y\",\"type\":\"scatter\"},{\"hovertemplate\":\"<b>%{hovertext}</b><br><br>job_title=Data Science Engineer<br>work_year=2022<br>salary_in_usd=%{marker.size}<br>experience_level=%{y}<extra></extra>\",\"hovertext\":[\"Data Science Engineer\"],\"legendgroup\":\"Data Science Engineer\",\"marker\":{\"color\":\"rgb(102, 197, 204)\",\"size\":[60000],\"sizemode\":\"area\",\"sizeref\":1500.0,\"symbol\":\"circle\"},\"mode\":\"markers\",\"name\":\"Data Science Engineer\",\"orientation\":\"h\",\"showlegend\":true,\"x\":[60000],\"xaxis\":\"x\",\"y\":[\"Senior\"],\"yaxis\":\"y\",\"type\":\"scatter\"},{\"hovertemplate\":\"<b>%{hovertext}</b><br><br>job_title=Machine Learning Developer<br>work_year=2022<br>salary_in_usd=%{marker.size}<br>experience_level=%{y}<extra></extra>\",\"hovertext\":[\"Machine Learning Developer\",\"Machine Learning Developer\"],\"legendgroup\":\"Machine Learning Developer\",\"marker\":{\"color\":\"rgb(180, 151, 231)\",\"size\":[78791,78791],\"sizemode\":\"area\",\"sizeref\":1500.0,\"symbol\":\"circle\"},\"mode\":\"markers\",\"name\":\"Machine Learning Developer\",\"orientation\":\"h\",\"showlegend\":true,\"x\":[78791,78791],\"xaxis\":\"x\",\"y\":[\"Mid\",\"Senior\"],\"yaxis\":\"y\",\"type\":\"scatter\"},{\"hovertemplate\":\"<b>%{hovertext}</b><br><br>job_title=Applied Machine Learning Scientist<br>work_year=2022<br>salary_in_usd=%{marker.size}<br>experience_level=%{y}<extra></extra>\",\"hovertext\":[\"Applied Machine Learning Scientist\",\"Applied Machine Learning Scientist\"],\"legendgroup\":\"Applied Machine Learning Scientist\",\"marker\":{\"color\":\"rgb(139, 224, 164)\",\"size\":[31875,75000],\"sizemode\":\"area\",\"sizeref\":1500.0,\"symbol\":\"circle\"},\"mode\":\"markers\",\"name\":\"Applied Machine Learning Scientist\",\"orientation\":\"h\",\"showlegend\":true,\"x\":[31875,75000],\"xaxis\":\"x\",\"y\":[\"Entry\",\"Mid\"],\"yaxis\":\"y\",\"type\":\"scatter\"},{\"hovertemplate\":\"<b>%{hovertext}</b><br><br>job_title=Data Analytics Manager<br>work_year=2022<br>salary_in_usd=%{marker.size}<br>experience_level=%{y}<extra></extra>\",\"hovertext\":[\"Data Analytics Manager\",\"Data Analytics Manager\",\"Data Analytics Manager\",\"Data Analytics Manager\"],\"legendgroup\":\"Data Analytics Manager\",\"marker\":{\"color\":\"rgb(201, 219, 116)\",\"size\":[145000,105400,150260,109280],\"sizemode\":\"area\",\"sizeref\":1500.0,\"symbol\":\"circle\"},\"mode\":\"markers\",\"name\":\"Data Analytics Manager\",\"orientation\":\"h\",\"showlegend\":true,\"x\":[145000,105400,150260,109280],\"xaxis\":\"x\",\"y\":[\"Senior\",\"Senior\",\"Senior\",\"Senior\"],\"yaxis\":\"y\",\"type\":\"scatter\"},{\"hovertemplate\":\"<b>%{hovertext}</b><br><br>job_title=Head of Data Science<br>work_year=2022<br>salary_in_usd=%{marker.size}<br>experience_level=%{y}<extra></extra>\",\"hovertext\":[\"Head of Data Science\",\"Head of Data Science\"],\"legendgroup\":\"Head of Data Science\",\"marker\":{\"color\":\"rgb(254, 136, 177)\",\"size\":[224000,167875],\"sizemode\":\"area\",\"sizeref\":1500.0,\"symbol\":\"circle\"},\"mode\":\"markers\",\"name\":\"Head of Data Science\",\"orientation\":\"h\",\"showlegend\":true,\"x\":[224000,167875],\"xaxis\":\"x\",\"y\":[\"Executive\",\"Executive\"],\"yaxis\":\"y\",\"type\":\"scatter\"},{\"hovertemplate\":\"<b>%{hovertext}</b><br><br>job_title=Data Architect<br>work_year=2022<br>salary_in_usd=%{marker.size}<br>experience_level=%{y}<extra></extra>\",\"hovertext\":[\"Data Architect\",\"Data Architect\",\"Data Architect\",\"Data Architect\",\"Data Architect\",\"Data Architect\",\"Data Architect\",\"Data Architect\"],\"legendgroup\":\"Data Architect\",\"marker\":{\"color\":\"rgb(135, 197, 95)\",\"size\":[192400,90700,208775,147800,266400,213120,192564,144854],\"sizemode\":\"area\",\"sizeref\":1500.0,\"symbol\":\"circle\"},\"mode\":\"markers\",\"name\":\"Data Architect\",\"orientation\":\"h\",\"showlegend\":true,\"x\":[192400,90700,208775,147800,266400,213120,192564,144854],\"xaxis\":\"x\",\"y\":[\"Senior\",\"Senior\",\"Senior\",\"Senior\",\"Senior\",\"Senior\",\"Senior\",\"Senior\"],\"yaxis\":\"y\",\"type\":\"scatter\"},{\"hovertemplate\":\"<b>%{hovertext}</b><br><br>job_title=Principal Data Analyst<br>work_year=2022<br>salary_in_usd=%{marker.size}<br>experience_level=%{y}<extra></extra>\",\"hovertext\":[\"Principal Data Analyst\"],\"legendgroup\":\"Principal Data Analyst\",\"marker\":{\"color\":\"rgb(248, 156, 116)\",\"size\":[75000],\"sizemode\":\"area\",\"sizeref\":1500.0,\"symbol\":\"circle\"},\"mode\":\"markers\",\"name\":\"Principal Data Analyst\",\"orientation\":\"h\",\"showlegend\":true,\"x\":[75000],\"xaxis\":\"x\",\"y\":[\"Mid\"],\"yaxis\":\"y\",\"type\":\"scatter\"},{\"hovertemplate\":\"<b>%{hovertext}</b><br><br>job_title=Analytics Engineer<br>work_year=2022<br>salary_in_usd=%{marker.size}<br>experience_level=%{y}<extra></extra>\",\"hovertext\":[\"Analytics Engineer\",\"Analytics Engineer\",\"Analytics Engineer\",\"Analytics Engineer\"],\"legendgroup\":\"Analytics Engineer\",\"marker\":{\"color\":\"rgb(179, 179, 179)\",\"size\":[175000,135000,205300,184700],\"sizemode\":\"area\",\"sizeref\":1500.0,\"symbol\":\"circle\"},\"mode\":\"markers\",\"name\":\"Analytics Engineer\",\"orientation\":\"h\",\"showlegend\":true,\"x\":[175000,135000,205300,184700],\"xaxis\":\"x\",\"y\":[\"Executive\",\"Executive\",\"Senior\",\"Senior\"],\"yaxis\":\"y\",\"type\":\"scatter\"},{\"hovertemplate\":\"<b>%{hovertext}</b><br><br>job_title=ETL Developer<br>work_year=2022<br>salary_in_usd=%{marker.size}<br>experience_level=%{y}<extra></extra>\",\"hovertext\":[\"ETL Developer\",\"ETL Developer\"],\"legendgroup\":\"ETL Developer\",\"marker\":{\"color\":\"rgb(180, 151, 231)\",\"size\":[54957,54957],\"sizemode\":\"area\",\"sizeref\":1500.0,\"symbol\":\"circle\"},\"mode\":\"markers\",\"name\":\"ETL Developer\",\"orientation\":\"h\",\"showlegend\":true,\"x\":[54957,54957],\"xaxis\":\"x\",\"y\":[\"Mid\",\"Mid\"],\"yaxis\":\"y\",\"type\":\"scatter\"},{\"hovertemplate\":\"<b>%{hovertext}</b><br><br>job_title=Head of Machine Learning<br>work_year=2022<br>salary_in_usd=%{marker.size}<br>experience_level=%{y}<extra></extra>\",\"hovertext\":[\"Head of Machine Learning\"],\"legendgroup\":\"Head of Machine Learning\",\"marker\":{\"color\":\"rgb(139, 224, 164)\",\"size\":[79039],\"sizemode\":\"area\",\"sizeref\":1500.0,\"symbol\":\"circle\"},\"mode\":\"markers\",\"name\":\"Head of Machine Learning\",\"orientation\":\"h\",\"showlegend\":true,\"x\":[79039],\"xaxis\":\"x\",\"y\":[\"Executive\"],\"yaxis\":\"y\",\"type\":\"scatter\"},{\"hovertemplate\":\"<b>%{hovertext}</b><br><br>job_title=NLP Engineer<br>work_year=2022<br>salary_in_usd=%{marker.size}<br>experience_level=%{y}<extra></extra>\",\"hovertext\":[\"NLP Engineer\"],\"legendgroup\":\"NLP Engineer\",\"marker\":{\"color\":\"rgb(201, 219, 116)\",\"size\":[37236],\"sizemode\":\"area\",\"sizeref\":1500.0,\"symbol\":\"circle\"},\"mode\":\"markers\",\"name\":\"NLP Engineer\",\"orientation\":\"h\",\"showlegend\":true,\"x\":[37236],\"xaxis\":\"x\",\"y\":[\"Mid\"],\"yaxis\":\"y\",\"type\":\"scatter\"},{\"hovertemplate\":\"<b>%{hovertext}</b><br><br>job_title=Lead Machine Learning Engineer<br>work_year=2022<br>salary_in_usd=%{marker.size}<br>experience_level=%{y}<extra></extra>\",\"hovertext\":[\"Lead Machine Learning Engineer\"],\"legendgroup\":\"Lead Machine Learning Engineer\",\"marker\":{\"color\":\"rgb(254, 136, 177)\",\"size\":[87932],\"sizemode\":\"area\",\"sizeref\":1500.0,\"symbol\":\"circle\"},\"mode\":\"markers\",\"name\":\"Lead Machine Learning Engineer\",\"orientation\":\"h\",\"showlegend\":true,\"x\":[87932],\"xaxis\":\"x\",\"y\":[\"Senior\"],\"yaxis\":\"y\",\"type\":\"scatter\"},{\"hovertemplate\":\"<b>%{hovertext}</b><br><br>job_title=Data Analytics Lead<br>work_year=2022<br>salary_in_usd=%{marker.size}<br>experience_level=%{y}<extra></extra>\",\"hovertext\":[\"Data Analytics Lead\"],\"legendgroup\":\"Data Analytics Lead\",\"marker\":{\"color\":\"rgb(158, 185, 243)\",\"size\":[405000],\"sizemode\":\"area\",\"sizeref\":1500.0,\"symbol\":\"circle\"},\"mode\":\"markers\",\"name\":\"Data Analytics Lead\",\"orientation\":\"h\",\"showlegend\":true,\"x\":[405000],\"xaxis\":\"x\",\"y\":[\"Senior\"],\"yaxis\":\"y\",\"type\":\"scatter\"}],\"name\":\"2022\"}]);\n",
              "                        }).then(function(){\n",
              "                            \n",
              "var gd = document.getElementById('f9842ba1-15a4-49c7-87d4-0ccbea81fa85');\n",
              "var x = new MutationObserver(function (mutations, observer) {{\n",
              "        var display = window.getComputedStyle(gd).display;\n",
              "        if (!display || display === 'none') {{\n",
              "            console.log([gd, 'removed!']);\n",
              "            Plotly.purge(gd);\n",
              "            observer.disconnect();\n",
              "        }}\n",
              "}});\n",
              "\n",
              "// Listen for the removal of the full notebook cells\n",
              "var notebookContainer = gd.closest('#notebook-container');\n",
              "if (notebookContainer) {{\n",
              "    x.observe(notebookContainer, {childList: true});\n",
              "}}\n",
              "\n",
              "// Listen for the clearing of the current output cell\n",
              "var outputEl = gd.closest('.output');\n",
              "if (outputEl) {{\n",
              "    x.observe(outputEl, {childList: true});\n",
              "}}\n",
              "\n",
              "                        })                };                            </script>        </div>\n",
              "</body>\n",
              "</html>"
            ]
          },
          "metadata": {}
        }
      ]
    },
    {
      "cell_type": "markdown",
      "source": [
        "From the scatter plot we could observe that\n",
        "\n",
        "\n",
        "1.   Even with higher experience, the salary could be the same level with employee with greener experience.\n",
        "2.   Data Science field is working field with the most high salary.\n",
        "3.   In 2022, the average salary range is 100k - 200k USD.\n",
        "2.   From 2020 to 2022, the number of employee in data field is increasing.\n",
        "\n"
      ],
      "metadata": {
        "id": "RfkHzbqZNiwe"
      }
    },
    {
      "cell_type": "markdown",
      "source": [
        "# 5. Conclusion"
      ],
      "metadata": {
        "id": "S79kmNuiOyOJ"
      }
    },
    {
      "cell_type": "markdown",
      "source": [
        "The data field is high paid job. The average salary range is 100k - 200k USD. This kind of job popularity increase as the number of Entry and Mid level employee increasing from 2020 and 2022. Since most of the employee are from different country, working remotely is popular among employee working in the data field."
      ],
      "metadata": {
        "id": "2ZptxTrcO3BY"
      }
    },
    {
      "cell_type": "markdown",
      "source": [
        "# References"
      ],
      "metadata": {
        "id": "awy7pDQ7Qo-Q"
      }
    },
    {
      "cell_type": "markdown",
      "source": [
        "\n",
        "\n",
        "1.   [Datasets](https://www.kaggle.com/code/priyark/data-science-job-salaries-plotly-interactive-graph/data)\n",
        "2.   [Notebook](https://www.kaggle.com/code/priyark/data-science-job-salaries-plotly-interactive-graph)\n",
        "3. [Documentation](https://pandas.pydata.org/docs/reference/frame.html)\n",
        "4. [Converting country code](https://stackoverflow.com/questions/53923433/how-to-get-country-name-from-country-abbreviation-in-python-with-mix-of-alpha-2)\n",
        "\n"
      ],
      "metadata": {
        "id": "6dtH9y_9Qreq"
      }
    }
  ]
}